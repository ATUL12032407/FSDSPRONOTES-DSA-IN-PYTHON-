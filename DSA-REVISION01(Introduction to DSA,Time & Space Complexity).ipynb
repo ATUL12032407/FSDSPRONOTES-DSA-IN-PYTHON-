{
 "cells": [
  {
   "cell_type": "code",
   "execution_count": null,
   "id": "8149d0ef-640b-4700-92e8-ced88517f79f",
   "metadata": {},
   "outputs": [],
   "source": [
    "Data Structure and Algorithm :- Its all about arranging data. \n",
    "\n",
    "On a high level we do two things\n",
    "\n",
    " (i)- Storage\n",
    "(ii)- Computation "
   ]
  },
  {
   "cell_type": "code",
   "execution_count": null,
   "id": "cc5da401-0c17-4679-a15f-25fa8b7b1e5c",
   "metadata": {},
   "outputs": [],
   "source": [
    "As a data scientist if we want to work on a very scalable computation then we need to learn data structure."
   ]
  },
  {
   "cell_type": "code",
   "execution_count": null,
   "id": "64ec2753-b223-4588-9e7e-29ed0db0c3f0",
   "metadata": {},
   "outputs": [],
   "source": [
    "Algorithm:- Logical steps to solve any problem is called as algorithm."
   ]
  },
  {
   "cell_type": "code",
   "execution_count": null,
   "id": "ec0952e6-8d41-468c-9768-8884959b368c",
   "metadata": {},
   "outputs": [],
   "source": [
    "Any problem can be solved by multiple algorithms.We need to choose best algorithm to solve the problem so we will distinguish this based on two technique time and space complexity taken by that algorithms.\n"
   ]
  },
  {
   "cell_type": "code",
   "execution_count": null,
   "id": "fd29b9b0-1a3c-476d-aa9a-8ed35657ea75",
   "metadata": {},
   "outputs": [],
   "source": [
    "If A1 takes t1 seconds and A2 takes t2 secondscan we say that A1  is better than A2 ?\n",
    "\n",
    "Algorithms depends on Programming languague (Python is scripting languague),os. \n",
    "\n",
    "So we choose time complexity instead of only time taken."
   ]
  },
  {
   "cell_type": "code",
   "execution_count": null,
   "id": "4d2c4e56-b3c6-42f5-8ce4-5bd300d5c4ff",
   "metadata": {},
   "outputs": [],
   "source": [
    "Time Complexity :- Independent of os & programming languague.How thenumber of operationsare propotional to the input size."
   ]
  },
  {
   "cell_type": "code",
   "execution_count": null,
   "id": "f82275ac-9eb5-40ea-9914-f627ca488d92",
   "metadata": {},
   "outputs": [],
   "source": [
    "Exp:- \n",
    "\n",
    "def printnum(n):\n",
    "    for i in range(n):\n",
    "        print (\"hello\")\n",
    "        \n",
    "Time Complexity is O(n)     \n",
    "\n",
    "def printnum(n):\n",
    "        print (\"hello\")\n",
    "        \n",
    "In this case time Complexity is O(1) because number of operation is independent of input size.\n",
    "\n",
    "def printnum(n):\n",
    "    for i in range(n):\n",
    "        for j in range(n):\n",
    "            print (\"hello world\")\n",
    "    \n",
    "In this case time Complexity is O(n^2)\n",
    "\n",
    "def printnum(n):\n",
    "    i=1\n",
    "    while(i<n):\n",
    "        i=i*2\n",
    "        print (\"hello\")\n",
    "        \n",
    "Here number of operations is definetly less than n so time complexity cannot be O(n). Here 2^k = n so O(logn) will be time complexity.         \n",
    "        \n",
    "\n",
    "def printname(n):\n",
    "    for i in range(n):\n",
    "        while(j<n):\n",
    "            print(\"Hello\")\n",
    "\n",
    "In this case time Complexity is O(nlogn)            \n",
    "\n",
    "def printname(n):\n",
    "    for i in range(n):\n",
    "        for j in range(n):\n",
    "            print(\"Hello\")\n",
    "            break;\n",
    "            \n",
    "In this case time Complexity is O(n)  \n",
    "\n",
    "\n",
    "def printname(n):\n",
    "    i=s=1\n",
    "    while(s<n)\n",
    "    i+=1\n",
    "    s+=i\n",
    "    print(\"Hello\")\n",
    "    \n",
    "    \n",
    "Ans:- n=1  0\n",
    "      n=2  1\n",
    "      n=3  1\n",
    "        \n",
    "        (i) s=1\n",
    "       (ii) s=1+2\n",
    "      (iii) s=1+2+3\n",
    "    ..................\n",
    "        (k) s=1+2+3+4+.....+k\n",
    "        \n",
    "         Sk = k(k+1)/2 =n\n",
    "        Sk+1= (k+1)(k+2)/2\n",
    "    So time complexity is k^2 ∝ n\n",
    "    which implies  k ∝ _/n so time complexity is O(_/n)\n"
   ]
  },
  {
   "cell_type": "code",
   "execution_count": null,
   "id": "16a201a7-b7d6-4a8a-b709-4352918c1d86",
   "metadata": {},
   "outputs": [],
   "source": [
    "Types of Time Complexity:-\n",
    "\n",
    "  (i)- Omega(Best Case)\n",
    " (ii)- Thita(Average Case)\n",
    "(iii)- Big O(Worst Case)"
   ]
  },
  {
   "cell_type": "code",
   "execution_count": null,
   "id": "4e085a8f-4893-4fc2-a6d7-eeefa9bd6891",
   "metadata": {},
   "outputs": [],
   "source": [
    "Space Complexity:- Extra required space in proportional to input size."
   ]
  },
  {
   "cell_type": "code",
   "execution_count": null,
   "id": "9a1bf9b5-c60e-4ca8-8d63-3ec4c38931b5",
   "metadata": {},
   "outputs": [],
   "source": [
    "Exp:- [1,2,3,4,5]\n",
    "\n",
    "Today space is cheapest so we donot care too much about space complexity."
   ]
  },
  {
   "cell_type": "code",
   "execution_count": null,
   "id": "09da711f-c7a0-4035-9e05-1dd3c5b683d3",
   "metadata": {},
   "outputs": [],
   "source": [
    "Inplace algorithms:- Algorithms which doesnot required extra space is called inplace algorithms.In this algorithm we get constant space complexity."
   ]
  }
 ],
 "metadata": {
  "kernelspec": {
   "display_name": "Python 3 (ipykernel)",
   "language": "python",
   "name": "python3"
  },
  "language_info": {
   "codemirror_mode": {
    "name": "ipython",
    "version": 3
   },
   "file_extension": ".py",
   "mimetype": "text/x-python",
   "name": "python",
   "nbconvert_exporter": "python",
   "pygments_lexer": "ipython3",
   "version": "3.10.8"
  },
  "toc-showcode": true
 },
 "nbformat": 4,
 "nbformat_minor": 5
}
