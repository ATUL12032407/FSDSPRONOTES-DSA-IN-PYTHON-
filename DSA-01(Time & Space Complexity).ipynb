{
 "cells": [
  {
   "cell_type": "markdown",
   "id": "ad3a061a-930e-4143-8875-f2cee2cc9506",
   "metadata": {},
   "source": [
    "DSA - DATA STUCTURE AND ALGORITHM"
   ]
  },
  {
   "cell_type": "raw",
   "id": "4522e4b6-2b6b-49da-8fcd-f08a9b02b66c",
   "metadata": {},
   "source": [
    "                DATA STRUCTURE\n",
    "    \n",
    "    ----> efficiently store the data\n",
    "    2) parts:\n",
    "        1)Linear\n",
    "        2)NON-lineaer\n",
    "        \n",
    "\n",
    "LInear : ---Arrays\n",
    "         --->Linked list    \n",
    "         --->Stack and Quene\n",
    "         --->Harsh map(Dictionary)\n",
    "         \n",
    "Non-LInear:        \n",
    "            ----> Tree\n",
    "            ----> Graph\n",
    "            ---->Heap"
   ]
  },
  {
   "cell_type": "raw",
   "id": "810eb0f6-9c11-499c-87ce-b6a9b73726c2",
   "metadata": {},
   "source": [
    "\n",
    "DSA - gives good probllem solving Skills"
   ]
  },
  {
   "cell_type": "raw",
   "id": "d41e4e38-63f5-4c7d-9a60-f69125e1aa23",
   "metadata": {},
   "source": [
    "Algorithm - Set of instructions to solve a specific problem\n",
    "\n",
    "--> DIvide and conquere\n",
    "--> Greedy algorithm\n",
    "--> Dynamic programming"
   ]
  },
  {
   "cell_type": "raw",
   "id": "7b18c2a3-a1f6-4fb4-b675-c5cf5685a613",
   "metadata": {},
   "source": [
    "Time complexity: how much time is requied to execute the code\n",
    "     -->required less time complexity\n",
    "\n",
    "\n",
    "\n",
    "space complexity:\n",
    "    --> want less sapcer complexity"
   ]
  },
  {
   "cell_type": "markdown",
   "id": "4f17a917-161e-4486-9b49-17624e5abeba",
   "metadata": {},
   "source": [
    "ANALYSIS MODULE"
   ]
  },
  {
   "cell_type": "raw",
   "id": "ec822211-d70b-4fa8-b780-61688d52e93f",
   "metadata": {},
   "source": [
    "Module 1:\n",
    "    1)optmised code\n",
    "           |\n",
    "    2) time less and space less"
   ]
  },
  {
   "cell_type": "raw",
   "id": "923e3532-1438-4e7d-ab5f-4784c5506e42",
   "metadata": {},
   "source": [
    "Apriori Analysis:code is not depend on hardware system,writing a code on logical prospective\n",
    "            --> Approximation and logic\n",
    "            --> Not depends on hardware\n",
    "    (focus on this analysis)\n",
    "    \n",
    "    \n",
    "Apositary Analysis:\n",
    "    --> exact return and type of hardware(never focus on Apositary analysis)\n",
    "    (requird super computer)"
   ]
  },
  {
   "cell_type": "markdown",
   "id": "bdbd05ba-186d-4d25-8703-17cb6425c8a7",
   "metadata": {},
   "source": [
    "Apriori anlysis"
   ]
  },
  {
   "cell_type": "raw",
   "id": "32ac3356-dd33-4f2e-906f-12af423a9da6",
   "metadata": {},
   "source": [
    "(Time and Space complexity)"
   ]
  },
  {
   "cell_type": "raw",
   "id": "bba3e1d5-f763-41a3-90f0-1e2c1c918d60",
   "metadata": {},
   "source": [
    "Time complexity :Order of magnitude of the statement(no of times any statement is running or executing)"
   ]
  },
  {
   "cell_type": "markdown",
   "id": "3593df59-d246-4c5a-a11a-02a41a1fe43c",
   "metadata": {},
   "source": [
    "Complexity classes (in Increasing order)"
   ]
  },
  {
   "cell_type": "raw",
   "id": "ac4cdf3e-34d6-4fc8-85d5-5a2985a2ca75",
   "metadata": {},
   "source": [
    "(1) constant time complexity  --> O(1)\n",
    "(2) Logarithmic complexity ---> O(logn)(ex:binary search)\n",
    "(3) Linear complexity -----> O(n)\n",
    "(4) Quadratic complexity ---> O(n^2)\n",
    "(5) Cubic complexity ---->O(n^3)\n",
    "(6) Polynomial complexity --->O(n^c)\n",
    "(7)Exponential complexity --->O(2^n)/(C^n),c>1"
   ]
  },
  {
   "cell_type": "code",
   "execution_count": null,
   "id": "a53ed67d-fe15-429f-8284-fd3a11beecde",
   "metadata": {},
   "outputs": [],
   "source": [
    "Notations:\n",
    "    1) Asymptotic notation:\n",
    "        -Best case     ==> omega(n)\n",
    "        -Average case  ==>thetha(n)\n",
    "        -worst case(n is very high) ==> O(n)\n",
    "    2) "
   ]
  }
 ],
 "metadata": {
  "kernelspec": {
   "display_name": "Python 3 (ipykernel)",
   "language": "python",
   "name": "python3"
  },
  "language_info": {
   "codemirror_mode": {
    "name": "ipython",
    "version": 3
   },
   "file_extension": ".py",
   "mimetype": "text/x-python",
   "name": "python",
   "nbconvert_exporter": "python",
   "pygments_lexer": "ipython3",
   "version": "3.10.8"
  }
 },
 "nbformat": 4,
 "nbformat_minor": 5
}
