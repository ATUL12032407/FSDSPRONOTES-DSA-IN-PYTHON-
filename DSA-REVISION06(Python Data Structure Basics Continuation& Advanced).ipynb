{
 "cells": [
  {
   "cell_type": "code",
   "execution_count": null,
   "id": "2da34350-10a8-48f0-8a78-4658ebee5473",
   "metadata": {},
   "outputs": [],
   "source": [
    "Data Structure :-\n",
    "  (i)- String\n",
    " (ii)- List\n",
    "(iii)- Tuple\n",
    " (iv)- Set\n",
    "  (v)- Dictionary  "
   ]
  },
  {
   "cell_type": "code",
   "execution_count": null,
   "id": "b2a648ee-1653-4600-9df6-56146ce2aa16",
   "metadata": {},
   "outputs": [],
   "source": [
    "Todays agenda :-\n",
    "  (i)- Data Structures\n",
    " (ii)-Operators\n",
    "(iii)-Conditional Statements & Loops"
   ]
  },
  {
   "cell_type": "code",
   "execution_count": 2,
   "id": "570f2e87-422f-4599-8db4-4920d8a8551f",
   "metadata": {},
   "outputs": [],
   "source": [
    "l1=[2,3,4,\"Ajay\"]"
   ]
  },
  {
   "cell_type": "code",
   "execution_count": 3,
   "id": "7f819df7-ebd1-41c7-a82e-feb6f3406742",
   "metadata": {},
   "outputs": [
    {
     "data": {
      "text/plain": [
       "[2, 3, 4, 'Ajay']"
      ]
     },
     "execution_count": 3,
     "metadata": {},
     "output_type": "execute_result"
    }
   ],
   "source": [
    "l1"
   ]
  },
  {
   "cell_type": "code",
   "execution_count": 4,
   "id": "875449cf-31dd-45b0-afd5-4dca935b2c0a",
   "metadata": {},
   "outputs": [
    {
     "data": {
      "text/plain": [
       "list"
      ]
     },
     "execution_count": 4,
     "metadata": {},
     "output_type": "execute_result"
    }
   ],
   "source": [
    "type(l1)"
   ]
  },
  {
   "cell_type": "code",
   "execution_count": 5,
   "id": "8767cb23-c98f-477a-9b41-3adda586c154",
   "metadata": {},
   "outputs": [],
   "source": [
    "l1.append(\"Ram\")"
   ]
  },
  {
   "cell_type": "code",
   "execution_count": 6,
   "id": "637f03c1-9574-44ab-afff-cb4f7628a782",
   "metadata": {},
   "outputs": [
    {
     "data": {
      "text/plain": [
       "[2, 3, 4, 'Ajay', 'Ram']"
      ]
     },
     "execution_count": 6,
     "metadata": {},
     "output_type": "execute_result"
    }
   ],
   "source": [
    "l1"
   ]
  },
  {
   "cell_type": "code",
   "execution_count": null,
   "id": "a9ae1448-2992-49f0-b92b-d0bd69f5e2ff",
   "metadata": {},
   "outputs": [],
   "source": [
    "Industry Use Case of append: We intialize empty list then append using loops"
   ]
  },
  {
   "cell_type": "code",
   "execution_count": 7,
   "id": "467a7258-d269-44e2-a745-cfd58598336e",
   "metadata": {},
   "outputs": [],
   "source": [
    "l2= [\"Yusuf\",\"Vanshika\"]"
   ]
  },
  {
   "cell_type": "code",
   "execution_count": 8,
   "id": "19126f18-42ef-4935-96de-408882fa9cd2",
   "metadata": {},
   "outputs": [
    {
     "data": {
      "text/plain": [
       "[2, 3, 4, 'Ajay', 'Ram', 'Yusuf', 'Vanshika']"
      ]
     },
     "execution_count": 8,
     "metadata": {},
     "output_type": "execute_result"
    }
   ],
   "source": [
    "l1+l2"
   ]
  },
  {
   "cell_type": "code",
   "execution_count": 10,
   "id": "362774f9-99a2-41b9-9071-7211184ab445",
   "metadata": {},
   "outputs": [],
   "source": [
    "l1.extend(l2)"
   ]
  },
  {
   "cell_type": "code",
   "execution_count": 11,
   "id": "9a433868-5edd-420e-aba8-45138c20af7c",
   "metadata": {},
   "outputs": [
    {
     "data": {
      "text/plain": [
       "[2, 3, 4, 'Ajay', 'Ram', 'Yusuf', 'Vanshika', 'Yusuf', 'Vanshika']"
      ]
     },
     "execution_count": 11,
     "metadata": {},
     "output_type": "execute_result"
    }
   ],
   "source": [
    "l1"
   ]
  },
  {
   "cell_type": "code",
   "execution_count": null,
   "id": "104f29b8-a53d-4a1f-a402-14a4aa6ac45e",
   "metadata": {},
   "outputs": [],
   "source": [
    "Extend didnot gives any result but it changesin the original list."
   ]
  },
  {
   "cell_type": "code",
   "execution_count": 13,
   "id": "7565587e-542f-4831-bb3b-a43fc6ed28d6",
   "metadata": {},
   "outputs": [
    {
     "data": {
      "text/plain": [
       "[2, 3, 4, 'Ajay', 'Ram', 'Yusuf', 'Vanshika', 'Yusuf', 'Vanshika']"
      ]
     },
     "execution_count": 13,
     "metadata": {},
     "output_type": "execute_result"
    }
   ],
   "source": [
    "l1"
   ]
  },
  {
   "cell_type": "code",
   "execution_count": 14,
   "id": "5f82a3d9-a049-4820-af81-a254a363c2da",
   "metadata": {},
   "outputs": [],
   "source": [
    "l1.append(\"Atul\")"
   ]
  },
  {
   "cell_type": "code",
   "execution_count": 15,
   "id": "f2dcdfe1-cd5f-4e7e-afbe-fbe9acd1decd",
   "metadata": {},
   "outputs": [
    {
     "data": {
      "text/plain": [
       "[2, 3, 4, 'Ajay', 'Ram', 'Yusuf', 'Vanshika', 'Yusuf', 'Vanshika', 'Atul']"
      ]
     },
     "execution_count": 15,
     "metadata": {},
     "output_type": "execute_result"
    }
   ],
   "source": [
    "l1"
   ]
  },
  {
   "cell_type": "code",
   "execution_count": 16,
   "id": "68d1f9f9-9088-422c-b0ff-b90ca40d3fef",
   "metadata": {},
   "outputs": [
    {
     "data": {
      "text/plain": [
       "['Yusuf', 'Vanshika']"
      ]
     },
     "execution_count": 16,
     "metadata": {},
     "output_type": "execute_result"
    }
   ],
   "source": [
    "l2"
   ]
  },
  {
   "cell_type": "code",
   "execution_count": 17,
   "id": "3e5c0b86-b795-41b7-ba0e-1a315533cad4",
   "metadata": {},
   "outputs": [],
   "source": [
    "l1.extend(l2)"
   ]
  },
  {
   "cell_type": "code",
   "execution_count": 18,
   "id": "517fe011-a6b1-4d92-a487-6b6784badf79",
   "metadata": {},
   "outputs": [
    {
     "data": {
      "text/plain": [
       "[2,\n",
       " 3,\n",
       " 4,\n",
       " 'Ajay',\n",
       " 'Ram',\n",
       " 'Yusuf',\n",
       " 'Vanshika',\n",
       " 'Yusuf',\n",
       " 'Vanshika',\n",
       " 'Atul',\n",
       " 'Yusuf',\n",
       " 'Vanshika']"
      ]
     },
     "execution_count": 18,
     "metadata": {},
     "output_type": "execute_result"
    }
   ],
   "source": [
    "l1"
   ]
  },
  {
   "cell_type": "code",
   "execution_count": null,
   "id": "77c942eb-bab0-43b2-bf3a-2cf138b07046",
   "metadata": {},
   "outputs": [],
   "source": [
    "Append and extend changes the origina list."
   ]
  },
  {
   "cell_type": "code",
   "execution_count": 19,
   "id": "06f6d21e-a962-442a-8974-aaf12d76ac7a",
   "metadata": {},
   "outputs": [
    {
     "data": {
      "text/plain": [
       "[2,\n",
       " 3,\n",
       " 4,\n",
       " 'Ajay',\n",
       " 'Ram',\n",
       " 'Yusuf',\n",
       " 'Vanshika',\n",
       " 'Yusuf',\n",
       " 'Vanshika',\n",
       " 'Atul',\n",
       " 'Yusuf',\n",
       " 'Vanshika']"
      ]
     },
     "execution_count": 19,
     "metadata": {},
     "output_type": "execute_result"
    }
   ],
   "source": [
    "l1"
   ]
  },
  {
   "cell_type": "code",
   "execution_count": 20,
   "id": "266068c3-11ea-4ac9-a78a-4e33851c4df0",
   "metadata": {},
   "outputs": [],
   "source": [
    "l1.insert(3,'Samiksha')"
   ]
  },
  {
   "cell_type": "code",
   "execution_count": 21,
   "id": "1e32503b-3f67-4065-9d6d-8f0606d63c83",
   "metadata": {},
   "outputs": [
    {
     "data": {
      "text/plain": [
       "[2,\n",
       " 3,\n",
       " 4,\n",
       " 'Samiksha',\n",
       " 'Ajay',\n",
       " 'Ram',\n",
       " 'Yusuf',\n",
       " 'Vanshika',\n",
       " 'Yusuf',\n",
       " 'Vanshika',\n",
       " 'Atul',\n",
       " 'Yusuf',\n",
       " 'Vanshika']"
      ]
     },
     "execution_count": 21,
     "metadata": {},
     "output_type": "execute_result"
    }
   ],
   "source": [
    "l1"
   ]
  },
  {
   "cell_type": "code",
   "execution_count": null,
   "id": "1fdae62a-b076-4c50-a0f5-7178d2b74dd8",
   "metadata": {},
   "outputs": [],
   "source": [
    "In industry we willinitialize ome envoirnment variable.There we use in industry."
   ]
  },
  {
   "cell_type": "code",
   "execution_count": 22,
   "id": "5ef6689f-7311-4a36-af20-de5b1832dbe7",
   "metadata": {},
   "outputs": [
    {
     "data": {
      "text/plain": [
       "[2,\n",
       " 3,\n",
       " 4,\n",
       " 'Samiksha',\n",
       " 'Ajay',\n",
       " 'Ram',\n",
       " 'Yusuf',\n",
       " 'Vanshika',\n",
       " 'Yusuf',\n",
       " 'Vanshika',\n",
       " 'Atul',\n",
       " 'Yusuf',\n",
       " 'Vanshika']"
      ]
     },
     "execution_count": 22,
     "metadata": {},
     "output_type": "execute_result"
    }
   ],
   "source": [
    "l1"
   ]
  },
  {
   "cell_type": "code",
   "execution_count": 23,
   "id": "277c9a73-fee3-47c2-b8a9-b923a35b3643",
   "metadata": {},
   "outputs": [
    {
     "data": {
      "text/plain": [
       "'Vanshika'"
      ]
     },
     "execution_count": 23,
     "metadata": {},
     "output_type": "execute_result"
    }
   ],
   "source": [
    "l1.pop()"
   ]
  },
  {
   "cell_type": "code",
   "execution_count": 24,
   "id": "7995793f-b8f8-444d-b472-92d021d7774f",
   "metadata": {},
   "outputs": [
    {
     "data": {
      "text/plain": [
       "[2,\n",
       " 3,\n",
       " 4,\n",
       " 'Samiksha',\n",
       " 'Ajay',\n",
       " 'Ram',\n",
       " 'Yusuf',\n",
       " 'Vanshika',\n",
       " 'Yusuf',\n",
       " 'Vanshika',\n",
       " 'Atul',\n",
       " 'Yusuf']"
      ]
     },
     "execution_count": 24,
     "metadata": {},
     "output_type": "execute_result"
    }
   ],
   "source": [
    "l1"
   ]
  },
  {
   "cell_type": "code",
   "execution_count": 26,
   "id": "06074f83-c5d2-44f2-a0f5-64df959e1932",
   "metadata": {},
   "outputs": [
    {
     "data": {
      "text/plain": [
       "3"
      ]
     },
     "execution_count": 26,
     "metadata": {},
     "output_type": "execute_result"
    }
   ],
   "source": [
    "l1.pop(1)"
   ]
  },
  {
   "cell_type": "code",
   "execution_count": 27,
   "id": "9345b5c9-b96a-4fc3-be49-0de5a1015895",
   "metadata": {},
   "outputs": [
    {
     "data": {
      "text/plain": [
       "[2,\n",
       " 'Samiksha',\n",
       " 'Ajay',\n",
       " 'Ram',\n",
       " 'Yusuf',\n",
       " 'Vanshika',\n",
       " 'Yusuf',\n",
       " 'Vanshika',\n",
       " 'Atul',\n",
       " 'Yusuf']"
      ]
     },
     "execution_count": 27,
     "metadata": {},
     "output_type": "execute_result"
    }
   ],
   "source": [
    "l1"
   ]
  },
  {
   "cell_type": "code",
   "execution_count": 34,
   "id": "640aa143-80c5-456a-823e-21927b9fc223",
   "metadata": {},
   "outputs": [],
   "source": [
    "l1=[1,2,3,4,5,4]"
   ]
  },
  {
   "cell_type": "code",
   "execution_count": 35,
   "id": "8a0c757c-1e89-4565-9165-32ae62bface6",
   "metadata": {},
   "outputs": [],
   "source": [
    "l1.remove(4)"
   ]
  },
  {
   "cell_type": "code",
   "execution_count": 36,
   "id": "e34eb45d-49c2-4c72-86af-a60a31bc95f8",
   "metadata": {},
   "outputs": [
    {
     "data": {
      "text/plain": [
       "[1, 2, 3, 5, 4]"
      ]
     },
     "execution_count": 36,
     "metadata": {},
     "output_type": "execute_result"
    }
   ],
   "source": [
    "l1"
   ]
  },
  {
   "cell_type": "code",
   "execution_count": null,
   "id": "fe40a6e3-c764-4e6f-aa7e-9e09fa552d80",
   "metadata": {},
   "outputs": [],
   "source": [
    "remove removes the first occurence only."
   ]
  },
  {
   "cell_type": "code",
   "execution_count": 37,
   "id": "2c39d648-7a03-4945-bb7b-e3b9a6eaa32d",
   "metadata": {},
   "outputs": [
    {
     "data": {
      "text/plain": [
       "[1, 2, 3, 5, 4]"
      ]
     },
     "execution_count": 37,
     "metadata": {},
     "output_type": "execute_result"
    }
   ],
   "source": [
    "l1"
   ]
  },
  {
   "cell_type": "code",
   "execution_count": 38,
   "id": "cdae2009-3ae4-4d50-9eea-2de170d1ed86",
   "metadata": {},
   "outputs": [],
   "source": [
    "l1.clear()"
   ]
  },
  {
   "cell_type": "code",
   "execution_count": 39,
   "id": "5637cdda-c05b-4e4e-84dd-c68c80bebcae",
   "metadata": {},
   "outputs": [
    {
     "data": {
      "text/plain": [
       "[]"
      ]
     },
     "execution_count": 39,
     "metadata": {},
     "output_type": "execute_result"
    }
   ],
   "source": [
    "l1"
   ]
  },
  {
   "cell_type": "code",
   "execution_count": 40,
   "id": "0d0233c6-900e-4c5d-80b5-bb03dce568ae",
   "metadata": {},
   "outputs": [],
   "source": [
    "del l1"
   ]
  },
  {
   "cell_type": "code",
   "execution_count": 41,
   "id": "ed5c410e-9a70-4458-8f4d-fd6c76c4ad7e",
   "metadata": {},
   "outputs": [
    {
     "ename": "NameError",
     "evalue": "name 'l1' is not defined",
     "output_type": "error",
     "traceback": [
      "\u001b[0;31m---------------------------------------------------------------------------\u001b[0m",
      "\u001b[0;31mNameError\u001b[0m                                 Traceback (most recent call last)",
      "Cell \u001b[0;32mIn[41], line 1\u001b[0m\n\u001b[0;32m----> 1\u001b[0m \u001b[43ml1\u001b[49m\n",
      "\u001b[0;31mNameError\u001b[0m: name 'l1' is not defined"
     ]
    }
   ],
   "source": [
    "l1"
   ]
  },
  {
   "cell_type": "code",
   "execution_count": 44,
   "id": "79ff1930-b539-4158-9f64-79474a2eaeca",
   "metadata": {},
   "outputs": [],
   "source": [
    "l1 =[\"Ram\",\"Ajay\",\"\"]"
   ]
  },
  {
   "cell_type": "code",
   "execution_count": 45,
   "id": "2b216063-5cd9-4ad4-b6c0-7a37fac1c9d8",
   "metadata": {},
   "outputs": [
    {
     "data": {
      "text/plain": [
       "['Ram', 'Ajay', '']"
      ]
     },
     "execution_count": 45,
     "metadata": {},
     "output_type": "execute_result"
    }
   ],
   "source": [
    "l1"
   ]
  },
  {
   "cell_type": "code",
   "execution_count": 46,
   "id": "6d9dd6f0-f5e5-461a-96dd-d4ba54439116",
   "metadata": {},
   "outputs": [],
   "source": [
    "del l1"
   ]
  },
  {
   "cell_type": "code",
   "execution_count": 47,
   "id": "6671e114-a22c-469f-af07-aba8c77c4496",
   "metadata": {},
   "outputs": [],
   "source": [
    "a={1,2,3}"
   ]
  },
  {
   "cell_type": "code",
   "execution_count": 48,
   "id": "6a44258e-c44f-4c76-b4b7-b58dcd16ded2",
   "metadata": {},
   "outputs": [],
   "source": [
    "del a"
   ]
  },
  {
   "cell_type": "code",
   "execution_count": 49,
   "id": "ca13f985-45dd-4d03-8ece-506fc4fa3c7d",
   "metadata": {},
   "outputs": [
    {
     "ename": "NameError",
     "evalue": "name 'a' is not defined",
     "output_type": "error",
     "traceback": [
      "\u001b[0;31m---------------------------------------------------------------------------\u001b[0m",
      "\u001b[0;31mNameError\u001b[0m                                 Traceback (most recent call last)",
      "Cell \u001b[0;32mIn[49], line 1\u001b[0m\n\u001b[0;32m----> 1\u001b[0m \u001b[43ma\u001b[49m\n",
      "\u001b[0;31mNameError\u001b[0m: name 'a' is not defined"
     ]
    }
   ],
   "source": [
    "a"
   ]
  },
  {
   "cell_type": "code",
   "execution_count": 50,
   "id": "d69d8a1e-4155-49e2-831a-3cef9b4dc1dc",
   "metadata": {},
   "outputs": [
    {
     "ename": "NameError",
     "evalue": "name 'l1' is not defined",
     "output_type": "error",
     "traceback": [
      "\u001b[0;31m---------------------------------------------------------------------------\u001b[0m",
      "\u001b[0;31mNameError\u001b[0m                                 Traceback (most recent call last)",
      "Cell \u001b[0;32mIn[50], line 1\u001b[0m\n\u001b[0;32m----> 1\u001b[0m \u001b[43ml1\u001b[49m\n",
      "\u001b[0;31mNameError\u001b[0m: name 'l1' is not defined"
     ]
    }
   ],
   "source": [
    "l1"
   ]
  },
  {
   "cell_type": "code",
   "execution_count": 54,
   "id": "fa87680b-2810-4714-93b7-c05cadf678dc",
   "metadata": {},
   "outputs": [],
   "source": [
    "l1=[\"Ram\",\"Ajay\",\"Vanshika\",\"Kusum\",\"Kusum\"]"
   ]
  },
  {
   "cell_type": "code",
   "execution_count": 55,
   "id": "144b6dce-4032-448d-89b1-b14438fc3db4",
   "metadata": {},
   "outputs": [
    {
     "data": {
      "text/plain": [
       "['Ram', 'Ajay', 'Vanshika', 'Kusum', 'Kusum']"
      ]
     },
     "execution_count": 55,
     "metadata": {},
     "output_type": "execute_result"
    }
   ],
   "source": [
    "l1"
   ]
  },
  {
   "cell_type": "code",
   "execution_count": 56,
   "id": "c4240483-8a29-48db-9b02-e27c3f1be2cc",
   "metadata": {},
   "outputs": [
    {
     "data": {
      "text/plain": [
       "2"
      ]
     },
     "execution_count": 56,
     "metadata": {},
     "output_type": "execute_result"
    }
   ],
   "source": [
    "l1.count(\"Kusum\")"
   ]
  },
  {
   "cell_type": "code",
   "execution_count": 57,
   "id": "f6c062fe-0597-4c57-bd82-20aafe7cd9b2",
   "metadata": {},
   "outputs": [
    {
     "data": {
      "text/plain": [
       "1"
      ]
     },
     "execution_count": 57,
     "metadata": {},
     "output_type": "execute_result"
    }
   ],
   "source": [
    "l1.index(\"Ajay\")"
   ]
  },
  {
   "cell_type": "code",
   "execution_count": 58,
   "id": "b45d2d95-dc37-411c-8f24-5c0705bf821b",
   "metadata": {},
   "outputs": [],
   "source": [
    "l1.reverse()"
   ]
  },
  {
   "cell_type": "code",
   "execution_count": 59,
   "id": "38280712-b5ce-4f27-b924-fb2de9744151",
   "metadata": {},
   "outputs": [
    {
     "data": {
      "text/plain": [
       "['Kusum', 'Kusum', 'Vanshika', 'Ajay', 'Ram']"
      ]
     },
     "execution_count": 59,
     "metadata": {},
     "output_type": "execute_result"
    }
   ],
   "source": [
    "l1"
   ]
  },
  {
   "cell_type": "code",
   "execution_count": 64,
   "id": "b723c073-c98d-4e15-bdaa-fa2da0c54850",
   "metadata": {},
   "outputs": [],
   "source": [
    "l1=[1,3,2]"
   ]
  },
  {
   "cell_type": "code",
   "execution_count": 65,
   "id": "a81ed933-d73c-4022-8b48-fb6b1d6eef08",
   "metadata": {},
   "outputs": [],
   "source": [
    "l1.reverse()"
   ]
  },
  {
   "cell_type": "code",
   "execution_count": 66,
   "id": "97f54a60-8c39-4ffd-91b4-8bbc0cca771f",
   "metadata": {},
   "outputs": [
    {
     "data": {
      "text/plain": [
       "[2, 3, 1]"
      ]
     },
     "execution_count": 66,
     "metadata": {},
     "output_type": "execute_result"
    }
   ],
   "source": [
    "l1"
   ]
  },
  {
   "cell_type": "code",
   "execution_count": 67,
   "id": "4c22e196-d9a7-4c9e-816e-bd57f8b3b68f",
   "metadata": {},
   "outputs": [],
   "source": [
    "l1=[1,2,3,8,9,5]"
   ]
  },
  {
   "cell_type": "code",
   "execution_count": 68,
   "id": "cf71d48a-f308-4bbe-92db-83f41ebbb383",
   "metadata": {},
   "outputs": [
    {
     "data": {
      "text/plain": [
       "[1, 2, 3, 8, 9, 5]"
      ]
     },
     "execution_count": 68,
     "metadata": {},
     "output_type": "execute_result"
    }
   ],
   "source": [
    "l1"
   ]
  },
  {
   "cell_type": "code",
   "execution_count": 69,
   "id": "2663e82c-eda2-4ca8-9a9e-0eacb2b753b2",
   "metadata": {},
   "outputs": [],
   "source": [
    "l1.sort()"
   ]
  },
  {
   "cell_type": "code",
   "execution_count": 70,
   "id": "202636ae-b805-4741-a6c5-7430ccf8cc94",
   "metadata": {},
   "outputs": [
    {
     "data": {
      "text/plain": [
       "[1, 2, 3, 5, 8, 9]"
      ]
     },
     "execution_count": 70,
     "metadata": {},
     "output_type": "execute_result"
    }
   ],
   "source": [
    "l1"
   ]
  },
  {
   "cell_type": "code",
   "execution_count": 71,
   "id": "f073c9ee-0a09-44f1-910a-7be0c60bd3f5",
   "metadata": {},
   "outputs": [
    {
     "data": {
      "text/plain": [
       "['Ram', 'Ajay', 'Vanshika', 'Kusum', 'Kusum']"
      ]
     },
     "execution_count": 71,
     "metadata": {},
     "output_type": "execute_result"
    }
   ],
   "source": [
    "l1=[\"Ram\",\"Ajay\",\"Vanshika\",\"Kusum\",\"Kusum\"]\n",
    "l1"
   ]
  },
  {
   "cell_type": "code",
   "execution_count": 72,
   "id": "8dcdccf4-419b-46e3-a816-a602ceaa0501",
   "metadata": {},
   "outputs": [],
   "source": [
    "l1.sort()"
   ]
  },
  {
   "cell_type": "code",
   "execution_count": 73,
   "id": "4c28789a-bcc0-4f22-b8a9-eca527cc12f9",
   "metadata": {},
   "outputs": [
    {
     "data": {
      "text/plain": [
       "['Ajay', 'Kusum', 'Kusum', 'Ram', 'Vanshika']"
      ]
     },
     "execution_count": 73,
     "metadata": {},
     "output_type": "execute_result"
    }
   ],
   "source": [
    "l1"
   ]
  },
  {
   "cell_type": "code",
   "execution_count": 74,
   "id": "22f2668b-766b-420d-a2ad-391e69019be2",
   "metadata": {},
   "outputs": [],
   "source": [
    "l1.sort(reverse= True)"
   ]
  },
  {
   "cell_type": "code",
   "execution_count": 75,
   "id": "f75056d8-2638-4019-9416-66cda3bd79fd",
   "metadata": {},
   "outputs": [
    {
     "data": {
      "text/plain": [
       "['Vanshika', 'Ram', 'Kusum', 'Kusum', 'Ajay']"
      ]
     },
     "execution_count": 75,
     "metadata": {},
     "output_type": "execute_result"
    }
   ],
   "source": [
    "l1"
   ]
  },
  {
   "cell_type": "code",
   "execution_count": 83,
   "id": "341480a8-7aba-4fb6-9f39-0da4f530f834",
   "metadata": {},
   "outputs": [],
   "source": [
    "l1=[2,3,4,5]\n",
    "l2 = l1"
   ]
  },
  {
   "cell_type": "code",
   "execution_count": 84,
   "id": "262a88e4-95cd-4f77-97b0-05ba01eb72ac",
   "metadata": {},
   "outputs": [
    {
     "name": "stdout",
     "output_type": "stream",
     "text": [
      "[2, 3, 4, 5]\n"
     ]
    }
   ],
   "source": [
    "print(l2)"
   ]
  },
  {
   "cell_type": "code",
   "execution_count": 85,
   "id": "9ea7e77b-e8bd-4a5f-87e7-277ca71dc699",
   "metadata": {},
   "outputs": [],
   "source": [
    "l1[0] =101"
   ]
  },
  {
   "cell_type": "code",
   "execution_count": 86,
   "id": "943c94b6-dda0-479a-a295-a64807949fa4",
   "metadata": {},
   "outputs": [
    {
     "data": {
      "text/plain": [
       "[101, 3, 4, 5]"
      ]
     },
     "execution_count": 86,
     "metadata": {},
     "output_type": "execute_result"
    }
   ],
   "source": [
    "l1"
   ]
  },
  {
   "cell_type": "code",
   "execution_count": 87,
   "id": "8f1b0722-322a-4692-9920-a85e831d4544",
   "metadata": {},
   "outputs": [
    {
     "data": {
      "text/plain": [
       "[101, 3, 4, 5]"
      ]
     },
     "execution_count": 87,
     "metadata": {},
     "output_type": "execute_result"
    }
   ],
   "source": [
    "l1"
   ]
  },
  {
   "cell_type": "code",
   "execution_count": 88,
   "id": "3f234db8-0676-401e-af87-e729f97848e4",
   "metadata": {},
   "outputs": [
    {
     "data": {
      "text/plain": [
       "[101, 3, 4, 5]"
      ]
     },
     "execution_count": 88,
     "metadata": {},
     "output_type": "execute_result"
    }
   ],
   "source": [
    "l2"
   ]
  },
  {
   "cell_type": "code",
   "execution_count": 89,
   "id": "28516c61-908f-4317-9987-c434ca01f61b",
   "metadata": {},
   "outputs": [],
   "source": [
    "l2 =l1 .copy()"
   ]
  },
  {
   "cell_type": "code",
   "execution_count": 90,
   "id": "df5a27cd-47a6-44c6-8c10-61239d51bc8a",
   "metadata": {},
   "outputs": [
    {
     "data": {
      "text/plain": [
       "[101, 3, 4, 5]"
      ]
     },
     "execution_count": 90,
     "metadata": {},
     "output_type": "execute_result"
    }
   ],
   "source": [
    "l2"
   ]
  },
  {
   "cell_type": "code",
   "execution_count": 91,
   "id": "7c4aeb03-01ee-4e65-b6cd-fb287e1f1675",
   "metadata": {},
   "outputs": [
    {
     "data": {
      "text/plain": [
       "[101, 3, 4, 5]"
      ]
     },
     "execution_count": 91,
     "metadata": {},
     "output_type": "execute_result"
    }
   ],
   "source": [
    "l1"
   ]
  },
  {
   "cell_type": "code",
   "execution_count": 92,
   "id": "dbf96381-08c8-41cc-9cee-4a092e388754",
   "metadata": {},
   "outputs": [],
   "source": [
    "l1[0] = 110"
   ]
  },
  {
   "cell_type": "code",
   "execution_count": 93,
   "id": "bf0a4304-9035-452e-a566-bcea2d9ace3f",
   "metadata": {},
   "outputs": [
    {
     "data": {
      "text/plain": [
       "[101, 3, 4, 5]"
      ]
     },
     "execution_count": 93,
     "metadata": {},
     "output_type": "execute_result"
    }
   ],
   "source": [
    "l2"
   ]
  },
  {
   "cell_type": "code",
   "execution_count": null,
   "id": "e1055854-1028-41a7-80a8-0798415915c6",
   "metadata": {},
   "outputs": [],
   "source": [
    "## Deep copy and Shallow copy. "
   ]
  },
  {
   "cell_type": "code",
   "execution_count": null,
   "id": "e2407924-c749-4c77-9709-82d25802aa66",
   "metadata": {},
   "outputs": [],
   "source": [
    "We cannot change in deep copy but   change will reflect in case of shallow copy."
   ]
  },
  {
   "cell_type": "code",
   "execution_count": 94,
   "id": "90aa449b-74fd-43a2-a099-46abc936e4ae",
   "metadata": {},
   "outputs": [],
   "source": [
    "## Tuples "
   ]
  },
  {
   "cell_type": "code",
   "execution_count": 108,
   "id": "41396f78-8d2b-4fb6-9b7b-2439b760018d",
   "metadata": {},
   "outputs": [],
   "source": [
    "t =(2,3,4,5,6,5,7,100)"
   ]
  },
  {
   "cell_type": "code",
   "execution_count": 109,
   "id": "f8bfeb2e-ae63-4839-8466-4b55e43c0305",
   "metadata": {},
   "outputs": [
    {
     "data": {
      "text/plain": [
       "tuple"
      ]
     },
     "execution_count": 109,
     "metadata": {},
     "output_type": "execute_result"
    }
   ],
   "source": [
    "type(t)"
   ]
  },
  {
   "cell_type": "code",
   "execution_count": 110,
   "id": "74fc3da7-864e-4a17-8363-2cb48542be37",
   "metadata": {},
   "outputs": [
    {
     "data": {
      "text/plain": [
       "2"
      ]
     },
     "execution_count": 110,
     "metadata": {},
     "output_type": "execute_result"
    }
   ],
   "source": [
    "t.count(5)"
   ]
  },
  {
   "cell_type": "code",
   "execution_count": 111,
   "id": "dc9a6353-2680-48c8-ba55-efc5ef3a2e45",
   "metadata": {},
   "outputs": [
    {
     "data": {
      "text/plain": [
       "3"
      ]
     },
     "execution_count": 111,
     "metadata": {},
     "output_type": "execute_result"
    }
   ],
   "source": [
    "t.index(5)"
   ]
  },
  {
   "cell_type": "code",
   "execution_count": 112,
   "id": "e7538213-87e7-444f-bbe7-381de75b7a7b",
   "metadata": {},
   "outputs": [
    {
     "data": {
      "text/plain": [
       "2"
      ]
     },
     "execution_count": 112,
     "metadata": {},
     "output_type": "execute_result"
    }
   ],
   "source": [
    "t[0]"
   ]
  },
  {
   "cell_type": "code",
   "execution_count": 113,
   "id": "b21e655b-4804-4386-ad49-143f3802eaba",
   "metadata": {},
   "outputs": [
    {
     "data": {
      "text/plain": [
       "8"
      ]
     },
     "execution_count": 113,
     "metadata": {},
     "output_type": "execute_result"
    }
   ],
   "source": [
    "len(t)"
   ]
  },
  {
   "cell_type": "code",
   "execution_count": 114,
   "id": "e09ad2bc-a2e4-443c-bf64-a2c735b106b5",
   "metadata": {},
   "outputs": [
    {
     "data": {
      "text/plain": [
       "100"
      ]
     },
     "execution_count": 114,
     "metadata": {},
     "output_type": "execute_result"
    }
   ],
   "source": [
    "max(t)"
   ]
  },
  {
   "cell_type": "code",
   "execution_count": 115,
   "id": "2817c6e7-b418-4cbc-94d1-197f5a12ddce",
   "metadata": {},
   "outputs": [
    {
     "data": {
      "text/plain": [
       "2"
      ]
     },
     "execution_count": 115,
     "metadata": {},
     "output_type": "execute_result"
    }
   ],
   "source": [
    "min(t)"
   ]
  },
  {
   "cell_type": "code",
   "execution_count": 116,
   "id": "20a4391e-5b3b-4710-90e0-c3589c89ed57",
   "metadata": {},
   "outputs": [
    {
     "data": {
      "text/plain": [
       "132"
      ]
     },
     "execution_count": 116,
     "metadata": {},
     "output_type": "execute_result"
    }
   ],
   "source": [
    "sum(t)"
   ]
  },
  {
   "cell_type": "code",
   "execution_count": 117,
   "id": "9b32c579-8350-4711-8922-4ae04e09b229",
   "metadata": {},
   "outputs": [],
   "source": [
    "## Set "
   ]
  },
  {
   "cell_type": "code",
   "execution_count": 121,
   "id": "7bbd77bb-fde1-4f21-a448-f793d53335d5",
   "metadata": {},
   "outputs": [],
   "source": [
    "s ={2}"
   ]
  },
  {
   "cell_type": "code",
   "execution_count": 124,
   "id": "aa5110fc-a7f1-46c3-9cde-e3e559d27803",
   "metadata": {},
   "outputs": [],
   "source": [
    "s.clear()"
   ]
  },
  {
   "cell_type": "code",
   "execution_count": 125,
   "id": "17f83682-6a17-4dd3-bb9f-23052a3ca373",
   "metadata": {},
   "outputs": [
    {
     "data": {
      "text/plain": [
       "set()"
      ]
     },
     "execution_count": 125,
     "metadata": {},
     "output_type": "execute_result"
    }
   ],
   "source": [
    "s"
   ]
  },
  {
   "cell_type": "code",
   "execution_count": 126,
   "id": "8c40d684-9bc1-4b57-b26f-9b771907b959",
   "metadata": {},
   "outputs": [],
   "source": [
    "s={2,3,4,5}"
   ]
  },
  {
   "cell_type": "code",
   "execution_count": 127,
   "id": "15f5a5fc-75fc-48f9-a9b6-fc75e22d8a84",
   "metadata": {},
   "outputs": [
    {
     "data": {
      "text/plain": [
       "set"
      ]
     },
     "execution_count": 127,
     "metadata": {},
     "output_type": "execute_result"
    }
   ],
   "source": [
    "type(s)"
   ]
  },
  {
   "cell_type": "code",
   "execution_count": 128,
   "id": "614e9e84-b475-4718-bd2f-babee3204b78",
   "metadata": {},
   "outputs": [],
   "source": [
    "s.add(123)"
   ]
  },
  {
   "cell_type": "code",
   "execution_count": 129,
   "id": "f2bff081-4864-4bb4-8ac6-1e88f27a5079",
   "metadata": {},
   "outputs": [
    {
     "data": {
      "text/plain": [
       "{2, 3, 4, 5, 123}"
      ]
     },
     "execution_count": 129,
     "metadata": {},
     "output_type": "execute_result"
    }
   ],
   "source": [
    "s"
   ]
  },
  {
   "cell_type": "code",
   "execution_count": 130,
   "id": "65e04fcd-6419-44a6-96d5-16b9137b053e",
   "metadata": {},
   "outputs": [],
   "source": [
    "s.clear()"
   ]
  },
  {
   "cell_type": "code",
   "execution_count": 131,
   "id": "aeed07d4-45ae-49ef-be40-279d6c22c7c6",
   "metadata": {},
   "outputs": [
    {
     "data": {
      "text/plain": [
       "set()"
      ]
     },
     "execution_count": 131,
     "metadata": {},
     "output_type": "execute_result"
    }
   ],
   "source": [
    "s"
   ]
  },
  {
   "cell_type": "code",
   "execution_count": 132,
   "id": "7920420c-de0b-48c5-9fa3-c8d4a2a00328",
   "metadata": {},
   "outputs": [],
   "source": [
    "s={2,3,4,5}"
   ]
  },
  {
   "cell_type": "code",
   "execution_count": 135,
   "id": "890df55a-9827-4e04-a7c3-0f6d763555e3",
   "metadata": {},
   "outputs": [],
   "source": [
    "p = s.copy()"
   ]
  },
  {
   "cell_type": "code",
   "execution_count": 136,
   "id": "fd0417ad-26f8-4758-9734-2ea638c54e16",
   "metadata": {},
   "outputs": [
    {
     "data": {
      "text/plain": [
       "{2, 3, 4, 5}"
      ]
     },
     "execution_count": 136,
     "metadata": {},
     "output_type": "execute_result"
    }
   ],
   "source": [
    "p"
   ]
  },
  {
   "cell_type": "code",
   "execution_count": 137,
   "id": "c376c0db-e177-4eda-ad99-efb17497bc0d",
   "metadata": {},
   "outputs": [],
   "source": [
    "s.discard(2)"
   ]
  },
  {
   "cell_type": "code",
   "execution_count": 138,
   "id": "c1714251-afa8-41d9-afe7-7221c76e4d93",
   "metadata": {},
   "outputs": [
    {
     "data": {
      "text/plain": [
       "3"
      ]
     },
     "execution_count": 138,
     "metadata": {},
     "output_type": "execute_result"
    }
   ],
   "source": [
    "s.pop()"
   ]
  },
  {
   "cell_type": "code",
   "execution_count": 139,
   "id": "e8f30819-2045-4948-9d5e-36935d26d84e",
   "metadata": {},
   "outputs": [
    {
     "data": {
      "text/plain": [
       "{4, 5}"
      ]
     },
     "execution_count": 139,
     "metadata": {},
     "output_type": "execute_result"
    }
   ],
   "source": [
    "s"
   ]
  },
  {
   "cell_type": "code",
   "execution_count": null,
   "id": "52f8aea0-98e4-4961-9bfd-e47ff6982dd4",
   "metadata": {},
   "outputs": [],
   "source": [
    "Because set doesnot have any indexing concept."
   ]
  },
  {
   "cell_type": "code",
   "execution_count": 140,
   "id": "3403997a-36ae-42eb-bd31-534a4047c83d",
   "metadata": {},
   "outputs": [
    {
     "ename": "TypeError",
     "evalue": "'set' object is not subscriptable",
     "output_type": "error",
     "traceback": [
      "\u001b[0;31m---------------------------------------------------------------------------\u001b[0m",
      "\u001b[0;31mTypeError\u001b[0m                                 Traceback (most recent call last)",
      "Cell \u001b[0;32mIn[140], line 1\u001b[0m\n\u001b[0;32m----> 1\u001b[0m \u001b[43ms\u001b[49m\u001b[43m[\u001b[49m\u001b[38;5;241;43m0\u001b[39;49m\u001b[43m]\u001b[49m\n",
      "\u001b[0;31mTypeError\u001b[0m: 'set' object is not subscriptable"
     ]
    }
   ],
   "source": [
    "s[0]"
   ]
  },
  {
   "cell_type": "code",
   "execution_count": 141,
   "id": "4e98193e-659a-490e-abcd-590a91849cf6",
   "metadata": {},
   "outputs": [
    {
     "data": {
      "text/plain": [
       "{4, 5}"
      ]
     },
     "execution_count": 141,
     "metadata": {},
     "output_type": "execute_result"
    }
   ],
   "source": [
    "s"
   ]
  },
  {
   "cell_type": "code",
   "execution_count": 142,
   "id": "4aa4438f-11c1-4a95-bba5-ec5b2862c144",
   "metadata": {},
   "outputs": [],
   "source": [
    "s.remove(5)"
   ]
  },
  {
   "cell_type": "code",
   "execution_count": 143,
   "id": "27bf3d84-7ccb-485d-95f2-6d2243d489ff",
   "metadata": {},
   "outputs": [
    {
     "data": {
      "text/plain": [
       "{4}"
      ]
     },
     "execution_count": 143,
     "metadata": {},
     "output_type": "execute_result"
    }
   ],
   "source": [
    "s"
   ]
  },
  {
   "cell_type": "code",
   "execution_count": 144,
   "id": "90900125-348c-4a68-ab3c-41f814f6d917",
   "metadata": {},
   "outputs": [
    {
     "ename": "TypeError",
     "evalue": "'int' object is not iterable",
     "output_type": "error",
     "traceback": [
      "\u001b[0;31m---------------------------------------------------------------------------\u001b[0m",
      "\u001b[0;31mTypeError\u001b[0m                                 Traceback (most recent call last)",
      "Cell \u001b[0;32mIn[144], line 1\u001b[0m\n\u001b[0;32m----> 1\u001b[0m \u001b[43ms\u001b[49m\u001b[38;5;241;43m.\u001b[39;49m\u001b[43mupdate\u001b[49m\u001b[43m(\u001b[49m\u001b[38;5;241;43m7\u001b[39;49m\u001b[43m)\u001b[49m\n",
      "\u001b[0;31mTypeError\u001b[0m: 'int' object is not iterable"
     ]
    }
   ],
   "source": [
    "s.update(7)"
   ]
  },
  {
   "cell_type": "code",
   "execution_count": null,
   "id": "c8c32e20-991d-4cb7-bac3-8b872df1909c",
   "metadata": {},
   "outputs": [],
   "source": [
    "WHENEVER YOU PASS ANY INDEX VALUE IN A FUNCTION AND IT WORKS THEN IT IS MUTABLE OTHERWISE IMMUTABLE."
   ]
  },
  {
   "cell_type": "code",
   "execution_count": 145,
   "id": "70121ba4-f650-4711-bf95-388aa72a5c61",
   "metadata": {},
   "outputs": [],
   "source": [
    "##Dictionary"
   ]
  },
  {
   "cell_type": "code",
   "execution_count": 146,
   "id": "797909e2-4de1-4d7d-a1df-5a60b90d4a7d",
   "metadata": {},
   "outputs": [],
   "source": [
    "s= {}"
   ]
  },
  {
   "cell_type": "code",
   "execution_count": 147,
   "id": "1bbf5a74-a733-41e7-9fb5-6a6d25af128b",
   "metadata": {},
   "outputs": [
    {
     "data": {
      "text/plain": [
       "dict"
      ]
     },
     "execution_count": 147,
     "metadata": {},
     "output_type": "execute_result"
    }
   ],
   "source": [
    "type(s)"
   ]
  },
  {
   "cell_type": "code",
   "execution_count": 148,
   "id": "eb394432-946f-40d7-ac4f-912a9f8e172c",
   "metadata": {},
   "outputs": [],
   "source": [
    "d={\"Subject\":\"Stats\",\"Name\":\"Ajay\"}"
   ]
  },
  {
   "cell_type": "code",
   "execution_count": 149,
   "id": "064eb9b6-0a86-4d05-b552-a59ad2878029",
   "metadata": {},
   "outputs": [
    {
     "data": {
      "text/plain": [
       "dict"
      ]
     },
     "execution_count": 149,
     "metadata": {},
     "output_type": "execute_result"
    }
   ],
   "source": [
    "type(d)"
   ]
  },
  {
   "cell_type": "code",
   "execution_count": 150,
   "id": "a3e1da47-b7dc-4426-99c2-83d79f0debb6",
   "metadata": {},
   "outputs": [
    {
     "data": {
      "text/plain": [
       "{'Subject': 'Stats', 'Name': 'Ajay'}"
      ]
     },
     "execution_count": 150,
     "metadata": {},
     "output_type": "execute_result"
    }
   ],
   "source": [
    "d"
   ]
  },
  {
   "cell_type": "code",
   "execution_count": null,
   "id": "ee5155e0-ee06-41cf-a29f-e4738c2cd72b",
   "metadata": {},
   "outputs": [],
   "source": [
    "Dictionary is a named list"
   ]
  },
  {
   "cell_type": "code",
   "execution_count": 151,
   "id": "79402a22-e50b-4dd3-a2f7-9816f14c8797",
   "metadata": {},
   "outputs": [
    {
     "data": {
      "text/plain": [
       "dict_keys(['Subject', 'Name'])"
      ]
     },
     "execution_count": 151,
     "metadata": {},
     "output_type": "execute_result"
    }
   ],
   "source": [
    "d.keys()"
   ]
  },
  {
   "cell_type": "code",
   "execution_count": 152,
   "id": "c5cfa6df-01b9-4474-8fb4-70cafab9bd3f",
   "metadata": {},
   "outputs": [
    {
     "data": {
      "text/plain": [
       "['Subject', 'Name']"
      ]
     },
     "execution_count": 152,
     "metadata": {},
     "output_type": "execute_result"
    }
   ],
   "source": [
    "list(d.keys())"
   ]
  },
  {
   "cell_type": "code",
   "execution_count": 153,
   "id": "ca1dea04-ce93-44ae-8f5b-91e2c674ff94",
   "metadata": {},
   "outputs": [
    {
     "data": {
      "text/plain": [
       "dict_values(['Stats', 'Ajay'])"
      ]
     },
     "execution_count": 153,
     "metadata": {},
     "output_type": "execute_result"
    }
   ],
   "source": [
    "d.values()"
   ]
  },
  {
   "cell_type": "code",
   "execution_count": 154,
   "id": "6b1e82cf-a17b-4ad4-a6fb-e8a8dbba1c94",
   "metadata": {},
   "outputs": [
    {
     "data": {
      "text/plain": [
       "dict_items([('Subject', 'Stats'), ('Name', 'Ajay')])"
      ]
     },
     "execution_count": 154,
     "metadata": {},
     "output_type": "execute_result"
    }
   ],
   "source": [
    "d.items()"
   ]
  },
  {
   "cell_type": "code",
   "execution_count": 155,
   "id": "63f81ca7-57f7-4e1a-babd-a5f0f40fd05c",
   "metadata": {},
   "outputs": [
    {
     "data": {
      "text/plain": [
       "'Stats'"
      ]
     },
     "execution_count": 155,
     "metadata": {},
     "output_type": "execute_result"
    }
   ],
   "source": [
    "d.get('Subject')"
   ]
  },
  {
   "cell_type": "code",
   "execution_count": 156,
   "id": "cd4dc798-cb65-4277-93cb-ae24e84b9af6",
   "metadata": {},
   "outputs": [
    {
     "data": {
      "text/plain": [
       "'Stats'"
      ]
     },
     "execution_count": 156,
     "metadata": {},
     "output_type": "execute_result"
    }
   ],
   "source": [
    "d['Subject']"
   ]
  },
  {
   "cell_type": "code",
   "execution_count": 158,
   "id": "c9a4068e-8e7c-4dd1-a536-7b0dd41d0974",
   "metadata": {},
   "outputs": [
    {
     "data": {
      "text/plain": [
       "'Ajay'"
      ]
     },
     "execution_count": 158,
     "metadata": {},
     "output_type": "execute_result"
    }
   ],
   "source": [
    "d.pop(\"Name\")"
   ]
  },
  {
   "cell_type": "code",
   "execution_count": 159,
   "id": "d6f6d654-172c-4542-9292-a50c994492cb",
   "metadata": {},
   "outputs": [],
   "source": [
    "d[\"Subject\"] =\"ML\""
   ]
  },
  {
   "cell_type": "code",
   "execution_count": 160,
   "id": "91e4554d-24da-4fc8-8086-ea5b30a56237",
   "metadata": {},
   "outputs": [
    {
     "data": {
      "text/plain": [
       "{'Subject': 'ML'}"
      ]
     },
     "execution_count": 160,
     "metadata": {},
     "output_type": "execute_result"
    }
   ],
   "source": [
    "d"
   ]
  },
  {
   "cell_type": "code",
   "execution_count": 163,
   "id": "7b4031f8-2429-451a-a0d9-dd812bb43c7c",
   "metadata": {},
   "outputs": [],
   "source": [
    "d.update({\"key\":123,\"key2\":212})"
   ]
  },
  {
   "cell_type": "code",
   "execution_count": 164,
   "id": "b777f396-5b10-4192-814e-b6dab1ccddfb",
   "metadata": {},
   "outputs": [
    {
     "data": {
      "text/plain": [
       "{'Subject': 'ML', 'key': 123, 'key2': 212}"
      ]
     },
     "execution_count": 164,
     "metadata": {},
     "output_type": "execute_result"
    }
   ],
   "source": [
    "d"
   ]
  },
  {
   "cell_type": "code",
   "execution_count": 167,
   "id": "b01b7590-88d6-42c1-bf39-a55f3f872429",
   "metadata": {},
   "outputs": [],
   "source": [
    "d ={\"key\":123,\"key\":234}"
   ]
  },
  {
   "cell_type": "code",
   "execution_count": 168,
   "id": "2fab4c14-8bf8-4b5d-b653-b4dd61292dde",
   "metadata": {},
   "outputs": [
    {
     "data": {
      "text/plain": [
       "{'key': 234}"
      ]
     },
     "execution_count": 168,
     "metadata": {},
     "output_type": "execute_result"
    }
   ],
   "source": [
    "d"
   ]
  },
  {
   "cell_type": "code",
   "execution_count": 169,
   "id": "ff063add-7a6c-4424-8b5c-c624599277d0",
   "metadata": {},
   "outputs": [
    {
     "data": {
      "text/plain": [
       "('key', 234)"
      ]
     },
     "execution_count": 169,
     "metadata": {},
     "output_type": "execute_result"
    }
   ],
   "source": [
    "d.popitem()"
   ]
  },
  {
   "cell_type": "code",
   "execution_count": 170,
   "id": "d1b5cf5d-0f2c-4286-8fa7-fb15f68f6d51",
   "metadata": {},
   "outputs": [
    {
     "data": {
      "text/plain": [
       "{}"
      ]
     },
     "execution_count": 170,
     "metadata": {},
     "output_type": "execute_result"
    }
   ],
   "source": [
    "d"
   ]
  },
  {
   "cell_type": "code",
   "execution_count": 171,
   "id": "911e52cb-2776-4d49-a28c-04883d7e209a",
   "metadata": {},
   "outputs": [],
   "source": [
    "# List Comprehension"
   ]
  },
  {
   "cell_type": "code",
   "execution_count": 175,
   "id": "ad42f1b6-924b-4730-b06b-4893f6bf7fda",
   "metadata": {},
   "outputs": [],
   "source": [
    "l =[]\n",
    "for i in range(1,21):\n",
    "    #odd case\n",
    "    l.append(i)"
   ]
  },
  {
   "cell_type": "code",
   "execution_count": 176,
   "id": "7c5376ed-dfc9-4f1b-9ae5-28f02dd81767",
   "metadata": {},
   "outputs": [
    {
     "data": {
      "text/plain": [
       "[1, 2, 3, 4, 5, 6, 7, 8, 9, 10, 11, 12, 13, 14, 15, 16, 17, 18, 19, 20]"
      ]
     },
     "execution_count": 176,
     "metadata": {},
     "output_type": "execute_result"
    }
   ],
   "source": [
    "l"
   ]
  },
  {
   "cell_type": "code",
   "execution_count": null,
   "id": "da483aa3-ad54-46bd-9aec-07f747790874",
   "metadata": {},
   "outputs": [],
   "source": [
    "What is list comprehension?"
   ]
  },
  {
   "cell_type": "code",
   "execution_count": 174,
   "id": "17fb6cd5-0de6-4ddc-b7ce-37856a0a715f",
   "metadata": {},
   "outputs": [
    {
     "data": {
      "text/plain": [
       "[1, 2, 3, 4, 5, 6, 7, 8, 9, 10, 11, 12, 13, 14, 15, 16, 17, 18, 19, 20]"
      ]
     },
     "execution_count": 174,
     "metadata": {},
     "output_type": "execute_result"
    }
   ],
   "source": [
    "[ i for i in range(1,21)]"
   ]
  },
  {
   "cell_type": "code",
   "execution_count": 179,
   "id": "54715d42-44fd-4724-b6d9-390aceef89c7",
   "metadata": {},
   "outputs": [
    {
     "data": {
      "text/plain": [
       "[1, 3, 5, 7, 9, 11, 13, 15, 17, 19]"
      ]
     },
     "execution_count": 179,
     "metadata": {},
     "output_type": "execute_result"
    }
   ],
   "source": [
    "[ i for i in range(1,21) if i%2 !=0]"
   ]
  },
  {
   "cell_type": "code",
   "execution_count": null,
   "id": "fde4a301-db1d-4543-a28c-d29ad0c32128",
   "metadata": {},
   "outputs": [],
   "source": [
    "#List Dictionary Comprehension"
   ]
  },
  {
   "cell_type": "code",
   "execution_count": null,
   "id": "f0434a26-fe59-4616-a4a1-9e4b340caa99",
   "metadata": {},
   "outputs": [],
   "source": [
    "# Operators"
   ]
  },
  {
   "cell_type": "code",
   "execution_count": null,
   "id": "f63c350a-7ea2-48d5-b8ba-3ef9aac79f46",
   "metadata": {},
   "outputs": [],
   "source": [
    "# An operator is a symbol to perform some operation of 2 operands. "
   ]
  },
  {
   "cell_type": "code",
   "execution_count": 181,
   "id": "e55c634f-6457-4e6b-820d-c8285a2e83be",
   "metadata": {},
   "outputs": [],
   "source": [
    "j=4"
   ]
  },
  {
   "cell_type": "code",
   "execution_count": 185,
   "id": "9d3d917e-96d2-4128-acfb-38259e942e0c",
   "metadata": {},
   "outputs": [
    {
     "data": {
      "text/plain": [
       "100"
      ]
     },
     "execution_count": 185,
     "metadata": {},
     "output_type": "execute_result"
    }
   ],
   "source": [
    "naveen =100\n",
    "naveen"
   ]
  },
  {
   "cell_type": "code",
   "execution_count": 188,
   "id": "9126e7aa-7eff-492b-8ca4-d516a41a522b",
   "metadata": {},
   "outputs": [
    {
     "data": {
      "text/plain": [
       "7"
      ]
     },
     "execution_count": 188,
     "metadata": {},
     "output_type": "execute_result"
    }
   ],
   "source": [
    "a=4\n",
    "b=3\n",
    "a+b\n"
   ]
  },
  {
   "cell_type": "code",
   "execution_count": 189,
   "id": "2ed44427-e82d-4c45-9df6-16f9d9832c6a",
   "metadata": {},
   "outputs": [
    {
     "data": {
      "text/plain": [
       "1"
      ]
     },
     "execution_count": 189,
     "metadata": {},
     "output_type": "execute_result"
    }
   ],
   "source": [
    "a-b"
   ]
  },
  {
   "cell_type": "code",
   "execution_count": 190,
   "id": "ca55a3f3-227f-4ba4-a019-10db95131e8f",
   "metadata": {},
   "outputs": [
    {
     "data": {
      "text/plain": [
       "1.3333333333333333"
      ]
     },
     "execution_count": 190,
     "metadata": {},
     "output_type": "execute_result"
    }
   ],
   "source": [
    "4/3"
   ]
  },
  {
   "cell_type": "code",
   "execution_count": 191,
   "id": "8303e117-83fb-4e44-b925-1d9ab6dd8654",
   "metadata": {},
   "outputs": [
    {
     "data": {
      "text/plain": [
       "256"
      ]
     },
     "execution_count": 191,
     "metadata": {},
     "output_type": "execute_result"
    }
   ],
   "source": [
    "4**4"
   ]
  },
  {
   "cell_type": "code",
   "execution_count": 192,
   "id": "4c7415ec-89a4-4efd-8fc5-e53a5cef7daf",
   "metadata": {},
   "outputs": [
    {
     "data": {
      "text/plain": [
       "1"
      ]
     },
     "execution_count": 192,
     "metadata": {},
     "output_type": "execute_result"
    }
   ],
   "source": [
    "4%3"
   ]
  },
  {
   "cell_type": "code",
   "execution_count": 193,
   "id": "3cfc416c-59fc-44a7-a88b-08f27efe2c6c",
   "metadata": {},
   "outputs": [
    {
     "data": {
      "text/plain": [
       "1"
      ]
     },
     "execution_count": 193,
     "metadata": {},
     "output_type": "execute_result"
    }
   ],
   "source": [
    "4//3"
   ]
  },
  {
   "cell_type": "code",
   "execution_count": 195,
   "id": "c481746e-85cb-4979-a9f5-bfb7b1f82965",
   "metadata": {},
   "outputs": [
    {
     "data": {
      "text/plain": [
       "1"
      ]
     },
     "execution_count": 195,
     "metadata": {},
     "output_type": "execute_result"
    }
   ],
   "source": [
    "4//3"
   ]
  },
  {
   "cell_type": "code",
   "execution_count": 196,
   "id": "e9ba451b-a48f-421a-a919-7a7abbfe91b1",
   "metadata": {},
   "outputs": [
    {
     "data": {
      "text/plain": [
       "False"
      ]
     },
     "execution_count": 196,
     "metadata": {},
     "output_type": "execute_result"
    }
   ],
   "source": [
    "a == b"
   ]
  },
  {
   "cell_type": "code",
   "execution_count": 197,
   "id": "d1a33da6-dc83-45e2-9d77-1780780adb9e",
   "metadata": {},
   "outputs": [
    {
     "data": {
      "text/plain": [
       "False"
      ]
     },
     "execution_count": 197,
     "metadata": {},
     "output_type": "execute_result"
    }
   ],
   "source": [
    "10 == a"
   ]
  },
  {
   "cell_type": "code",
   "execution_count": 198,
   "id": "57658b04-c783-4daa-a1c3-8d7031a4ee80",
   "metadata": {},
   "outputs": [
    {
     "data": {
      "text/plain": [
       "True"
      ]
     },
     "execution_count": 198,
     "metadata": {},
     "output_type": "execute_result"
    }
   ],
   "source": [
    "10 == 10"
   ]
  },
  {
   "cell_type": "code",
   "execution_count": 201,
   "id": "0365eb3f-9794-4879-9aba-e3b121c0ba59",
   "metadata": {},
   "outputs": [],
   "source": [
    "Naveen =10"
   ]
  },
  {
   "cell_type": "code",
   "execution_count": 202,
   "id": "c9e4514a-3d3c-4c65-9ac9-c6b059de8141",
   "metadata": {},
   "outputs": [
    {
     "data": {
      "text/plain": [
       "True"
      ]
     },
     "execution_count": 202,
     "metadata": {},
     "output_type": "execute_result"
    }
   ],
   "source": [
    "Naveen == Naveen"
   ]
  },
  {
   "cell_type": "code",
   "execution_count": 203,
   "id": "2b159c80-4feb-4122-9e09-d91d7185c7fc",
   "metadata": {},
   "outputs": [
    {
     "data": {
      "text/plain": [
       "False"
      ]
     },
     "execution_count": 203,
     "metadata": {},
     "output_type": "execute_result"
    }
   ],
   "source": [
    "\"NAVEEN\" == \"Ajay\""
   ]
  },
  {
   "cell_type": "code",
   "execution_count": null,
   "id": "6fd6a5f1-7e3f-4417-aab8-b28780b8c52f",
   "metadata": {},
   "outputs": [],
   "source": [
    "# Logical Operator\n",
    "\n",
    "and ,or & not"
   ]
  },
  {
   "cell_type": "code",
   "execution_count": 204,
   "id": "c7f5a28e-7495-40e3-a374-6ae2c7b6ad4c",
   "metadata": {},
   "outputs": [
    {
     "data": {
      "text/plain": [
       "False"
      ]
     },
     "execution_count": 204,
     "metadata": {},
     "output_type": "execute_result"
    }
   ],
   "source": [
    "True and False"
   ]
  },
  {
   "cell_type": "code",
   "execution_count": 205,
   "id": "ab625e6d-ed33-45b5-90b5-88776c8711c0",
   "metadata": {},
   "outputs": [
    {
     "data": {
      "text/plain": [
       "True"
      ]
     },
     "execution_count": 205,
     "metadata": {},
     "output_type": "execute_result"
    }
   ],
   "source": [
    "True or False"
   ]
  },
  {
   "cell_type": "code",
   "execution_count": 211,
   "id": "f703317e-229b-412a-b40c-00d8d945d3fd",
   "metadata": {},
   "outputs": [
    {
     "data": {
      "text/plain": [
       "1"
      ]
     },
     "execution_count": 211,
     "metadata": {},
     "output_type": "execute_result"
    }
   ],
   "source": [
    "1 and 1"
   ]
  },
  {
   "cell_type": "code",
   "execution_count": 209,
   "id": "34540798-e396-4e8d-94c9-bceef08d90e8",
   "metadata": {},
   "outputs": [
    {
     "data": {
      "text/plain": [
       "2"
      ]
     },
     "execution_count": 209,
     "metadata": {},
     "output_type": "execute_result"
    }
   ],
   "source": [
    "2 or 1"
   ]
  },
  {
   "cell_type": "code",
   "execution_count": 210,
   "id": "5ed4a226-2b0d-4cb1-adc9-6fd8465f4d2e",
   "metadata": {},
   "outputs": [
    {
     "data": {
      "text/plain": [
       "1"
      ]
     },
     "execution_count": 210,
     "metadata": {},
     "output_type": "execute_result"
    }
   ],
   "source": [
    "1 or 2"
   ]
  },
  {
   "cell_type": "code",
   "execution_count": 208,
   "id": "952ef0f6-c5f8-4e91-92d1-d7562565e223",
   "metadata": {},
   "outputs": [
    {
     "data": {
      "text/plain": [
       "False"
      ]
     },
     "execution_count": 208,
     "metadata": {},
     "output_type": "execute_result"
    }
   ],
   "source": [
    "not True"
   ]
  },
  {
   "cell_type": "code",
   "execution_count": 219,
   "id": "8c3330e6-4984-4d70-8c54-73d9c1e5a9ea",
   "metadata": {},
   "outputs": [
    {
     "name": "stdout",
     "output_type": "stream",
     "text": [
      "2\n"
     ]
    }
   ],
   "source": [
    "a =1\n",
    "b =2\n",
    "if a:\n",
    "    print(a*b)\n",
    "if not a:\n",
    "    print(\"Warning\")"
   ]
  },
  {
   "cell_type": "code",
   "execution_count": 220,
   "id": "de6a9ba7-81ff-449f-a7e6-b5f6c77348d8",
   "metadata": {},
   "outputs": [],
   "source": [
    "# Identity operator"
   ]
  },
  {
   "cell_type": "code",
   "execution_count": 221,
   "id": "11999106-60d6-4774-8832-c1a7b5b7a8cf",
   "metadata": {},
   "outputs": [
    {
     "data": {
      "text/plain": [
       "False"
      ]
     },
     "execution_count": 221,
     "metadata": {},
     "output_type": "execute_result"
    }
   ],
   "source": [
    "a =2\n",
    "b=3\n",
    "a is b"
   ]
  },
  {
   "cell_type": "code",
   "execution_count": 222,
   "id": "0142cb20-c6e7-47ee-8af8-ff6a1fc548c4",
   "metadata": {},
   "outputs": [
    {
     "data": {
      "text/plain": [
       "140329723920656"
      ]
     },
     "execution_count": 222,
     "metadata": {},
     "output_type": "execute_result"
    }
   ],
   "source": [
    "id(a)"
   ]
  },
  {
   "cell_type": "code",
   "execution_count": 223,
   "id": "919fd4fb-9c9a-421a-b9da-768056b64315",
   "metadata": {},
   "outputs": [
    {
     "data": {
      "text/plain": [
       "140329723920688"
      ]
     },
     "execution_count": 223,
     "metadata": {},
     "output_type": "execute_result"
    }
   ],
   "source": [
    "id(b)"
   ]
  },
  {
   "cell_type": "code",
   "execution_count": 224,
   "id": "1ac80b61-c1b6-4da5-919c-1cc6ff7d87db",
   "metadata": {},
   "outputs": [
    {
     "data": {
      "text/plain": [
       "True"
      ]
     },
     "execution_count": 224,
     "metadata": {},
     "output_type": "execute_result"
    }
   ],
   "source": [
    "a !=b"
   ]
  },
  {
   "cell_type": "code",
   "execution_count": 225,
   "id": "5604228d-5f28-4745-97a3-668634faf430",
   "metadata": {},
   "outputs": [],
   "source": [
    "## Comparision Operator"
   ]
  },
  {
   "cell_type": "code",
   "execution_count": 226,
   "id": "c8d7c27d-82c9-494d-a2d8-b5609e5fba6c",
   "metadata": {},
   "outputs": [
    {
     "data": {
      "text/plain": [
       "False"
      ]
     },
     "execution_count": 226,
     "metadata": {},
     "output_type": "execute_result"
    }
   ],
   "source": [
    "1>2"
   ]
  },
  {
   "cell_type": "code",
   "execution_count": 227,
   "id": "33b9e808-8635-4773-904e-d20b9d9c73e3",
   "metadata": {},
   "outputs": [
    {
     "data": {
      "text/plain": [
       "True"
      ]
     },
     "execution_count": 227,
     "metadata": {},
     "output_type": "execute_result"
    }
   ],
   "source": [
    "1>0"
   ]
  },
  {
   "cell_type": "code",
   "execution_count": 228,
   "id": "818063c9-a6d1-46c2-8632-cb73c81c9bba",
   "metadata": {},
   "outputs": [
    {
     "data": {
      "text/plain": [
       "False"
      ]
     },
     "execution_count": 228,
     "metadata": {},
     "output_type": "execute_result"
    }
   ],
   "source": [
    "2>2"
   ]
  },
  {
   "cell_type": "code",
   "execution_count": 229,
   "id": "1471f632-fe1a-4aac-b7f4-d65bf85903c4",
   "metadata": {},
   "outputs": [
    {
     "data": {
      "text/plain": [
       "False"
      ]
     },
     "execution_count": 229,
     "metadata": {},
     "output_type": "execute_result"
    }
   ],
   "source": [
    "2!=2"
   ]
  },
  {
   "cell_type": "code",
   "execution_count": 230,
   "id": "876fb30c-3a4f-481e-b4ce-dd8e349ebe92",
   "metadata": {},
   "outputs": [
    {
     "data": {
      "text/plain": [
       "False"
      ]
     },
     "execution_count": 230,
     "metadata": {},
     "output_type": "execute_result"
    }
   ],
   "source": [
    "1 ==2"
   ]
  },
  {
   "cell_type": "code",
   "execution_count": 231,
   "id": "21d86842-e4ac-43ba-8827-a4d603e67403",
   "metadata": {},
   "outputs": [],
   "source": [
    "## Bitwise Operator"
   ]
  },
  {
   "cell_type": "code",
   "execution_count": null,
   "id": "99214f35-8b2e-4bac-aa00-77dfe6a18f58",
   "metadata": {},
   "outputs": [],
   "source": [
    "& , | , ^ (XOR) ,~ ,<<,>>"
   ]
  },
  {
   "cell_type": "code",
   "execution_count": 232,
   "id": "878e9770-0ad9-4afa-9edb-be746b04b98c",
   "metadata": {},
   "outputs": [],
   "source": [
    "a =10"
   ]
  },
  {
   "cell_type": "code",
   "execution_count": 234,
   "id": "42bc988a-46f8-40b3-9c44-062b35fa64da",
   "metadata": {},
   "outputs": [
    {
     "data": {
      "text/plain": [
       "10"
      ]
     },
     "execution_count": 234,
     "metadata": {},
     "output_type": "execute_result"
    }
   ],
   "source": [
    "a"
   ]
  },
  {
   "cell_type": "code",
   "execution_count": 235,
   "id": "17e7e259-2ea6-4717-9da1-f726b6be44ac",
   "metadata": {},
   "outputs": [
    {
     "data": {
      "text/plain": [
       "10"
      ]
     },
     "execution_count": 235,
     "metadata": {},
     "output_type": "execute_result"
    }
   ],
   "source": [
    "a"
   ]
  },
  {
   "cell_type": "code",
   "execution_count": 236,
   "id": "0c5401de-f63c-46f2-a1ac-4ddba4a99ae7",
   "metadata": {},
   "outputs": [
    {
     "data": {
      "text/plain": [
       "20"
      ]
     },
     "execution_count": 236,
     "metadata": {},
     "output_type": "execute_result"
    }
   ],
   "source": [
    "10+10"
   ]
  },
  {
   "cell_type": "code",
   "execution_count": 238,
   "id": "9122e287-c3ee-40ce-9276-6ef24f265f06",
   "metadata": {},
   "outputs": [
    {
     "data": {
      "text/plain": [
       "8"
      ]
     },
     "execution_count": 238,
     "metadata": {},
     "output_type": "execute_result"
    }
   ],
   "source": [
    "2**3"
   ]
  },
  {
   "cell_type": "code",
   "execution_count": 240,
   "id": "09d35ea3-4539-430e-bf25-51d44b5f8a0e",
   "metadata": {},
   "outputs": [
    {
     "data": {
      "text/plain": [
       "'0b1010'"
      ]
     },
     "execution_count": 240,
     "metadata": {},
     "output_type": "execute_result"
    }
   ],
   "source": [
    "bin(a)"
   ]
  },
  {
   "cell_type": "code",
   "execution_count": 241,
   "id": "db145cd3-e8eb-4dc9-8427-ef87bfd4b4c5",
   "metadata": {},
   "outputs": [
    {
     "data": {
      "text/plain": [
       "10"
      ]
     },
     "execution_count": 241,
     "metadata": {},
     "output_type": "execute_result"
    }
   ],
   "source": [
    "10 & 10"
   ]
  },
  {
   "cell_type": "code",
   "execution_count": 243,
   "id": "db913abb-4200-4945-b282-8f31e8f4f05b",
   "metadata": {},
   "outputs": [
    {
     "data": {
      "text/plain": [
       "3"
      ]
     },
     "execution_count": 243,
     "metadata": {},
     "output_type": "execute_result"
    }
   ],
   "source": [
    "23 & 3"
   ]
  },
  {
   "cell_type": "code",
   "execution_count": 244,
   "id": "8b4b779b-b6e3-42d9-a7f1-e8ba6696e472",
   "metadata": {},
   "outputs": [
    {
     "data": {
      "text/plain": [
       "'0b1010'"
      ]
     },
     "execution_count": 244,
     "metadata": {},
     "output_type": "execute_result"
    }
   ],
   "source": [
    "bin(10)"
   ]
  },
  {
   "cell_type": "code",
   "execution_count": null,
   "id": "4837a5e3-dfcd-47f4-9b76-fc437e16a9b0",
   "metadata": {},
   "outputs": [],
   "source": [
    "  &  \n",
    "1   1\n",
    "0   0\n",
    "1   1\n",
    "0   0"
   ]
  },
  {
   "cell_type": "code",
   "execution_count": null,
   "id": "d502baa8-2371-4c65-a27d-d514b680526f",
   "metadata": {},
   "outputs": [],
   "source": [
    "  1 0 1 1 1\n",
    "& 0 0 0 1 1\n",
    "= 0 0 0 1 1 which is 3"
   ]
  },
  {
   "cell_type": "code",
   "execution_count": 246,
   "id": "49e83caa-0804-459f-b89a-8c2a72e4cab8",
   "metadata": {},
   "outputs": [
    {
     "data": {
      "text/plain": [
       "'0b10111'"
      ]
     },
     "execution_count": 246,
     "metadata": {},
     "output_type": "execute_result"
    }
   ],
   "source": [
    "bin(23)"
   ]
  },
  {
   "cell_type": "code",
   "execution_count": 247,
   "id": "6297021e-54d7-4f18-921b-41659e3f88e6",
   "metadata": {},
   "outputs": [
    {
     "data": {
      "text/plain": [
       "'0b11'"
      ]
     },
     "execution_count": 247,
     "metadata": {},
     "output_type": "execute_result"
    }
   ],
   "source": [
    "bin(3)"
   ]
  },
  {
   "cell_type": "code",
   "execution_count": 248,
   "id": "3632dd91-aa0d-46a8-a6c5-7085dfdfe59b",
   "metadata": {},
   "outputs": [
    {
     "data": {
      "text/plain": [
       "3"
      ]
     },
     "execution_count": 248,
     "metadata": {},
     "output_type": "execute_result"
    }
   ],
   "source": [
    "3 & 23"
   ]
  },
  {
   "cell_type": "code",
   "execution_count": 249,
   "id": "b5d5e9d1-32e2-426a-ab53-3b53607fb4d0",
   "metadata": {},
   "outputs": [
    {
     "data": {
      "text/plain": [
       "55"
      ]
     },
     "execution_count": 249,
     "metadata": {},
     "output_type": "execute_result"
    }
   ],
   "source": [
    "23 | 34"
   ]
  },
  {
   "cell_type": "code",
   "execution_count": 250,
   "id": "d643cdec-7a8b-44d5-93a4-0c88a0e8800a",
   "metadata": {},
   "outputs": [
    {
     "data": {
      "text/plain": [
       "'0b10111'"
      ]
     },
     "execution_count": 250,
     "metadata": {},
     "output_type": "execute_result"
    }
   ],
   "source": [
    "bin(23)"
   ]
  },
  {
   "cell_type": "code",
   "execution_count": 251,
   "id": "1baf73c0-e0ad-4453-8226-866d1560d497",
   "metadata": {},
   "outputs": [
    {
     "data": {
      "text/plain": [
       "'0b100010'"
      ]
     },
     "execution_count": 251,
     "metadata": {},
     "output_type": "execute_result"
    }
   ],
   "source": [
    "bin(34)"
   ]
  },
  {
   "cell_type": "code",
   "execution_count": null,
   "id": "0757548f-6d81-4145-9945-d249288e3cec",
   "metadata": {},
   "outputs": [],
   "source": [
    "  0 1 0 1 1 1\n",
    "| 1 0 0 0 1 0\n",
    "= 1 1 0 1 1 1 which is 55"
   ]
  },
  {
   "cell_type": "code",
   "execution_count": 259,
   "id": "0349cd69-ab33-4d08-8d11-d3d32e31371c",
   "metadata": {},
   "outputs": [
    {
     "data": {
      "text/plain": [
       "'-0b100011'"
      ]
     },
     "execution_count": 259,
     "metadata": {},
     "output_type": "execute_result"
    }
   ],
   "source": [
    "bin(-35)"
   ]
  },
  {
   "cell_type": "code",
   "execution_count": null,
   "id": "89643a8a-81aa-429b-b1f7-6a61ecb8d66f",
   "metadata": {},
   "outputs": [],
   "source": [
    " 0 b 100010\n",
    "+         1\n",
    "---------------\n",
    "  0 B 100011"
   ]
  },
  {
   "cell_type": "code",
   "execution_count": 260,
   "id": "b61b3ea9-3c9f-4129-a4b0-172c29c0d3f7",
   "metadata": {},
   "outputs": [
    {
     "data": {
      "text/plain": [
       "15"
      ]
     },
     "execution_count": 260,
     "metadata": {},
     "output_type": "execute_result"
    }
   ],
   "source": [
    "10 ^ 5"
   ]
  },
  {
   "cell_type": "code",
   "execution_count": 261,
   "id": "48fa9414-8541-4755-83bd-094974e787dd",
   "metadata": {},
   "outputs": [
    {
     "data": {
      "text/plain": [
       "2"
      ]
     },
     "execution_count": 261,
     "metadata": {},
     "output_type": "execute_result"
    }
   ],
   "source": [
    "10^8"
   ]
  },
  {
   "cell_type": "code",
   "execution_count": null,
   "id": "188a929f-76cc-4708-aac4-05742cc68087",
   "metadata": {},
   "outputs": [],
   "source": [
    "left shift << and right shift >> "
   ]
  },
  {
   "cell_type": "code",
   "execution_count": null,
   "id": "80209d29-5566-4144-90be-9a3dbc497872",
   "metadata": {},
   "outputs": [],
   "source": [
    "# Right shift operator"
   ]
  },
  {
   "cell_type": "code",
   "execution_count": 263,
   "id": "c291676b-ef5a-472b-a702-88d0de43581d",
   "metadata": {},
   "outputs": [
    {
     "data": {
      "text/plain": [
       "7"
      ]
     },
     "execution_count": 263,
     "metadata": {},
     "output_type": "execute_result"
    }
   ],
   "source": [
    "30 >>2"
   ]
  },
  {
   "cell_type": "code",
   "execution_count": null,
   "id": "e493cc28-72bc-42fa-b385-bd939b7417cf",
   "metadata": {},
   "outputs": [],
   "source": [
    "# Means right shift by two places so "
   ]
  },
  {
   "cell_type": "code",
   "execution_count": 264,
   "id": "6d30dfc2-8327-40ea-bc71-1e7fce0a5d1d",
   "metadata": {},
   "outputs": [
    {
     "data": {
      "text/plain": [
       "'0b11110'"
      ]
     },
     "execution_count": 264,
     "metadata": {},
     "output_type": "execute_result"
    }
   ],
   "source": [
    "bin(30)"
   ]
  },
  {
   "cell_type": "code",
   "execution_count": null,
   "id": "62775c6e-127c-45b7-ba05-5834d87da29f",
   "metadata": {},
   "outputs": [],
   "source": [
    "## 10 will be removed from right and 111 is actually equivalent of 7"
   ]
  },
  {
   "cell_type": "code",
   "execution_count": 265,
   "id": "65a3ccbb-9aa5-43b7-a871-6c68fa6492b1",
   "metadata": {},
   "outputs": [
    {
     "data": {
      "text/plain": [
       "'0b111'"
      ]
     },
     "execution_count": 265,
     "metadata": {},
     "output_type": "execute_result"
    }
   ],
   "source": [
    "bin(7)"
   ]
  },
  {
   "cell_type": "code",
   "execution_count": 266,
   "id": "318f0cb1-ce83-45f8-bff3-2ac336b4bcb8",
   "metadata": {},
   "outputs": [],
   "source": [
    "#  Left shift operator"
   ]
  },
  {
   "cell_type": "code",
   "execution_count": 267,
   "id": "6c56b425-7e08-468a-b673-c17aa4f790db",
   "metadata": {},
   "outputs": [
    {
     "data": {
      "text/plain": [
       "280"
      ]
     },
     "execution_count": 267,
     "metadata": {},
     "output_type": "execute_result"
    }
   ],
   "source": [
    "35<<3"
   ]
  },
  {
   "cell_type": "code",
   "execution_count": 268,
   "id": "4bde3776-d932-4789-ae73-7af9323c4d1e",
   "metadata": {},
   "outputs": [
    {
     "data": {
      "text/plain": [
       "'0b100011'"
      ]
     },
     "execution_count": 268,
     "metadata": {},
     "output_type": "execute_result"
    }
   ],
   "source": [
    "bin(35)"
   ]
  },
  {
   "cell_type": "code",
   "execution_count": 269,
   "id": "83baea3b-2683-4f58-9619-21ac98e44734",
   "metadata": {},
   "outputs": [
    {
     "data": {
      "text/plain": [
       "'0b100011000'"
      ]
     },
     "execution_count": 269,
     "metadata": {},
     "output_type": "execute_result"
    }
   ],
   "source": [
    "bin(280)"
   ]
  },
  {
   "cell_type": "code",
   "execution_count": 270,
   "id": "edee78e1-fec3-459b-bcfa-78353ae0dea6",
   "metadata": {},
   "outputs": [],
   "source": [
    "# Here we  donot remove  similar to right operator but here we put extra  three zeroes in the end  so it will be 100011000 which is 280"
   ]
  },
  {
   "cell_type": "code",
   "execution_count": 271,
   "id": "c2f340b4-9552-4fe4-b15d-e4e6d3ead67e",
   "metadata": {},
   "outputs": [
    {
     "data": {
      "text/plain": [
       "15"
      ]
     },
     "execution_count": 271,
     "metadata": {},
     "output_type": "execute_result"
    }
   ],
   "source": [
    "10 ^ 5"
   ]
  },
  {
   "cell_type": "code",
   "execution_count": 272,
   "id": "72f622a9-aedb-4a50-8a13-911461f4cfaf",
   "metadata": {},
   "outputs": [
    {
     "data": {
      "text/plain": [
       "2"
      ]
     },
     "execution_count": 272,
     "metadata": {},
     "output_type": "execute_result"
    }
   ],
   "source": [
    "10 ^8"
   ]
  },
  {
   "cell_type": "code",
   "execution_count": 273,
   "id": "c809a353-0949-4856-8313-dc396f10b202",
   "metadata": {},
   "outputs": [
    {
     "data": {
      "text/plain": [
       "'0b1010'"
      ]
     },
     "execution_count": 273,
     "metadata": {},
     "output_type": "execute_result"
    }
   ],
   "source": [
    "bin(10)"
   ]
  },
  {
   "cell_type": "code",
   "execution_count": 274,
   "id": "bbaf723e-7e24-414b-8939-324953458708",
   "metadata": {},
   "outputs": [
    {
     "data": {
      "text/plain": [
       "'0b101'"
      ]
     },
     "execution_count": 274,
     "metadata": {},
     "output_type": "execute_result"
    }
   ],
   "source": [
    "bin(5)"
   ]
  },
  {
   "cell_type": "code",
   "execution_count": 275,
   "id": "27e79860-9c2c-45e9-aacb-7c5c86a1cf12",
   "metadata": {},
   "outputs": [
    {
     "data": {
      "text/plain": [
       "'0b1000'"
      ]
     },
     "execution_count": 275,
     "metadata": {},
     "output_type": "execute_result"
    }
   ],
   "source": [
    "bin(8)"
   ]
  },
  {
   "cell_type": "code",
   "execution_count": null,
   "id": "d6d1ab9f-ec4b-4aa3-b463-fa62eb5a8b9d",
   "metadata": {},
   "outputs": [],
   "source": [
    "   0b1010\n",
    "^  0b0101 \n",
    "=  0b1111  which is 15 but\n",
    "    0b1010\n",
    "^   0b1000 \n",
    "=   0b0010 which is 2"
   ]
  },
  {
   "cell_type": "code",
   "execution_count": null,
   "id": "4ba49cb0-04af-4091-b7a8-aec21a8bb7fa",
   "metadata": {},
   "outputs": [],
   "source": []
  }
 ],
 "metadata": {
  "kernelspec": {
   "display_name": "Python 3 (ipykernel)",
   "language": "python",
   "name": "python3"
  },
  "language_info": {
   "codemirror_mode": {
    "name": "ipython",
    "version": 3
   },
   "file_extension": ".py",
   "mimetype": "text/x-python",
   "name": "python",
   "nbconvert_exporter": "python",
   "pygments_lexer": "ipython3",
   "version": "3.10.8"
  }
 },
 "nbformat": 4,
 "nbformat_minor": 5
}
