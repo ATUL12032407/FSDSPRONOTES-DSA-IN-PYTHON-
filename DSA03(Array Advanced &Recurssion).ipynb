{
 "cells": [
  {
   "cell_type": "markdown",
   "id": "0b09ade7-cc28-46a2-8890-7e61c666664e",
   "metadata": {},
   "source": [
    "Recurssion :-  Function is calling itself inside the method definition."
   ]
  },
  {
   "cell_type": "markdown",
   "id": "e3b2cacd-db49-41fc-ba4b-cef1dc16be71",
   "metadata": {},
   "source": [
    "Stack data structure is used just to store the function call in recurssion."
   ]
  },
  {
   "cell_type": "code",
   "execution_count": 4,
   "id": "8ab97416-a888-4003-96e6-b283e4d22b4d",
   "metadata": {},
   "outputs": [
    {
     "name": "stdout",
     "output_type": "stream",
     "text": [
      "120\n"
     ]
    }
   ],
   "source": [
    "## Factorial of a given number\n",
    "## Method definition via the recursion\n",
    "\n",
    "def factorial(n):\n",
    "    ## 1. Base Case condition\n",
    "    if n<=1 :\n",
    "        return 1\n",
    "    \n",
    "    ## 2. Recursive Function call\n",
    "    return n*factorial(n-1)\n",
    "\n",
    "\n",
    "\n",
    "## Driver Code\n",
    "n=5\n",
    "result = factorial(n)\n",
    "print(result)"
   ]
  },
  {
   "cell_type": "code",
   "execution_count": null,
   "id": "cb22c92a-63a9-4d28-96de-897fa8755e8f",
   "metadata": {},
   "outputs": [],
   "source": [
    "2. Fibonnaci Series\n",
    "// time complexity: O(2^n)\n",
    "// space complexity: O(n)\n",
    "\n",
    "class Solution:\n",
    "    def fib(self, n: int) -> int:\n",
    "        ## base case condition\n",
    "        if n <= 1:\n",
    "            return n\n",
    "        \n",
    "        ## recursive function call\n",
    "        return self.fib(n-1) + self.fib(n-2)"
   ]
  },
  {
   "cell_type": "code",
   "execution_count": null,
   "id": "faf3b253-461a-4801-85c5-57a6b25e6f15",
   "metadata": {},
   "outputs": [],
   "source": [
    "3. Climbing Stairs\n",
    "// time complexity: O(2^n)\n",
    "// space complexity: O(n)\n",
    "\n",
    "## TLE - Time Limit Exceeded because test cases taking bigger values of n\n",
    "class Solution:\n",
    "    def climbStairs(self, n: int) -> int:\n",
    "        if n <= 3:\n",
    "            return n\n",
    "        \n",
    "        return self.climbStairs(n-1) + self.climbStairs(n-2)\n"
   ]
  },
  {
   "cell_type": "code",
   "execution_count": null,
   "id": "37eb7078-823d-4309-925e-db1c7c44d255",
   "metadata": {},
   "outputs": [],
   "source": [
    "Optimized Approach - Iterative Approach\n",
    "// time complexity: O(n)\n",
    "// space complexity: O(1)\n",
    "class Solution:\n",
    "    def climbStairs(self, n: int) -> int:\n",
    "        ## base case condition\n",
    "        if n == 1:\n",
    "            return 1\n",
    "        ## bigger value of n\n",
    "        first = 1\n",
    "        second = 2\n",
    "        for i in range(3,n+1):\n",
    "            third = first + second\n",
    "            first = second\n",
    "            second = third\n",
    "        return second"
   ]
  },
  {
   "cell_type": "markdown",
   "id": "36e77669-0e22-4893-8f1a-b282061b8f6d",
   "metadata": {},
   "source": [
    "Is the recursive approach is better or iterative approach is better ?\n",
    "It depends upon problems."
   ]
  },
  {
   "cell_type": "code",
   "execution_count": null,
   "id": "fd0d413a-23ad-4470-af04-dded728bb050",
   "metadata": {},
   "outputs": [],
   "source": []
  }
 ],
 "metadata": {
  "kernelspec": {
   "display_name": "Python 3 (ipykernel)",
   "language": "python",
   "name": "python3"
  },
  "language_info": {
   "codemirror_mode": {
    "name": "ipython",
    "version": 3
   },
   "file_extension": ".py",
   "mimetype": "text/x-python",
   "name": "python",
   "nbconvert_exporter": "python",
   "pygments_lexer": "ipython3",
   "version": "3.10.8"
  }
 },
 "nbformat": 4,
 "nbformat_minor": 5
}
