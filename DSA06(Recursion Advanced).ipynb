{
 "cells": [
  {
   "cell_type": "code",
   "execution_count": null,
   "id": "f3a57469-afba-4921-9956-556b82fb7b18",
   "metadata": {},
   "outputs": [],
   "source": [
    "Data:- (i)-Storage &(ii)- Computation"
   ]
  },
  {
   "cell_type": "code",
   "execution_count": null,
   "id": "d3f2a283-22ca-41a6-b6de-698d4df2d2e6",
   "metadata": {},
   "outputs": [],
   "source": [
    "Sorting:- Arranging the array data in any order."
   ]
  },
  {
   "cell_type": "code",
   "execution_count": null,
   "id": "6be502e7-1671-4f41-9c8a-bb596a13e6cc",
   "metadata": {},
   "outputs": [],
   "source": [
    "There are three basic sorting algorithms.\n",
    "\n",
    "    (i)- Bubble sort\n",
    "   (ii)- Selection sort\n",
    "  (iii)- Insertion sort"
   ]
  },
  {
   "cell_type": "code",
   "execution_count": null,
   "id": "0b33ba76-98a5-45e3-ad96-021b938f86e6",
   "metadata": {},
   "outputs": [],
   "source": [
    "#Bubble sorting\n",
    "\n",
    "def bubbleSort(arr):\n",
    "    for i in range(len(arr)-1,0,-1):\n",
    "        for j in range(i):\n",
    "            if(arr[j]>arr[j+1]):\n",
    "                arr[j],arr[j+1] = arr[j+1],arr[j]\n",
    "                "
   ]
  },
  {
   "cell_type": "code",
   "execution_count": null,
   "id": "80dab07e-8159-47ff-9d77-bd12bce10db1",
   "metadata": {},
   "outputs": [],
   "source": [
    "Time Complexity :- O(n^2)"
   ]
  },
  {
   "cell_type": "code",
   "execution_count": null,
   "id": "307ed99d-fa86-4fcb-8d85-8898e42925a6",
   "metadata": {},
   "outputs": [],
   "source": [
    "Types of Sorting :-\n",
    "\n",
    " (i)- Stable Sorting\n",
    "(ii)- Unstable Sorting"
   ]
  },
  {
   "cell_type": "code",
   "execution_count": null,
   "id": "286ccc9b-90ff-48fa-a25d-6a6449da6b5a",
   "metadata": {},
   "outputs": [],
   "source": [
    "Stable Sorting :- If after sorting two same elements the first one comes before second one i.e. 2 comes before 2 then it is stable sorting.    \n",
    "\n",
    "Exp:- [3,5,6,2,9,(2)] \n",
    "After sorting [(2),2,3,5,6,9] ,[2,(2),3,5,6,9]\n",
    "\n",
    "Exp2:- [7,6,(1),2,5,1] then if  after sorting [1,(1),2,5,6] then it is Unstable  sorting."
   ]
  },
  {
   "cell_type": "code",
   "execution_count": null,
   "id": "156f14b6-9b95-4e56-a12c-5e88a7d6ba97",
   "metadata": {},
   "outputs": [],
   "source": [
    "Unstable Sorting :- If relative position of two items gets change after sorting then it is unstable sorting. "
   ]
  },
  {
   "cell_type": "code",
   "execution_count": null,
   "id": "3037c7e3-8175-4b9f-8f63-7637428b480b",
   "metadata": {},
   "outputs": [],
   "source": [
    "Question :- Can we do something in this code so that bubble shot become more efficient ?"
   ]
  },
  {
   "cell_type": "code",
   "execution_count": null,
   "id": "021baf11-5b3c-4727-8aa7-3bc684a4bdbb",
   "metadata": {},
   "outputs": [],
   "source": [
    "#optimised bubble sorting algorithm\n",
    "\n",
    "def bubbleSortOptimized(arr):\n",
    "    for i in range(len(arr)-1,0,-1):\n",
    "        isSorted =True #flag\n",
    "        for j in range(i):\n",
    "            if(arr[j]>arr[j+1]):\n",
    "                arr[j],arr[j+1] = arr[j+1],arr[j]\n",
    "        if isSorted :\n",
    "            print(\"Array got sorted after passing outer lopp {}sorted.\")\n",
    "            break\n",
    "            \n",
    "arr=[2,4,5,7,8,9]  \n",
    "bubbleSortOptimized(arr)\n",
    "print(arr)\n",
    "\n",
    "#time complexity is O(n),when you provide sorted array\n",
    "# In the worst case time complexity is O(n2).\n",
    "# When you provide reverse sorted array(best case)\n",
    "# Useful for stable sorting"
   ]
  },
  {
   "cell_type": "code",
   "execution_count": null,
   "id": "69f53556-e8dc-43d2-a5cc-00320c999a54",
   "metadata": {},
   "outputs": [],
   "source": [
    "Time Complexity is how on. of execution is proportional to the input size.\n",
    "\n",
    "Exp:- No. of operation in above example is O(n^2). "
   ]
  },
  {
   "cell_type": "code",
   "execution_count": null,
   "id": "6bca5551-dd5a-4c0e-9ea5-c850e6e2e3ac",
   "metadata": {},
   "outputs": [],
   "source": [
    "# Given an array ,check if the array is sorted?\n",
    "\n",
    "def isSorted(arr):\n",
    "    isSorted = True\n",
    "    for i in range(len(arr)-1):\n",
    "        if arr[i]>arr[i+1]:\n",
    "            isSorted = False\n",
    "            break\n",
    "    if isSorted:\n",
    "        print(\"Array is sorted\")\n",
    "    else:\n",
    "        print(\"Array is not sorted\")"
   ]
  },
  {
   "cell_type": "code",
   "execution_count": null,
   "id": "5d90e1af-8089-4867-882b-0c7bb301db14",
   "metadata": {},
   "outputs": [],
   "source": [
    "We will go in the if block if left element is bigger than right element.If all the left element is bigger than right element then array is sorted."
   ]
  },
  {
   "cell_type": "code",
   "execution_count": null,
   "id": "6fd283c7-3e62-4265-b401-f62f96258065",
   "metadata": {},
   "outputs": [],
   "source": [
    "# Selection sort \n",
    "\n",
    "def selectionSort(arr):\n",
    "    for i in range(len(arr)):\n",
    "        min = i\n",
    "        for j in range(i+1 ,len(arr)):\n",
    "            if arr[j] < arr[min]:\n",
    "                min = j\n",
    "        # Find the smallest values\n",
    "        arr[i], arr[min] =arr[min] , arr[i] \n",
    "                \n",
    "arr=[5,8,9,6,4]\n",
    "selectionSort(arr)\n",
    "print(arr)\n"
   ]
  },
  {
   "cell_type": "code",
   "execution_count": null,
   "id": "fa25add4-66cb-4d10-ac11-173feed607ca",
   "metadata": {},
   "outputs": [],
   "source": [
    "def insertion_sort(arr):\n",
    "    for i in range(1,len(arr)):\n",
    "        v = arr[i]\n",
    "        j=i \n",
    "        while(j>=1 and arr[j-1]>v):\n",
    "            arr[j]=arr[j-1]\n",
    "            j-=1\n",
    "        arr[j]=v\n"
   ]
  },
  {
   "cell_type": "code",
   "execution_count": null,
   "id": "c9289f87-4a04-4d23-9fb4-885551231e95",
   "metadata": {},
   "outputs": [],
   "source": [
    "We use this when we insert data in already sorted collection."
   ]
  },
  {
   "cell_type": "code",
   "execution_count": null,
   "id": "d8a64ea8-59fe-44d0-85e7-5a57b01cbd7f",
   "metadata": {},
   "outputs": [],
   "source": [
    "We use sorted array for binary search."
   ]
  },
  {
   "cell_type": "code",
   "execution_count": null,
   "id": "252a2574-7f8f-4d7e-8ee4-b1daed3785a2",
   "metadata": {},
   "outputs": [],
   "source": [
    "Function calling itself"
   ]
  },
  {
   "cell_type": "code",
   "execution_count": null,
   "id": "caca0857-9e0a-4a9e-8d2e-737c354ab4d4",
   "metadata": {},
   "outputs": [],
   "source": [
    "def fun():\n",
    "    fun()\n",
    "    \n",
    "fun()\n",
    "# This will not give me the desire results.\n",
    "\n"
   ]
  },
  {
   "cell_type": "code",
   "execution_count": null,
   "id": "079ed263-792b-49e8-a1ea-e8cd3361212f",
   "metadata": {},
   "outputs": [],
   "source": [
    "# Any recursive problem should have 3 steps.\n",
    "1.Base Condition/Termination\n",
    "2.Logic\n",
    "3.Call the function again(Recursive Call)"
   ]
  },
  {
   "cell_type": "code",
   "execution_count": null,
   "id": "6e7065b5-a299-44ee-82d7-4220dac6ae4e",
   "metadata": {},
   "outputs": [],
   "source": [
    "{1,2,3,4} I want to print using recursion"
   ]
  },
  {
   "cell_type": "code",
   "execution_count": 5,
   "id": "f0553f2b-a286-43c0-b75f-5e349252a824",
   "metadata": {},
   "outputs": [
    {
     "name": "stdout",
     "output_type": "stream",
     "text": [
      "1\n",
      "2\n",
      "3\n",
      "4\n"
     ]
    }
   ],
   "source": [
    "Arr=[1,2,3,4]\n",
    "def printRec(arr,SI):\n",
    "    ##Base Condition\n",
    "    if SI>= len(arr):\n",
    "        return\n",
    "    #Logic\n",
    "    print(arr[SI])\n",
    "    \n",
    "    #Recursive Call\n",
    "    printRec(arr,SI+1)\n",
    "    \n",
    "printRec([1,2,3,4],0)    "
   ]
  },
  {
   "cell_type": "code",
   "execution_count": 1,
   "id": "b0557c82-0669-49e2-a017-876bdab48595",
   "metadata": {},
   "outputs": [
    {
     "name": "stdout",
     "output_type": "stream",
     "text": [
      "4\n",
      "3\n",
      "2\n",
      "1\n"
     ]
    }
   ],
   "source": [
    "def printRec(arr,SI):\n",
    "    ##Base Condition\n",
    "    if SI>= len(arr):\n",
    "        return\n",
    "    \n",
    "    #Recursive Call\n",
    "    printRec(arr,SI+1)\n",
    "    \n",
    "    #Logic\n",
    "    print(arr[SI])\n",
    "    \n",
    "printRec([1,2,3,4],0)"
   ]
  },
  {
   "cell_type": "code",
   "execution_count": null,
   "id": "d949fb11-be5c-4a4c-9e2d-fbebb9ee2421",
   "metadata": {},
   "outputs": [],
   "source": [
    "Call Stack:- Call Stack is a stack kind of data structure which follows FILO(First In Last Out) or LIFO (Last In First Out)."
   ]
  },
  {
   "cell_type": "code",
   "execution_count": null,
   "id": "23b33d5d-08a5-4fb8-a353-e4373bce9ba8",
   "metadata": {},
   "outputs": [],
   "source": [
    "Insert anything is called push and remove anything is called pop."
   ]
  },
  {
   "cell_type": "code",
   "execution_count": null,
   "id": "83d006f9-92ba-4844-9370-3cf72002acf9",
   "metadata": {},
   "outputs": [],
   "source": [
    "Call stack is empty in beginning and end."
   ]
  },
  {
   "cell_type": "code",
   "execution_count": null,
   "id": "4b97016b-18d3-405b-b977-df6d50cf22a4",
   "metadata": {},
   "outputs": [],
   "source": [
    "Unless f1 will not be executed completely untill f2 will not enter into the call stack.\n",
    "Execution is continue if the call stack is not empty."
   ]
  },
  {
   "cell_type": "code",
   "execution_count": null,
   "id": "b4d3d58f-e872-42f8-a913-b767c9f3d7a8",
   "metadata": {},
   "outputs": [],
   "source": [
    "Ques:- [3,5,2,1,4] Find the smallest number using recurssion."
   ]
  },
  {
   "cell_type": "code",
   "execution_count": 6,
   "id": "97e998aa-5675-432d-9416-6be888354bdc",
   "metadata": {},
   "outputs": [
    {
     "name": "stdout",
     "output_type": "stream",
     "text": [
      "4\n",
      "2\n",
      "1\n",
      "1\n",
      "1\n"
     ]
    }
   ],
   "source": [
    "def smallRec(arr,SI):\n",
    "    while SI>=len(arr):\n",
    "        return\n",
    "    #Logic code\n",
    "    s=arr[SI]\n",
    "    for i in range(SI+1,len(arr)):\n",
    "        if arr[i]<s:\n",
    "            s=arr[i]\n",
    "    #Recursive call\n",
    "    smallRec(arr,SI+1)\n",
    "    print(s)\n",
    "    \n",
    "smallRec([3,5,1,2,4],0)    "
   ]
  },
  {
   "cell_type": "code",
   "execution_count": 7,
   "id": "a02f0b3c-2b49-4932-a311-1b295e17ed01",
   "metadata": {},
   "outputs": [
    {
     "data": {
      "text/plain": [
       "-1"
      ]
     },
     "execution_count": 7,
     "metadata": {},
     "output_type": "execute_result"
    }
   ],
   "source": [
    "def find_min(arr,SI):\n",
    "    #Base Condition\n",
    "    if SI>=len(arr):\n",
    "        return 999999\n",
    "    #Logic code\n",
    "    return min(arr[SI],find_min(arr,SI+1))\n",
    "find_min([3,2,-1,5,1],0)"
   ]
  },
  {
   "cell_type": "code",
   "execution_count": null,
   "id": "2632ecd5-065d-468c-9135-64617c57a73d",
   "metadata": {},
   "outputs": [],
   "source": [
    "KISS=> KEEP IT SIMPLE SILLY !"
   ]
  },
  {
   "cell_type": "code",
   "execution_count": null,
   "id": "ee58e184-a502-4db9-a5b6-0ce871ad2a7e",
   "metadata": {},
   "outputs": [],
   "source": [
    "moves(n,s,d,a) :-Give no. of steps for moving n coins from s to  d using a "
   ]
  },
  {
   "cell_type": "code",
   "execution_count": null,
   "id": "495d43b4-de09-4729-b901-c1c8a5f498f2",
   "metadata": {},
   "outputs": [],
   "source": [
    "moves(n-1,s,d,a) move n-1 coins from s to d using a"
   ]
  },
  {
   "cell_type": "code",
   "execution_count": null,
   "id": "c3a2c5eb-a75b-4087-bf98-a1a638aa2e38",
   "metadata": {},
   "outputs": [],
   "source": [
    "moves(n-1,s,a,d):- N0. of steps to Move n-1 no.of coins from s to a using d"
   ]
  },
  {
   "cell_type": "code",
   "execution_count": null,
   "id": "aabec259-a10b-45cd-a964-afc05ea31f44",
   "metadata": {},
   "outputs": [],
   "source": [
    "So moves(n,s,d,a) = moves(n-1,s,a,d)+ 1 + moves(n-1,a,d,s)"
   ]
  },
  {
   "cell_type": "code",
   "execution_count": 1,
   "id": "a36b9e3c-93b1-497d-b090-b78cf1220e8d",
   "metadata": {},
   "outputs": [
    {
     "name": "stdout",
     "output_type": "stream",
     "text": [
      "1\n",
      "3\n",
      "7\n",
      "15\n",
      "31\n"
     ]
    }
   ],
   "source": [
    "def moves(n,s,d,a):\n",
    "    #Base condition\n",
    "    if n==1:\n",
    "        return 1\n",
    "    #Logic to move n-1 coin from s to a then move 1 biggest coin to s=>d then n-1 coin a->d\n",
    "    return moves(n-1,s,a,d)+1+moves(n-1,a,d,s)\n",
    "print(moves(1,'s','d','a'))\n",
    "print(moves(2,'s','d','a'))\n",
    "print(moves(3,'s','d','a'))\n",
    "print(moves(4,'s','d','a'))\n",
    "print(moves(5,'s','d','a'))"
   ]
  },
  {
   "cell_type": "code",
   "execution_count": 2,
   "id": "bf257c75-c57c-4b00-a721-a38ed1f76174",
   "metadata": {},
   "outputs": [
    {
     "name": "stdout",
     "output_type": "stream",
     "text": [
      "1\n",
      "3\n",
      "7\n",
      "15\n",
      "31\n"
     ]
    }
   ],
   "source": [
    "def moves(n,s,d,a):\n",
    "    #Base condition\n",
    "    if n==1:\n",
    "        return 1\n",
    "    #Logic to move n-1 coin from s to a then move 1 biggest coin to s=>d then n-1 coin a->d\n",
    "    return moves(n-1,s,a,d)+1+moves(n-1,a,d,s)\n",
    "print(moves(1,'s','d','a'))\n",
    "print(moves(2,'s','d','a'))\n",
    "print(moves(3,'s','d','a'))\n",
    "print(moves(4,'s','d','a'))\n",
    "print(moves(5,'s','d','a'))"
   ]
  },
  {
   "cell_type": "code",
   "execution_count": null,
   "id": "7bb43412-5f68-479f-9400-ff2c3ae1bccc",
   "metadata": {},
   "outputs": [],
   "source": []
  }
 ],
 "metadata": {
  "kernelspec": {
   "display_name": "Python 3 (ipykernel)",
   "language": "python",
   "name": "python3"
  },
  "language_info": {
   "codemirror_mode": {
    "name": "ipython",
    "version": 3
   },
   "file_extension": ".py",
   "mimetype": "text/x-python",
   "name": "python",
   "nbconvert_exporter": "python",
   "pygments_lexer": "ipython3",
   "version": "3.10.8"
  }
 },
 "nbformat": 4,
 "nbformat_minor": 5
}
