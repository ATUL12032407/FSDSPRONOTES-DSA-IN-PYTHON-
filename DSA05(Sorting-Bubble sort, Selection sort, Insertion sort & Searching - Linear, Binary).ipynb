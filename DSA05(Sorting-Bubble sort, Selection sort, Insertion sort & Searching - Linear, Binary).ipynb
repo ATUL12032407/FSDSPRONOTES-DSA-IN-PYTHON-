{
 "cells": [
  {
   "cell_type": "markdown",
   "id": "bd1d9d52-a785-4502-abaf-5c4aa1ba4cfd",
   "metadata": {},
   "source": [
    "Sorting is an arrangement or ordering."
   ]
  },
  {
   "cell_type": "code",
   "execution_count": null,
   "id": "382eda30-a887-4c2b-aa38-f892912a9edb",
   "metadata": {},
   "outputs": [],
   "source": [
    "What is sorting and why ?"
   ]
  },
  {
   "cell_type": "code",
   "execution_count": null,
   "id": "c40a5c79-04b2-454f-bb95-d871dbc66a07",
   "metadata": {},
   "outputs": [],
   "source": [
    "Sorting is an arrangement in an order. We sort the data for getting information immediately."
   ]
  },
  {
   "cell_type": "code",
   "execution_count": null,
   "id": "0537275f-a646-4f69-9190-38b042744c2a",
   "metadata": {},
   "outputs": [],
   "source": [
    "There are three basic sorting algorithms.\n",
    "\n",
    "    (i)- Bubble sort\n",
    "   (ii)- Selection sort\n",
    "  (iii)- Insertion sort"
   ]
  },
  {
   "cell_type": "code",
   "execution_count": null,
   "id": "dc7cf4b7-7578-4623-8cf9-c2737d68f8f0",
   "metadata": {},
   "outputs": [],
   "source": [
    "Bubble sort :- We compare the bigger number and shift it to the right.So in first comparison the largest number shifted towards end."
   ]
  },
  {
   "cell_type": "code",
   "execution_count": null,
   "id": "fc4d3b61-1b57-4a4b-b238-8b33ee4d65b3",
   "metadata": {},
   "outputs": [],
   "source": [
    "#Bubble sorting\n",
    "\n",
    "def bubbleSort(arr):\n",
    "    for i in range(len(arr)-1,0,-1):\n",
    "        for j in range(i):\n",
    "            if(arr[j]>arr[j+1]):\n",
    "                arr[j],arr[j+1] = arr[j+1],arr[j]\n",
    "                \n",
    "               "
   ]
  },
  {
   "cell_type": "code",
   "execution_count": null,
   "id": "17a91bed-dc6f-4bcd-9423-17e1467cc4bf",
   "metadata": {},
   "outputs": [],
   "source": [
    "arr =[5,4,2,3,9]\n",
    "bubbleSort(arr)\n",
    "print(arr)"
   ]
  },
  {
   "cell_type": "code",
   "execution_count": null,
   "id": "2d2dfbcf-8eb9-4478-a8f4-41a23b0817b8",
   "metadata": {},
   "outputs": [],
   "source": [
    "arr =[7,4,6,5,2]\n",
    "bubbleSort(arr)\n",
    "print(arr)"
   ]
  },
  {
   "cell_type": "code",
   "execution_count": null,
   "id": "a9615c2a-035c-4a03-8003-09b3478928a2",
   "metadata": {},
   "outputs": [],
   "source": [
    "Time Complexity :- O(n^2)"
   ]
  },
  {
   "cell_type": "code",
   "execution_count": null,
   "id": "e1b42fdd-0fc2-4281-ac5b-91ece515d515",
   "metadata": {},
   "outputs": [],
   "source": [
    "Types of Sorting :-\n",
    "\n",
    " (i)- Stable Sorting\n",
    "(ii)- Unstable Sorting"
   ]
  },
  {
   "cell_type": "code",
   "execution_count": null,
   "id": "c613c249-eca9-4c1f-850e-05d158bc47a8",
   "metadata": {},
   "outputs": [],
   "source": [
    "Stable Sorting :- If after sorting two same elements the first one comes before second one i.e. (2) comes before 2 then it is unstable sorting.    \n",
    "\n",
    "Exp:- [3,5,6,2,9,2] \n",
    "After sorting [(2),2,3,5,6,9] ,[2,(2),3,5,6,9]\n",
    "\n",
    "Exp2:- [7,6,(1),2,5,1] then if  after sorting [1,(1),2,5,6] then it is Unstable  sorting."
   ]
  },
  {
   "cell_type": "code",
   "execution_count": null,
   "id": "fe98c552-8453-4ecc-970d-550a2b7a1e53",
   "metadata": {},
   "outputs": [],
   "source": [
    "Unstable Sorting :- If relative position of two items gets change after sorting then it is unstable sorting. "
   ]
  },
  {
   "cell_type": "markdown",
   "id": "b7c20e39-49e0-4ee7-b9a8-338746714b2a",
   "metadata": {},
   "source": [
    "Question :- Can we do something in this code so that bubble shot become more efficient ?"
   ]
  },
  {
   "cell_type": "code",
   "execution_count": 6,
   "id": "a3a6b380-4893-46e7-a55a-e65f4ef8c16d",
   "metadata": {},
   "outputs": [
    {
     "name": "stdout",
     "output_type": "stream",
     "text": [
      "Array got sorted after passing outer lopp {}sorted.\n",
      "[2, 4, 5, 7, 8, 9]\n"
     ]
    }
   ],
   "source": [
    "#optimised bubble sorting algorithm\n",
    "\n",
    "def bubbleSortOptimized(arr):\n",
    "    for i in range(len(arr)-1,0,-1):\n",
    "        isSorted =True #flag\n",
    "        for j in range(i):\n",
    "            if(arr[j]>arr[j+1]):\n",
    "                arr[j],arr[j+1] = arr[j+1],arr[j]\n",
    "        if isSorted :\n",
    "            print(\"Array got sorted after passing outer lopp {}sorted.\")\n",
    "            break\n",
    "            \n",
    "arr=[2,4,5,7,8,9]  \n",
    "bubbleSortOptimized(arr)\n",
    "print(arr)\n",
    "\n",
    "#time complexity is O(n),when you provide sorted array\n",
    "# In the worst case time complexity is O(n2).\n",
    "# When you provide reverse sorted array(best case)\n",
    "# Useful for stable sorting"
   ]
  },
  {
   "cell_type": "code",
   "execution_count": 3,
   "id": "261516c9-701f-4f63-bf26-5e29681ae433",
   "metadata": {},
   "outputs": [
    {
     "name": "stdout",
     "output_type": "stream",
     "text": [
      "kachaudi-pakaudi\n",
      "kachaudi-pakaudi\n",
      "kachaudi-pakaudi\n",
      "kachaudi-pakaudi\n",
      "kachaudi-pakaudi\n",
      "kachaudi-pakaudi\n",
      "kachaudi-pakaudi\n",
      "kachaudi-pakaudi\n",
      "kachaudi-pakaudi\n",
      "kachaudi-pakaudi\n",
      "kachaudi-pakaudi\n",
      "kachaudi-pakaudi\n",
      "kachaudi-pakaudi\n",
      "kachaudi-pakaudi\n",
      "kachaudi-pakaudi\n",
      "kachaudi-pakaudi\n",
      "kachaudi-pakaudi\n",
      "kachaudi-pakaudi\n",
      "kachaudi-pakaudi\n",
      "kachaudi-pakaudi\n",
      "kachaudi-pakaudi\n",
      "kachaudi-pakaudi\n",
      "kachaudi-pakaudi\n",
      "kachaudi-pakaudi\n",
      "kachaudi-pakaudi\n",
      "kachaudi-pakaudi\n",
      "kachaudi-pakaudi\n",
      "kachaudi-pakaudi\n",
      "kachaudi-pakaudi\n",
      "kachaudi-pakaudi\n",
      "kachaudi-pakaudi\n",
      "kachaudi-pakaudi\n",
      "kachaudi-pakaudi\n",
      "kachaudi-pakaudi\n",
      "kachaudi-pakaudi\n",
      "kachaudi-pakaudi\n",
      "kachaudi-pakaudi\n",
      "kachaudi-pakaudi\n",
      "kachaudi-pakaudi\n",
      "kachaudi-pakaudi\n",
      "kachaudi-pakaudi\n",
      "kachaudi-pakaudi\n",
      "kachaudi-pakaudi\n",
      "kachaudi-pakaudi\n",
      "kachaudi-pakaudi\n",
      "kachaudi-pakaudi\n",
      "kachaudi-pakaudi\n",
      "kachaudi-pakaudi\n",
      "kachaudi-pakaudi\n",
      "kachaudi-pakaudi\n",
      "kachaudi-pakaudi\n",
      "kachaudi-pakaudi\n",
      "kachaudi-pakaudi\n",
      "kachaudi-pakaudi\n",
      "kachaudi-pakaudi\n",
      "kachaudi-pakaudi\n",
      "kachaudi-pakaudi\n",
      "kachaudi-pakaudi\n",
      "kachaudi-pakaudi\n",
      "kachaudi-pakaudi\n",
      "kachaudi-pakaudi\n",
      "kachaudi-pakaudi\n",
      "kachaudi-pakaudi\n",
      "kachaudi-pakaudi\n",
      "kachaudi-pakaudi\n",
      "kachaudi-pakaudi\n",
      "kachaudi-pakaudi\n",
      "kachaudi-pakaudi\n",
      "kachaudi-pakaudi\n",
      "kachaudi-pakaudi\n",
      "kachaudi-pakaudi\n",
      "kachaudi-pakaudi\n",
      "kachaudi-pakaudi\n",
      "kachaudi-pakaudi\n",
      "kachaudi-pakaudi\n",
      "kachaudi-pakaudi\n",
      "kachaudi-pakaudi\n",
      "kachaudi-pakaudi\n",
      "kachaudi-pakaudi\n",
      "kachaudi-pakaudi\n",
      "kachaudi-pakaudi\n",
      "kachaudi-pakaudi\n",
      "kachaudi-pakaudi\n",
      "kachaudi-pakaudi\n",
      "kachaudi-pakaudi\n",
      "kachaudi-pakaudi\n",
      "kachaudi-pakaudi\n",
      "kachaudi-pakaudi\n",
      "kachaudi-pakaudi\n",
      "kachaudi-pakaudi\n",
      "kachaudi-pakaudi\n",
      "kachaudi-pakaudi\n",
      "kachaudi-pakaudi\n",
      "kachaudi-pakaudi\n",
      "kachaudi-pakaudi\n",
      "kachaudi-pakaudi\n",
      "kachaudi-pakaudi\n",
      "kachaudi-pakaudi\n",
      "kachaudi-pakaudi\n",
      "kachaudi-pakaudi\n"
     ]
    }
   ],
   "source": [
    "for i in range(10):\n",
    "    for j in range(10):\n",
    "        print(\"kachaudi-pakaudi\")\n"
   ]
  },
  {
   "cell_type": "code",
   "execution_count": 1,
   "id": "c0604048-ece1-491b-921c-3a18ed3eee15",
   "metadata": {},
   "outputs": [
    {
     "name": "stdout",
     "output_type": "stream",
     "text": [
      "hello\n",
      "\n",
      "hello\n",
      "\n",
      "hello\n",
      "\n",
      "hello\n",
      "\n",
      "hello\n",
      "\n",
      "hello\n",
      "\n",
      "hello\n",
      "\n",
      "hello\n",
      "\n",
      "hello\n",
      "\n",
      "hello\n",
      "\n",
      "hello\n",
      "\n",
      "hello\n",
      "\n",
      "hello\n",
      "\n",
      "hello\n",
      "\n",
      "hello\n",
      "\n",
      "hello\n",
      "\n",
      "hello\n",
      "\n",
      "hello\n",
      "\n",
      "hello\n",
      "\n",
      "hello\n",
      "\n",
      "hello\n",
      "\n",
      "hello\n",
      "\n",
      "hello\n",
      "\n",
      "hello\n",
      "\n",
      "hello\n",
      "\n",
      "hello\n",
      "\n",
      "hello\n",
      "\n",
      "hello\n",
      "\n",
      "hello\n",
      "\n",
      "hello\n",
      "\n",
      "hello\n",
      "\n",
      "hello\n",
      "\n",
      "hello\n",
      "\n",
      "hello\n",
      "\n",
      "hello\n",
      "\n",
      "hello\n",
      "\n",
      "hello\n",
      "\n",
      "hello\n",
      "\n",
      "hello\n",
      "\n",
      "hello\n",
      "\n",
      "hello\n",
      "\n",
      "hello\n",
      "\n",
      "hello\n",
      "\n",
      "hello\n",
      "\n",
      "hello\n",
      "\n",
      "hello\n",
      "\n",
      "hello\n",
      "\n",
      "hello\n",
      "\n",
      "hello\n",
      "\n",
      "hello\n",
      "\n",
      "hello\n",
      "\n",
      "hello\n",
      "\n",
      "hello\n",
      "\n",
      "hello\n",
      "\n",
      "hello\n",
      "\n",
      "hello\n",
      "\n",
      "hello\n",
      "\n",
      "hello\n",
      "\n",
      "hello\n",
      "\n",
      "hello\n",
      "\n",
      "hello\n",
      "\n",
      "hello\n",
      "\n",
      "hello\n",
      "\n",
      "hello\n",
      "\n",
      "hello\n",
      "\n",
      "hello\n",
      "\n"
     ]
    }
   ],
   "source": [
    "for i in range(12):\n",
    "    for j in range(i):\n",
    "        print(\"hello\\n\")"
   ]
  },
  {
   "cell_type": "code",
   "execution_count": null,
   "id": "13c85c21-f018-4c71-8fea-46d180dda0c5",
   "metadata": {},
   "outputs": [],
   "source": [
    "Time Complexity is how on. of execution is proportional to the input size.\n",
    "\n",
    "Exp:- No. of operation in above example is O(n^2). "
   ]
  },
  {
   "cell_type": "code",
   "execution_count": 2,
   "id": "515e8b4b-40ab-42f6-85c4-30e59347931b",
   "metadata": {},
   "outputs": [],
   "source": [
    "# Given an array ,check if the array is sorted?\n",
    "\n",
    "def isSorted(arr):\n",
    "    isSorted = True\n",
    "    for i in range(len(arr)-1):\n",
    "        if arr[i]>arr[i+1]:\n",
    "            isSorted = False\n",
    "            break\n",
    "    if isSorted:\n",
    "        print(\"Array is sorted\")\n",
    "    else:\n",
    "        print(\"Array is not sorted\")\n",
    "              "
   ]
  },
  {
   "cell_type": "code",
   "execution_count": null,
   "id": "04ce9984-a54f-43d4-b46d-465576ac4cef",
   "metadata": {},
   "outputs": [],
   "source": [
    "We will go in the if block if left element is bigger than right element.If all the left element is bigger than right element then array is sorted."
   ]
  },
  {
   "cell_type": "code",
   "execution_count": null,
   "id": "bc2ee145-863d-4c7f-973e-ce192629854e",
   "metadata": {},
   "outputs": [],
   "source": [
    "Selection sort:- \n"
   ]
  },
  {
   "cell_type": "code",
   "execution_count": 8,
   "id": "19faff4c-4ef0-4b99-9fea-3691de153da0",
   "metadata": {},
   "outputs": [
    {
     "name": "stdout",
     "output_type": "stream",
     "text": [
      "[4, 5, 6, 8, 9]\n"
     ]
    }
   ],
   "source": [
    "# Selection sort \n",
    "\n",
    "def selectionSort(arr):\n",
    "    for i in range(len(arr)):\n",
    "        min = i\n",
    "        for j in range(i+1 ,len(arr)):\n",
    "            if arr[j] < arr[min]:\n",
    "                min = j\n",
    "        # Find the smallest values\n",
    "        arr[i], arr[min] =arr[min] , arr[i] \n",
    "                \n",
    "arr=[5,8,9,6,4]\n",
    "selectionSort(arr)\n",
    "print(arr)\n"
   ]
  },
  {
   "cell_type": "code",
   "execution_count": null,
   "id": "379b258f-0935-412a-930f-3a442844df0d",
   "metadata": {},
   "outputs": [],
   "source": [
    "Comparision between selection sort and bubble sort :-\n",
    "\n",
    "(i)- In terms of time complexity same.\n",
    "(ii)- Comparision is n^2\n",
    "(iii)- In selection sort swapping happens n-times.\n",
    "(iv)- Selection sort is unstable sorting."
   ]
  },
  {
   "cell_type": "code",
   "execution_count": null,
   "id": "fab6a4aa-8fef-47f2-ba6f-c1b12e4c2333",
   "metadata": {},
   "outputs": [],
   "source": [
    "## For almost sorted array we can use selection sort."
   ]
  },
  {
   "cell_type": "code",
   "execution_count": null,
   "id": "7abb24c1-8686-4abd-82d4-8972da674952",
   "metadata": {},
   "outputs": [],
   "source": [
    "Online sorting / Insertion sort is used in twitter."
   ]
  },
  {
   "cell_type": "code",
   "execution_count": null,
   "id": "ce41b2a3-72c9-4852-b572-7a6729f79d9c",
   "metadata": {},
   "outputs": [],
   "source": [
    "Bubble and selection are not used practically because of very expenses and slow."
   ]
  },
  {
   "cell_type": "code",
   "execution_count": null,
   "id": "30c676fb-3085-4ea6-aa23-53d00bc04809",
   "metadata": {},
   "outputs": [],
   "source": [
    "Due to python and its libraries DSA is not as much required."
   ]
  },
  {
   "cell_type": "code",
   "execution_count": null,
   "id": "7b879011-517d-4bc8-a0a8-da4a3c17b972",
   "metadata": {},
   "outputs": [],
   "source": [
    "Insertion Sort(Online Sorting Algorithm) :- Stable part getting bigger than unstable part."
   ]
  },
  {
   "cell_type": "code",
   "execution_count": null,
   "id": "d652c8c3-6915-49ad-b922-5117fd485944",
   "metadata": {},
   "outputs": [],
   "source": [
    "def insertion_sort(arr):\n",
    "    for i in range(1,len(arr)):\n",
    "        v = arr[i]\n",
    "        j=i \n",
    "        while(j>=1 and arr[j-1]>v):\n",
    "            arr[j]=arr[j-1]\n",
    "            j-=1\n",
    "        arr[j]=v\n"
   ]
  },
  {
   "cell_type": "code",
   "execution_count": null,
   "id": "354e3a91-d9b8-462c-b092-2605c1c7a1ec",
   "metadata": {},
   "outputs": [],
   "source": [
    "Comparision between insertion, selection sort and bubble sort :-\n",
    "\n",
    "(i)-  In terms of time complexity same.\n",
    "(ii)- Comparision is n^2\n",
    "(iii)-In selection sort swapping happens n^2-times in insertion sort.\n",
    "(iv)- Insertion sort is unstable sorting and it is used when we want to add a new value in that sorted array it takes O(n)."
   ]
  },
  {
   "cell_type": "code",
   "execution_count": null,
   "id": "2d7e3683-48af-49e9-a912-53cdae0e4240",
   "metadata": {},
   "outputs": [],
   "source": [
    "Ques:- How do you use insertion sort and why?"
   ]
  },
  {
   "cell_type": "code",
   "execution_count": null,
   "id": "e74e4b22-e6ed-456c-9e19-d4e81576863b",
   "metadata": {},
   "outputs": [],
   "source": [
    "Page Ranking Algoritms :- We use Queue data structures."
   ]
  },
  {
   "cell_type": "markdown",
   "id": "8fe2dd1b-55d1-4cdf-badb-2b9a0e242232",
   "metadata": {},
   "source": [
    "Sorting makes your search super super fast."
   ]
  },
  {
   "cell_type": "code",
   "execution_count": null,
   "id": "39bc1be1-8ecd-46c3-b4f4-ede82838e7ee",
   "metadata": {},
   "outputs": [],
   "source": [
    "Normal Search Approach :- [3,5,9,2,1000,800,416] is 7 in the list ?\n",
    "\n",
    "(i)- Linear Search :- We compare the target element with every element of the array. It takes O(n) time complexity.This method is inefficient for huge data set."
   ]
  },
  {
   "cell_type": "code",
   "execution_count": 10,
   "id": "56f29b20-fc79-4ac0-877a-a71f907d6ee6",
   "metadata": {},
   "outputs": [
    {
     "name": "stdout",
     "output_type": "stream",
     "text": [
      "-1\n"
     ]
    }
   ],
   "source": [
    "def search(arr ,num):\n",
    "    for i in range(len(arr)):\n",
    "        if arr[i] == num :\n",
    "            return i\n",
    "        else :\n",
    "            return -1\n",
    "        \n",
    "print(search([1,2,3,4,8,9], 10))        "
   ]
  },
  {
   "cell_type": "code",
   "execution_count": null,
   "id": "e34f213b-c5c0-467e-838e-5c0e1db415d4",
   "metadata": {},
   "outputs": [],
   "source": [
    "def binarySearch()"
   ]
  },
  {
   "cell_type": "code",
   "execution_count": 8,
   "id": "0c6064b7-37b4-4cf5-8ec8-c0d31d18146f",
   "metadata": {},
   "outputs": [
    {
     "data": {
      "text/plain": [
       "3"
      ]
     },
     "execution_count": 8,
     "metadata": {},
     "output_type": "execute_result"
    }
   ],
   "source": [
    "\n",
    "\n",
    "def binarySearch(arr, num):\n",
    "    left =0\n",
    "    right = len(arr)-1\n",
    "    # mid = (left+ right)/2\n",
    "    \n",
    "    while(left<= right):\n",
    "        mid = int(left + (right-left)/2)\n",
    "        if arr[mid] == num:\n",
    "            return mid\n",
    "        elif arr[mid]> num :\n",
    "            right = mid-1\n",
    "        else:\n",
    "            left = mid+1\n",
    "    return -1\n",
    "    \n",
    "binarySearch([1,3,4,7,8,9] ,7)   \n",
    "            "
   ]
  },
  {
   "cell_type": "code",
   "execution_count": 10,
   "id": "0e0dc44f-a9b3-4c58-83ea-15c36b6a8a00",
   "metadata": {},
   "outputs": [
    {
     "name": "stdout",
     "output_type": "stream",
     "text": [
      "1\n"
     ]
    }
   ],
   "source": [
    "def binarySearch(arr, num):\n",
    "    left = 0\n",
    "    right = len(arr) - 1\n",
    "    \n",
    "    while left <= right:\n",
    "        mid = int(left + (right - left) / 2)\n",
    "        if arr[mid] == num:\n",
    "            return mid\n",
    "        elif arr[mid] > num:\n",
    "            right = mid - 1\n",
    "        else:\n",
    "            left = mid + 1\n",
    "    \n",
    "    return -1\n",
    "\n",
    "print(binarySearch([1, 3, 4, 7, 8, 9], 3))  # Debugging output\n"
   ]
  },
  {
   "cell_type": "markdown",
   "id": "bdd0c90a-620d-4f5e-9c8a-0ff4148668ad",
   "metadata": {},
   "source": [
    "Array need to be sorted in binary search."
   ]
  },
  {
   "cell_type": "code",
   "execution_count": null,
   "id": "8252c248-2fe6-412a-989f-3a12a6895cee",
   "metadata": {},
   "outputs": [],
   "source": [
    "Time Complexity is O(logn)."
   ]
  }
 ],
 "metadata": {
  "kernelspec": {
   "display_name": "Python 3 (ipykernel)",
   "language": "python",
   "name": "python3"
  },
  "language_info": {
   "codemirror_mode": {
    "name": "ipython",
    "version": 3
   },
   "file_extension": ".py",
   "mimetype": "text/x-python",
   "name": "python",
   "nbconvert_exporter": "python",
   "pygments_lexer": "ipython3",
   "version": "3.10.8"
  }
 },
 "nbformat": 4,
 "nbformat_minor": 5
}
