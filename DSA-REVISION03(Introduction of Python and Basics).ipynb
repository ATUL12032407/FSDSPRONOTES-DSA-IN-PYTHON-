{
 "cells": [
  {
   "cell_type": "code",
   "execution_count": 2,
   "id": "f7d4a740-c006-4b66-8ea2-8914c92f5797",
   "metadata": {},
   "outputs": [
    {
     "name": "stdout",
     "output_type": "stream",
     "text": [
      "Python 3.10.8\n"
     ]
    }
   ],
   "source": [
    "! python --version"
   ]
  },
  {
   "cell_type": "code",
   "execution_count": 3,
   "id": "a6eb4b5d-30c5-4b07-acfc-a50c0b3945b5",
   "metadata": {},
   "outputs": [
    {
     "ename": "SyntaxError",
     "evalue": "Missing parentheses in call to 'print'. Did you mean print(...)? (13199579.py, line 1)",
     "output_type": "error",
     "traceback": [
      "\u001b[0;36m  Cell \u001b[0;32mIn[3], line 1\u001b[0;36m\u001b[0m\n\u001b[0;31m    print\"hi\"\u001b[0m\n\u001b[0m    ^\u001b[0m\n\u001b[0;31mSyntaxError\u001b[0m\u001b[0;31m:\u001b[0m Missing parentheses in call to 'print'. Did you mean print(...)?\n"
     ]
    }
   ],
   "source": [
    "print\"hi\""
   ]
  },
  {
   "cell_type": "code",
   "execution_count": 4,
   "id": "1fd908b8-ac65-4b9d-84de-5dc4d55c4288",
   "metadata": {},
   "outputs": [
    {
     "name": "stdout",
     "output_type": "stream",
     "text": [
      "hi\n"
     ]
    }
   ],
   "source": [
    "print(\"hi\")"
   ]
  },
  {
   "cell_type": "markdown",
   "id": "d6fa32f9-310e-4308-a066-034221a98948",
   "metadata": {},
   "source": [
    "Python is indentation languague."
   ]
  },
  {
   "cell_type": "code",
   "execution_count": 1,
   "id": "c96d13d9-db7b-4296-a2db-baed9f84d994",
   "metadata": {},
   "outputs": [],
   "source": [
    "def add(a,b):\n",
    "    result =a+b\n",
    "    print(result)\n",
    "    "
   ]
  },
  {
   "cell_type": "code",
   "execution_count": 2,
   "id": "12848450-e1e4-474f-97f1-f735f160c1e9",
   "metadata": {},
   "outputs": [
    {
     "name": "stdout",
     "output_type": "stream",
     "text": [
      "9\n"
     ]
    }
   ],
   "source": [
    "add(2,7)"
   ]
  },
  {
   "cell_type": "code",
   "execution_count": 3,
   "id": "e071b020-cb72-4e8d-b93a-37fb5e594e6e",
   "metadata": {},
   "outputs": [
    {
     "name": "stdout",
     "output_type": "stream",
     "text": [
      "25\n"
     ]
    }
   ],
   "source": [
    "print(5*5)"
   ]
  },
  {
   "cell_type": "code",
   "execution_count": 4,
   "id": "4405b9fd-a4b0-4b83-9566-7e4ec8d049bd",
   "metadata": {},
   "outputs": [
    {
     "name": "stdout",
     "output_type": "stream",
     "text": [
      "1\n",
      "2\n",
      "3\n"
     ]
    }
   ],
   "source": [
    "print(1)\n",
    "print(2)\n",
    "print(3)"
   ]
  },
  {
   "cell_type": "code",
   "execution_count": 8,
   "id": "06d7922d-eaa8-40b4-9c54-003657bbabb9",
   "metadata": {},
   "outputs": [
    {
     "name": "stdout",
     "output_type": "stream",
     "text": [
      "1 2 3\n"
     ]
    }
   ],
   "source": [
    "print(1, end=\" \")\n",
    "print(2, end=\" \")\n",
    "print(3)"
   ]
  },
  {
   "cell_type": "code",
   "execution_count": 9,
   "id": "407086d5-26f6-47cf-88ed-982db7198780",
   "metadata": {},
   "outputs": [
    {
     "name": "stdout",
     "output_type": "stream",
     "text": [
      "1\t2\t 3\n"
     ]
    }
   ],
   "source": [
    "print(1, end=\"\\t\")\n",
    "print(2, end=\"\\t \")\n",
    "print(3)"
   ]
  },
  {
   "cell_type": "code",
   "execution_count": 11,
   "id": "d85b8c76-77cb-4aaa-9ab8-b536a199b004",
   "metadata": {},
   "outputs": [
    {
     "name": "stdout",
     "output_type": "stream",
     "text": [
      " 3\n"
     ]
    }
   ],
   "source": [
    "print(1, end=\"\\b\")\n",
    "print(2, end=\"\\b \")\n",
    "print(3)"
   ]
  },
  {
   "cell_type": "code",
   "execution_count": 12,
   "id": "a864d81c-318b-4b16-89a1-5d550af2a479",
   "metadata": {},
   "outputs": [
    {
     "name": "stdout",
     "output_type": "stream",
     "text": [
      "abxy "
     ]
    }
   ],
   "source": [
    "print(\"abc\", end=\"\\b\")\n",
    "print(\"xyz\", end=\"\\b \")"
   ]
  },
  {
   "cell_type": "code",
   "execution_count": 13,
   "id": "9dcb8094-5fc2-4cb0-a39c-2a164643a2b1",
   "metadata": {},
   "outputs": [
    {
     "name": "stdin",
     "output_type": "stream",
     "text": [
      " 3\n"
     ]
    },
    {
     "data": {
      "text/plain": [
       "'3'"
      ]
     },
     "execution_count": 13,
     "metadata": {},
     "output_type": "execute_result"
    }
   ],
   "source": [
    "input()"
   ]
  },
  {
   "cell_type": "code",
   "execution_count": 14,
   "id": "41830f1d-5dc5-4881-8885-43244a9cc7e4",
   "metadata": {},
   "outputs": [
    {
     "name": "stdin",
     "output_type": "stream",
     "text": [
      "Enteryour name. atul\n"
     ]
    }
   ],
   "source": [
    "name= input(\"Enteryour name.\")"
   ]
  },
  {
   "cell_type": "code",
   "execution_count": 15,
   "id": "2bcb7a6b-c71f-4012-866e-07f52cd9104e",
   "metadata": {},
   "outputs": [
    {
     "data": {
      "text/plain": [
       "'atul'"
      ]
     },
     "execution_count": 15,
     "metadata": {},
     "output_type": "execute_result"
    }
   ],
   "source": [
    "name"
   ]
  },
  {
   "cell_type": "code",
   "execution_count": 16,
   "id": "fa006ee4-361d-4a6a-b52d-c97710618722",
   "metadata": {},
   "outputs": [
    {
     "name": "stdin",
     "output_type": "stream",
     "text": [
      "enter radius 5\n"
     ]
    }
   ],
   "source": [
    "r=int(input(\"enter radius\"))"
   ]
  },
  {
   "cell_type": "code",
   "execution_count": 18,
   "id": "ea5ed258-95fa-4b6f-a98a-d16f3bf5b806",
   "metadata": {},
   "outputs": [
    {
     "name": "stdout",
     "output_type": "stream",
     "text": [
      "78.5\n"
     ]
    }
   ],
   "source": [
    "Area=3.14*r*r\n",
    "print(Area)"
   ]
  },
  {
   "cell_type": "code",
   "execution_count": 1,
   "id": "6414bfbd-cc2a-4740-bd8d-2dc5c9ba10b3",
   "metadata": {},
   "outputs": [
    {
     "ename": "NameError",
     "evalue": "name 'prin' is not defined",
     "output_type": "error",
     "traceback": [
      "\u001b[0;31m---------------------------------------------------------------------------\u001b[0m",
      "\u001b[0;31mNameError\u001b[0m                                 Traceback (most recent call last)",
      "Cell \u001b[0;32mIn[1], line 1\u001b[0m\n\u001b[0;32m----> 1\u001b[0m \u001b[43mprin\u001b[49m(hi)\n",
      "\u001b[0;31mNameError\u001b[0m: name 'prin' is not defined"
     ]
    }
   ],
   "source": [
    "prin(hi)"
   ]
  },
  {
   "cell_type": "code",
   "execution_count": 2,
   "id": "fe74f09f-5682-4088-b5d2-f53aced60c24",
   "metadata": {},
   "outputs": [
    {
     "ename": "NameError",
     "evalue": "name 'i' is not defined",
     "output_type": "error",
     "traceback": [
      "\u001b[0;31m---------------------------------------------------------------------------\u001b[0m",
      "\u001b[0;31mNameError\u001b[0m                                 Traceback (most recent call last)",
      "Cell \u001b[0;32mIn[2], line 1\u001b[0m\n\u001b[0;32m----> 1\u001b[0m \u001b[38;5;28mprint\u001b[39m(\u001b[43mi\u001b[49m)\n",
      "\u001b[0;31mNameError\u001b[0m: name 'i' is not defined"
     ]
    }
   ],
   "source": [
    "print(i)"
   ]
  },
  {
   "cell_type": "code",
   "execution_count": 3,
   "id": "99941994-3304-4363-8973-8200e087a670",
   "metadata": {},
   "outputs": [
    {
     "ename": "ZeroDivisionError",
     "evalue": "division by zero",
     "output_type": "error",
     "traceback": [
      "\u001b[0;31m---------------------------------------------------------------------------\u001b[0m",
      "\u001b[0;31mZeroDivisionError\u001b[0m                         Traceback (most recent call last)",
      "Cell \u001b[0;32mIn[3], line 1\u001b[0m\n\u001b[0;32m----> 1\u001b[0m \u001b[38;5;241;43m1\u001b[39;49m\u001b[38;5;241;43m/\u001b[39;49m\u001b[38;5;241;43m0\u001b[39;49m\n",
      "\u001b[0;31mZeroDivisionError\u001b[0m: division by zero"
     ]
    }
   ],
   "source": [
    "1/0"
   ]
  },
  {
   "cell_type": "markdown",
   "id": "15059f93-8a88-49a5-8c30-c5c8d1e52431",
   "metadata": {},
   "source": [
    "Any file with .py extension is a module."
   ]
  },
  {
   "cell_type": "markdown",
   "id": "8da503b0-d9a8-4976-b3fc-3d3cac177e37",
   "metadata": {},
   "source": [
    "A module is set of codes. "
   ]
  },
  {
   "cell_type": "code",
   "execution_count": 4,
   "id": "57119240-aa9e-48c4-8e65-f7df7398b3e7",
   "metadata": {},
   "outputs": [],
   "source": [
    "A=10"
   ]
  },
  {
   "cell_type": "code",
   "execution_count": 5,
   "id": "d2a879c1-77fd-4ba5-8914-42589eeccde8",
   "metadata": {},
   "outputs": [],
   "source": [
    "a=11"
   ]
  },
  {
   "cell_type": "code",
   "execution_count": 6,
   "id": "77e24fa8-fc75-44f4-9b1f-fd5f8eff8d5c",
   "metadata": {},
   "outputs": [
    {
     "name": "stdout",
     "output_type": "stream",
     "text": [
      "10\n"
     ]
    }
   ],
   "source": [
    "print(A)"
   ]
  },
  {
   "cell_type": "code",
   "execution_count": 7,
   "id": "1052c058-94b4-40ee-9079-5d579957b60b",
   "metadata": {},
   "outputs": [
    {
     "name": "stdout",
     "output_type": "stream",
     "text": [
      "11\n"
     ]
    }
   ],
   "source": [
    "print(a)"
   ]
  },
  {
   "cell_type": "code",
   "execution_count": 8,
   "id": "354c954c-c3a7-4a2f-aed3-2158bcfa7aa5",
   "metadata": {},
   "outputs": [
    {
     "ename": "SyntaxError",
     "evalue": "invalid decimal literal (2464458394.py, line 1)",
     "output_type": "error",
     "traceback": [
      "\u001b[0;36m  Cell \u001b[0;32mIn[8], line 1\u001b[0;36m\u001b[0m\n\u001b[0;31m    5im=9\u001b[0m\n\u001b[0m    ^\u001b[0m\n\u001b[0;31mSyntaxError\u001b[0m\u001b[0;31m:\u001b[0m invalid decimal literal\n"
     ]
    }
   ],
   "source": [
    "5im=9"
   ]
  },
  {
   "cell_type": "code",
   "execution_count": 9,
   "id": "3416617d-031a-469b-8564-fe3baa71e4c6",
   "metadata": {},
   "outputs": [
    {
     "data": {
      "text/plain": [
       "4"
      ]
     },
     "execution_count": 9,
     "metadata": {},
     "output_type": "execute_result"
    }
   ],
   "source": [
    "2**2"
   ]
  },
  {
   "cell_type": "code",
   "execution_count": 10,
   "id": "1fec78d9-4410-4679-a6a8-990b56ef9c6c",
   "metadata": {},
   "outputs": [],
   "source": [
    "a_b=3"
   ]
  },
  {
   "cell_type": "code",
   "execution_count": 11,
   "id": "8874fd58-9217-476c-83b2-ef5e3f012b05",
   "metadata": {},
   "outputs": [
    {
     "ename": "SyntaxError",
     "evalue": "invalid decimal literal (1939008157.py, line 1)",
     "output_type": "error",
     "traceback": [
      "\u001b[0;36m  Cell \u001b[0;32mIn[11], line 1\u001b[0;36m\u001b[0m\n\u001b[0;31m    1we=4\u001b[0m\n\u001b[0m    ^\u001b[0m\n\u001b[0;31mSyntaxError\u001b[0m\u001b[0;31m:\u001b[0m invalid decimal literal\n"
     ]
    }
   ],
   "source": [
    "1we=4"
   ]
  },
  {
   "cell_type": "code",
   "execution_count": 13,
   "id": "0478a7b2-8ba0-4310-909a-45d13fb77c51",
   "metadata": {},
   "outputs": [],
   "source": [
    "we1=9"
   ]
  },
  {
   "cell_type": "code",
   "execution_count": 16,
   "id": "55cc5e0e-6a66-4e13-b483-6f0ad824d2ee",
   "metadata": {},
   "outputs": [
    {
     "ename": "SyntaxError",
     "evalue": "invalid syntax (493158319.py, line 1)",
     "output_type": "error",
     "traceback": [
      "\u001b[0;36m  Cell \u001b[0;32mIn[16], line 1\u001b[0;36m\u001b[0m\n\u001b[0;31m    we% = 3\u001b[0m\n\u001b[0m        ^\u001b[0m\n\u001b[0;31mSyntaxError\u001b[0m\u001b[0;31m:\u001b[0m invalid syntax\n"
     ]
    }
   ],
   "source": [
    "we% = 3"
   ]
  },
  {
   "cell_type": "code",
   "execution_count": 17,
   "id": "ed502106-3c0c-4dba-ab17-deaad6bfd9a8",
   "metadata": {},
   "outputs": [
    {
     "ename": "SyntaxError",
     "evalue": "cannot assign to True (473287154.py, line 1)",
     "output_type": "error",
     "traceback": [
      "\u001b[0;36m  Cell \u001b[0;32mIn[17], line 1\u001b[0;36m\u001b[0m\n\u001b[0;31m    True=9\u001b[0m\n\u001b[0m    ^\u001b[0m\n\u001b[0;31mSyntaxError\u001b[0m\u001b[0;31m:\u001b[0m cannot assign to True\n"
     ]
    }
   ],
   "source": [
    "True=9"
   ]
  },
  {
   "cell_type": "code",
   "execution_count": 18,
   "id": "2c46c7c1-2f4d-436d-9e53-5a668a31aa8a",
   "metadata": {},
   "outputs": [
    {
     "ename": "SyntaxError",
     "evalue": "invalid syntax (1468122953.py, line 1)",
     "output_type": "error",
     "traceback": [
      "\u001b[0;36m  Cell \u001b[0;32mIn[18], line 1\u001b[0;36m\u001b[0m\n\u001b[0;31m    if=9\u001b[0m\n\u001b[0m      ^\u001b[0m\n\u001b[0;31mSyntaxError\u001b[0m\u001b[0;31m:\u001b[0m invalid syntax\n"
     ]
    }
   ],
   "source": [
    "if=9"
   ]
  },
  {
   "cell_type": "code",
   "execution_count": 19,
   "id": "63aa1eac-231d-4949-a45f-f7aa2c01dea9",
   "metadata": {},
   "outputs": [],
   "source": [
    "print=9"
   ]
  },
  {
   "cell_type": "code",
   "execution_count": 20,
   "id": "332cfe57-6a63-4d84-8eed-686f08de3988",
   "metadata": {},
   "outputs": [
    {
     "data": {
      "text/plain": [
       "9"
      ]
     },
     "execution_count": 20,
     "metadata": {},
     "output_type": "execute_result"
    }
   ],
   "source": [
    "print"
   ]
  },
  {
   "cell_type": "code",
   "execution_count": 21,
   "id": "dea6a5dc-1737-4d73-ba07-a41ea5925a55",
   "metadata": {},
   "outputs": [],
   "source": [
    "pi=3.14"
   ]
  },
  {
   "cell_type": "code",
   "execution_count": 22,
   "id": "fd0a24b5-72bc-46ab-ae31-4e0f52b63cb2",
   "metadata": {},
   "outputs": [
    {
     "ename": "TypeError",
     "evalue": "'int' object is not callable",
     "output_type": "error",
     "traceback": [
      "\u001b[0;31m---------------------------------------------------------------------------\u001b[0m",
      "\u001b[0;31mTypeError\u001b[0m                                 Traceback (most recent call last)",
      "Cell \u001b[0;32mIn[22], line 1\u001b[0m\n\u001b[0;32m----> 1\u001b[0m \u001b[38;5;28;43mprint\u001b[39;49m\u001b[43m(\u001b[49m\u001b[43mpi\u001b[49m\u001b[43m)\u001b[49m\n",
      "\u001b[0;31mTypeError\u001b[0m: 'int' object is not callable"
     ]
    }
   ],
   "source": [
    "print(pi)"
   ]
  },
  {
   "cell_type": "code",
   "execution_count": 23,
   "id": "ce3c2fbe-1989-4c10-b01f-3eb226da42bd",
   "metadata": {},
   "outputs": [
    {
     "data": {
      "text/plain": [
       "'sdvjb kblvcxksjdvkbl bvcmsncvm,.b vcjsikdvkljhdsjklcv               '"
      ]
     },
     "execution_count": 23,
     "metadata": {},
     "output_type": "execute_result"
    }
   ],
   "source": [
    "# This is new function\n",
    "\n",
    "\"\"\"sdvjb kblvcxksjdvkbl bvcmsncvm,.b vcjsikdvkljhdsjklcv               \"\"\"\n"
   ]
  },
  {
   "cell_type": "code",
   "execution_count": 1,
   "id": "a374b2cc-4cab-4356-8bf9-61afc551fcc3",
   "metadata": {},
   "outputs": [
    {
     "name": "stdout",
     "output_type": "stream",
     "text": [
      "*\n",
      "**\n",
      "****\n",
      "*****\n"
     ]
    }
   ],
   "source": [
    "print(\"*\")\n",
    "\n",
    "print(\"**\")\n",
    "\n",
    "print(\"****\")\n",
    "print(\"*****\")"
   ]
  },
  {
   "cell_type": "code",
   "execution_count": 2,
   "id": "82ed00bb-d819-4b0b-bdf8-e9c11dc7693d",
   "metadata": {},
   "outputs": [
    {
     "name": "stdout",
     "output_type": "stream",
     "text": [
      "*\n",
      "**\n",
      "****\n",
      "*****\n"
     ]
    }
   ],
   "source": [
    "print(\"*\")\n",
    "\n",
    "print(\"**\")\n",
    "\n",
    "print(\"****\")\n",
    "print(\"*****\")"
   ]
  },
  {
   "cell_type": "code",
   "execution_count": 10,
   "id": "a7fdfb7d-4594-4441-92b5-f6020582bf5b",
   "metadata": {},
   "outputs": [
    {
     "name": "stdout",
     "output_type": "stream",
     "text": [
      "  * \n",
      " **  \n",
      " **** \n",
      " ***** \n"
     ]
    }
   ],
   "source": [
    "print(\"  * \")\n",
    "\n",
    "print(\" **  \")\n",
    "\n",
    "print(\" **** \")\n",
    "print(\" ***** \")"
   ]
  },
  {
   "cell_type": "code",
   "execution_count": null,
   "id": "b5b4bf5e-8227-4e2e-ae80-881900d89a30",
   "metadata": {},
   "outputs": [],
   "source": []
  }
 ],
 "metadata": {
  "kernelspec": {
   "display_name": "Python 3 (ipykernel)",
   "language": "python",
   "name": "python3"
  },
  "language_info": {
   "codemirror_mode": {
    "name": "ipython",
    "version": 3
   },
   "file_extension": ".py",
   "mimetype": "text/x-python",
   "name": "python",
   "nbconvert_exporter": "python",
   "pygments_lexer": "ipython3",
   "version": "3.10.8"
  }
 },
 "nbformat": 4,
 "nbformat_minor": 5
}
