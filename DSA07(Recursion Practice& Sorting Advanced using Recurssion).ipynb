{
 "cells": [
  {
   "cell_type": "code",
   "execution_count": null,
   "id": "7dee3d05-bbe1-45e4-98f0-cc7b3be6a0a0",
   "metadata": {},
   "outputs": [],
   "source": [
    "Recursion :- Defining the function well.(50% Problem Solved)"
   ]
  },
  {
   "cell_type": "code",
   "execution_count": null,
   "id": "06b6681e-fa56-4597-8863-d539ee112eb4",
   "metadata": {},
   "outputs": [],
   "source": [
    "Tower of Hanoi:- Classial Problem Of Recurssion "
   ]
  },
  {
   "cell_type": "code",
   "execution_count": 2,
   "id": "c5cc0b83-3140-4c4e-b5e4-aedaff66c68d",
   "metadata": {},
   "outputs": [],
   "source": [
    "#bubble sorting\n",
    "\n",
    "def bubbleSort(arr):\n",
    "    for i in range(len(arr)-1, 0 , -1):\n",
    "        for j in range(i):\n",
    "            if(arr[j]>arr[j+1]):\n",
    "                arr[j],arr[j+1] = arr[j+1],arr[j]"
   ]
  },
  {
   "cell_type": "code",
   "execution_count": 3,
   "id": "e1a88209-b480-48f0-939d-7d3339a6f6d8",
   "metadata": {},
   "outputs": [
    {
     "name": "stdout",
     "output_type": "stream",
     "text": [
      "[1, 2, 3, 4, 5]\n"
     ]
    }
   ],
   "source": [
    "arr = [5,4,3,2,1]\n",
    "bubbleSort(arr)\n",
    "print(arr)"
   ]
  },
  {
   "cell_type": "code",
   "execution_count": 4,
   "id": "fce9feea-b469-42f7-baaa-e8a8be5acf3e",
   "metadata": {},
   "outputs": [],
   "source": [
    "def bubbleSortOptimized(arr):\n",
    "    for i in range(len(arr)-1, 0 , -1):\n",
    "        isSorted = True\n",
    "        for j in range(i):\n",
    "            if(arr[j]>arr[j+1]):\n",
    "                isSorted = False\n",
    "                arr[j],arr[j+1] = arr[j+1],arr[j]\n",
    "                if isSorted :\n",
    "                    print(\"Array is already sorted\")\n",
    "                    break"
   ]
  },
  {
   "cell_type": "code",
   "execution_count": 5,
   "id": "0df703a8-15e0-43dc-b0d1-546e2fda10d1",
   "metadata": {},
   "outputs": [
    {
     "name": "stdout",
     "output_type": "stream",
     "text": [
      "[1, 2, 3, 4, 5]\n"
     ]
    }
   ],
   "source": [
    "arr = [1,2,3,5,4]\n",
    "bubbleSortOptimized(arr)\n",
    "print(arr)"
   ]
  },
  {
   "cell_type": "code",
   "execution_count": 6,
   "id": "97884a70-2cde-4ddc-adb7-3dd712492ba1",
   "metadata": {},
   "outputs": [
    {
     "data": {
      "text/plain": [
       "[1, 2, 3, 4, 5]"
      ]
     },
     "execution_count": 6,
     "metadata": {},
     "output_type": "execute_result"
    }
   ],
   "source": [
    "# Array is already sorted\n",
    "[1, 2, 3, 4, 5]"
   ]
  },
  {
   "cell_type": "code",
   "execution_count": 7,
   "id": "c03458ad-26cb-4f1b-8498-3a7a166aada6",
   "metadata": {},
   "outputs": [],
   "source": [
    "# Given an array, check if the array is sorted ?\n",
    "\n",
    "def isSorted(arr):\n",
    "    isSorted = True\n",
    "    for i in range(len(arr)-1):\n",
    "        if arr[i]>arr[i+1]:\n",
    "            isSorted = False\n",
    "            break\n",
    "            if isSorted :\n",
    "                print(\"Array is sorted\")\n",
    "            else:\n",
    "                print(\"Array is not sorted\")"
   ]
  },
  {
   "cell_type": "code",
   "execution_count": 8,
   "id": "0bbcdf47-8e2c-4db2-850e-7d319cdb3057",
   "metadata": {},
   "outputs": [],
   "source": [
    "#Selection Sorting\n",
    "def selectionSort(arr):\n",
    "    for i in range(len(arr)):\n",
    "        min =i\n",
    "        for j in range(i+1,len(arr)):\n",
    "            if arr[j] <arr[min]:\n",
    "                min =j\n",
    "                #Find the smallest values\n",
    "                arr[i],arr[min] = arr[min],arr[i]"
   ]
  },
  {
   "cell_type": "code",
   "execution_count": 9,
   "id": "b5c1cb1f-444c-452e-a68d-6e110d2bf3c3",
   "metadata": {},
   "outputs": [],
   "source": [
    "def insertion_sort(arr):\n",
    "    for i in range(1,len(arr)):\n",
    "        v = arr[i]\n",
    "        j=i\n",
    "        while(j>=1 and arr[j-1]>v):\n",
    "            arr[j]=arr[j-1]\n",
    "            j-=1\n",
    "            arr[j]=v"
   ]
  },
  {
   "cell_type": "code",
   "execution_count": 10,
   "id": "80238292-a182-4bc6-be64-78a0d4a2643d",
   "metadata": {},
   "outputs": [],
   "source": [
    "def search(arr, num):\n",
    "    for i in range(len(arr)):\n",
    "        if arr[i]==num:\n",
    "            return i\n",
    "        return -1"
   ]
  },
  {
   "cell_type": "code",
   "execution_count": 11,
   "id": "aa4ad66a-3e4e-43e9-bd22-a71f7861e1f5",
   "metadata": {},
   "outputs": [
    {
     "name": "stdout",
     "output_type": "stream",
     "text": [
      "-1\n"
     ]
    }
   ],
   "source": [
    "print(search([4,5,1,5,9],5))"
   ]
  },
  {
   "cell_type": "code",
   "execution_count": null,
   "id": "8333a19b-d1e3-4761-9caa-d33aaab00f5f",
   "metadata": {},
   "outputs": [],
   "source": [
    "What will be my function definition ?\n",
    "Array\n",
    "Data\n",
    "Starting Index\n"
   ]
  },
  {
   "cell_type": "code",
   "execution_count": 12,
   "id": "e85b3adb-513d-4f75-8f08-4e91f3ec2f8e",
   "metadata": {},
   "outputs": [],
   "source": [
    "# Using Recursion\n",
    "\n",
    "def search(arr,SI,data):\n",
    "    #Base Condition\n",
    "    if SI>=len(arr):\n",
    "        return -1\n",
    "    #Logic\n",
    "    if arr[SI]==data:\n",
    "        return SI\n",
    "    else:\n",
    "        return search(arr,SI+1,data)"
   ]
  },
  {
   "cell_type": "code",
   "execution_count": 13,
   "id": "cb50a8f3-0506-4eb2-a010-445927b65b1e",
   "metadata": {},
   "outputs": [
    {
     "data": {
      "text/plain": [
       "-1"
      ]
     },
     "execution_count": 13,
     "metadata": {},
     "output_type": "execute_result"
    }
   ],
   "source": [
    "search([1,2,3,5,3,6,4],0,9)"
   ]
  },
  {
   "cell_type": "code",
   "execution_count": 14,
   "id": "5b9e79af-27b2-4b26-82bb-137d75c108a3",
   "metadata": {},
   "outputs": [],
   "source": [
    "def binarySearch(arr, num):\n",
    "    left = 0\n",
    "    right = len(arr) -1\n",
    "\n",
    "\n",
    "    while(left <=right):\n",
    "        mid = int(left + (right-left)/2)\n",
    "    if arr[mid] == num:\n",
    "        return mid\n",
    "    elif arr[mid] > num :\n",
    "        right = mid-1\n",
    "    else :\n",
    "        left = mid+1\n",
    "        return -1"
   ]
  },
  {
   "cell_type": "code",
   "execution_count": null,
   "id": "9a051c03-4f27-4334-8c9c-dc61230205b2",
   "metadata": {},
   "outputs": [],
   "source": [
    "Question:- How can we do using recursion?"
   ]
  },
  {
   "cell_type": "code",
   "execution_count": null,
   "id": "d266a68d-5cfe-43ac-a0b8-4413a8221512",
   "metadata": {},
   "outputs": [],
   "source": [
    "#My approach wrong hai\n",
    "def binarySearch(arr,SI,num):\n",
    "    #Base Condition\n",
    "    if SI>=len(arr):\n",
    "        return -1\n",
    "    #Logic\n",
    "    left=0\n",
    "    right=len(arr)-1\n",
    "    \n",
    "    while(left <=right):\n",
    "        mid = int(left + (right-left)/2)\n",
    "    if arr[mid] == num:\n",
    "        return mid\n",
    "    else:\n",
    "        return binarySearch(arr,SI+1,num)\n",
    "    \n",
    "    \n",
    "    "
   ]
  },
  {
   "cell_type": "code",
   "execution_count": null,
   "id": "1aae9fe3-e0f2-4eff-8de5-b70c61185e9f",
   "metadata": {},
   "outputs": [],
   "source": [
    "binarySearch([1,2,6,7,5],0,4)"
   ]
  },
  {
   "cell_type": "code",
   "execution_count": 15,
   "id": "5463efb2-2e05-429b-939e-fe07351cf032",
   "metadata": {},
   "outputs": [],
   "source": [
    "def binaryRec(arr,SI,EI,data):\n",
    "    #Base Condition\n",
    "    if SI>EI:\n",
    "        return -1\n",
    "    #Logic Condition\n",
    "    mid =int(SI+(EI-SI/2))\n",
    "    if (arr[mid]==data):\n",
    "        return mid\n",
    "    elif arr[mid]>data:\n",
    "        return binaryRec(arr,SI,mid-1,data)\n",
    "    else:\n",
    "        return binaryRec(arr,mid+1,EI,data)"
   ]
  },
  {
   "cell_type": "code",
   "execution_count": 16,
   "id": "6d982220-ea89-4f45-8936-efb730892577",
   "metadata": {},
   "outputs": [
    {
     "data": {
      "text/plain": [
       "3"
      ]
     },
     "execution_count": 16,
     "metadata": {},
     "output_type": "execute_result"
    }
   ],
   "source": [
    "binaryRec([1,2,3,4,5],0,4,4)"
   ]
  },
  {
   "cell_type": "code",
   "execution_count": 17,
   "id": "23718a32-8da7-43e2-bffc-8f99c18b5b50",
   "metadata": {},
   "outputs": [
    {
     "name": "stdout",
     "output_type": "stream",
     "text": [
      "3\n",
      "-1\n"
     ]
    }
   ],
   "source": [
    "def binarySearch(arr, left, right, num):\n",
    "    #Base condition\n",
    "    if left > right :\n",
    "        return -1\n",
    "    mid = int( left + (right-left)/2)\n",
    "    if arr[mid] == num :\n",
    "        return mid\n",
    "    elif arr[mid] > num :\n",
    "        return binarySearch(arr, left, mid-1, num)\n",
    "    else:\n",
    "        return binarySearch(arr, mid+1, right, num)\n",
    "\n",
    "\n",
    "\n",
    "print(binarySearch([2,4,6,8,10],0,5,8))\n",
    "\n",
    "print(binarySearch([2,4,6,8,10],0,5,7))"
   ]
  },
  {
   "cell_type": "code",
   "execution_count": null,
   "id": "0e1fa887-2bbc-4a6c-8e0a-d4c38ba4a84a",
   "metadata": {},
   "outputs": [],
   "source": [
    "Time Complexity:- O(logn)"
   ]
  },
  {
   "cell_type": "code",
   "execution_count": null,
   "id": "4e7cb693-ac91-4d05-bddb-4e5883b4cb27",
   "metadata": {},
   "outputs": [],
   "source": [
    "#Wrong Hai pr maine kiya hai try\n",
    "Array=[3,5,1,2,4]\n",
    "\n",
    "array=[]\n",
    "\n",
    "def reverse(Array,array,len(Array)):\n",
    "    #Base Condition\n",
    "    if len(Array)<0:\n",
    "        return -1\n",
    "    else:\n",
    "        for i in range(0,len(Array)):\n",
    "            for j in (len(Array),0,-1):\n",
    "                array[j]=Array[i]\n",
    "                \n",
    "for i in len(Array):\n",
    "    print(array[i])                \n",
    "                \n",
    "\n",
    "        \n",
    "    \n",
    "    \n",
    "    "
   ]
  },
  {
   "cell_type": "code",
   "execution_count": 18,
   "id": "e17b0e66-11ec-48d5-ab81-b9b11fa5a7cd",
   "metadata": {},
   "outputs": [
    {
     "name": "stdout",
     "output_type": "stream",
     "text": [
      "[9, 5, 1, 2, 3]\n"
     ]
    }
   ],
   "source": [
    "arr= [3,2,1,5,9]\n",
    "#Without extra Space\n",
    "# 2-pointer Approach\n",
    "\n",
    "def reverseArr(arr):\n",
    "    i=0\n",
    "    j=len(arr)-1\n",
    "    \n",
    "    while(i<j):\n",
    "        #Swap elements at i and j index\n",
    "        arr[i],arr[j]=arr[j],arr[i]\n",
    "        i+=1\n",
    "        j-=1\n",
    "        \n",
    "reverseArr(arr)\n",
    "print(arr)\n"
   ]
  },
  {
   "cell_type": "code",
   "execution_count": 19,
   "id": "394fe3e1-67d2-41d7-ae11-05eaf598d369",
   "metadata": {},
   "outputs": [],
   "source": [
    "def search(arr,num,si):\n",
    "    #base condition\n",
    "    if si>=len(arr):\n",
    "        return -1\n",
    "    #logic\n",
    "    if arr[si]==num:\n",
    "        return si\n",
    "    else:\n",
    "        #function call\n",
    "        return search(arr,num,si+1)\n",
    "   "
   ]
  },
  {
   "cell_type": "code",
   "execution_count": 26,
   "id": "9b7b528b-6005-4c3b-8ce9-5c85939f6033",
   "metadata": {},
   "outputs": [
    {
     "ename": "IndexError",
     "evalue": "list index out of range",
     "output_type": "error",
     "traceback": [
      "\u001b[0;31m---------------------------------------------------------------------------\u001b[0m",
      "\u001b[0;31mIndexError\u001b[0m                                Traceback (most recent call last)",
      "Cell \u001b[0;32mIn[26], line 10\u001b[0m\n\u001b[1;32m      7\u001b[0m     reverse_rec(arr,SI\u001b[38;5;241m+\u001b[39m\u001b[38;5;241m1\u001b[39m,EI\u001b[38;5;241m-\u001b[39m\u001b[38;5;241m1\u001b[39m)\n\u001b[1;32m      9\u001b[0m arr\u001b[38;5;241m=\u001b[39m[\u001b[38;5;241m1\u001b[39m,\u001b[38;5;241m2\u001b[39m,\u001b[38;5;241m3\u001b[39m,\u001b[38;5;241m4\u001b[39m,\u001b[38;5;241m5\u001b[39m]\n\u001b[0;32m---> 10\u001b[0m \u001b[43mreverse_rec\u001b[49m\u001b[43m(\u001b[49m\u001b[43marr\u001b[49m\u001b[43m,\u001b[49m\u001b[38;5;241;43m0\u001b[39;49m\u001b[43m,\u001b[49m\u001b[38;5;28;43mlen\u001b[39;49m\u001b[43m(\u001b[49m\u001b[43marr\u001b[49m\u001b[43m)\u001b[49m\u001b[38;5;241;43m-\u001b[39;49m\u001b[38;5;241;43m1\u001b[39;49m\u001b[43m)\u001b[49m\n\u001b[1;32m     11\u001b[0m \u001b[38;5;28;01mfor\u001b[39;00m i \u001b[38;5;129;01min\u001b[39;00m \u001b[38;5;28mrange\u001b[39m(\u001b[38;5;241m0\u001b[39m,\u001b[38;5;28mlen\u001b[39m(arr)):\n\u001b[1;32m     12\u001b[0m     \u001b[38;5;28;01mif\u001b[39;00m arr[i]\u001b[38;5;241m==\u001b[39mArr[i]:\n",
      "Cell \u001b[0;32mIn[26], line 5\u001b[0m, in \u001b[0;36mreverse_rec\u001b[0;34m(arr, SI, EI)\u001b[0m\n\u001b[1;32m      3\u001b[0m \u001b[38;5;28;01mif\u001b[39;00m SI\u001b[38;5;241m>\u001b[39m\u001b[38;5;241m=\u001b[39mEI:\n\u001b[1;32m      4\u001b[0m     \u001b[38;5;28;01mreturn\u001b[39;00m\n\u001b[0;32m----> 5\u001b[0m arr[SI],arr[EI]\u001b[38;5;241m=\u001b[39m\u001b[43mArr\u001b[49m\u001b[43m[\u001b[49m\u001b[43mEI\u001b[49m\u001b[43m]\u001b[49m,Arr[SI]\n\u001b[1;32m      6\u001b[0m \u001b[38;5;66;03m#Swapping Values\u001b[39;00m\n\u001b[1;32m      7\u001b[0m reverse_rec(arr,SI\u001b[38;5;241m+\u001b[39m\u001b[38;5;241m1\u001b[39m,EI\u001b[38;5;241m-\u001b[39m\u001b[38;5;241m1\u001b[39m)\n",
      "\u001b[0;31mIndexError\u001b[0m: list index out of range"
     ]
    }
   ],
   "source": [
    "Arr=[]\n",
    "def reverse_rec(arr,SI,EI):\n",
    "    if SI>=EI:\n",
    "        return\n",
    "    arr[SI],arr[EI]=Arr[EI],Arr[SI]\n",
    "    #Swapping Values\n",
    "    reverse_rec(arr,SI+1,EI-1)\n",
    "    \n",
    "arr=[1,2,3,4,5]\n",
    "reverse_rec(arr,0,len(arr)-1)\n",
    "for i in range(0,len(arr)):\n",
    "    if arr[i]==Arr[i]:\n",
    "        continue\n",
    "    \n",
    "print(\"Array is palindrome\")    \n",
    "    "
   ]
  },
  {
   "cell_type": "code",
   "execution_count": null,
   "id": "e5b887b2-677d-43e7-b454-1a180748d846",
   "metadata": {},
   "outputs": [],
   "source": [
    "Time "
   ]
  },
  {
   "cell_type": "code",
   "execution_count": 23,
   "id": "5b4c42c7-a408-45cd-98a5-30a6dd6153b3",
   "metadata": {},
   "outputs": [
    {
     "name": "stdout",
     "output_type": "stream",
     "text": [
      "[5, 4, 3, 2, 1]\n"
     ]
    }
   ],
   "source": [
    "def reverse_rec(arr,SI,EI):\n",
    "    if SI>=EI:\n",
    "        return\n",
    "    arr[SI],arr[EI]=arr[EI],arr[SI]\n",
    "    #Swapping Values\n",
    "    reverse_rec(arr,SI+1,EI-1)\n",
    "    \n",
    "arr=[1,2,3,4,5]\n",
    "reverse_rec(arr,0,len(arr)-1)\n",
    "print(arr)"
   ]
  },
  {
   "cell_type": "code",
   "execution_count": 11,
   "id": "91ee933b-cbfd-4645-9dd0-6ca4e7983bfe",
   "metadata": {},
   "outputs": [
    {
     "name": "stdout",
     "output_type": "stream",
     "text": [
      "[5, 4, 3, 2, 1]\n"
     ]
    }
   ],
   "source": [
    "def Reverse_rec(arr,SI,EI):\n",
    "    if SI>=EI:\n",
    "        return\n",
    "    arr[SI],arr[EI]=arr[EI],arr[SI]\n",
    "    #Swapping Values\n",
    "    Reverse_rec(arr,SI+1,EI-1)\n",
    "    \n",
    "arr=[1,2,3,4,5]\n",
    "Reverse_rec(arr,0,len(arr)-1)\n",
    "print(arr)\n",
    "    "
   ]
  },
  {
   "cell_type": "code",
   "execution_count": 1,
   "id": "e10bbb90-7b08-490f-995e-0b12d8f0f7cf",
   "metadata": {},
   "outputs": [
    {
     "name": "stdout",
     "output_type": "stream",
     "text": [
      "True\n",
      "False\n",
      "None\n"
     ]
    }
   ],
   "source": [
    "def isPalindrome(arr):\n",
    "    #Two-pointer approach\n",
    "    left=0\n",
    "    right =len(arr)-1\n",
    "    while(left<right):\n",
    "        if arr[left]!=arr[right]:\n",
    "            return False\n",
    "        \n",
    "        left+=1\n",
    "        right-=1\n",
    "        return True\n",
    "arr =[1,2,3,3,2,1]\n",
    "arr1=[1,2,4]\n",
    "arr3=[1]\n",
    "\n",
    "print(isPalindrome(arr))\n",
    "print(isPalindrome(arr1))\n",
    "print(isPalindrome(arr3))\n"
   ]
  },
  {
   "cell_type": "code",
   "execution_count": 10,
   "id": "0534e46f-7134-495c-91d6-a06599f59f65",
   "metadata": {},
   "outputs": [
    {
     "ename": "SyntaxError",
     "evalue": "invalid syntax (466562760.py, line 7)",
     "output_type": "error",
     "traceback": [
      "\u001b[0;36m  Cell \u001b[0;32mIn[10], line 7\u001b[0;36m\u001b[0m\n\u001b[0;31m    else SI==k:\u001b[0m\n\u001b[0m    ^\u001b[0m\n\u001b[0;31mSyntaxError\u001b[0m\u001b[0;31m:\u001b[0m invalid syntax\n"
     ]
    }
   ],
   "source": [
    "def Rotate_rec(arr,SI,EI,k):\n",
    "    if SI<k:\n",
    "        return\n",
    "    arr[SI],arr[EI]=arr[EI],arr[SI]\n",
    "    #Rotating Values\n",
    "    Rotate_rec(arr,SI+1,EI-1,k)\n",
    "    else SI==k:\n",
    "        arr[SI]=arr[k]\n",
    "        else:\n",
    "            break\n",
    "    \n",
    "arr=[1,2,3,4,5]\n",
    "Rotate_rec(arr,0,len(arr)-1,2)\n",
    "print(arr)\n",
    "    "
   ]
  },
  {
   "cell_type": "code",
   "execution_count": null,
   "id": "d5bf929b-0208-44a5-a30b-f8177a6ae40a",
   "metadata": {},
   "outputs": [],
   "source": [
    "[1,2,3,4,5]\n",
    "# k=2 means rotate twice \n",
    "# Move the element to the right i.e. arr[i]=arr[i-1]\n",
    "# k-times rotation\n",
    "# How many loops => k-looks outer loop will runn k-times and inner loop will take care of rotation.\n",
    "# if k=0 means no rotation at all.\n",
    "# no. of rotation = k % size of array"
   ]
  },
  {
   "cell_type": "code",
   "execution_count": 9,
   "id": "e18889bf-0d77-4ad6-a461-207c8c3dd951",
   "metadata": {},
   "outputs": [
    {
     "name": "stdout",
     "output_type": "stream",
     "text": [
      "[5, 1, 2, 3, 4]\n",
      "[4, 5, 1, 2, 3]\n",
      "[3, 4, 5, 1, 2]\n"
     ]
    }
   ],
   "source": [
    "def rotate(arr,k):\n",
    "    k=k%len(arr)\n",
    "    #Num of rotation has to take place\n",
    "    for i in range(k):\n",
    "        #Logic to rotate the array\n",
    "        prev=arr[0]\n",
    "        curr=arr[0]\n",
    "        arr[0]=arr[len(arr)-1]\n",
    "        j=1\n",
    "        while(j<len(arr)):\n",
    "            curr=arr[j]\n",
    "            arr[j]=prev\n",
    "            prev = curr\n",
    "            j+=1\n",
    "\n",
    "arr1=[1,2,3,4,5]\n",
    "arr2=[1,2,3,4,5]\n",
    "arr3=[1,2,3,4,5]\n",
    "\n",
    "rotate(arr1,1)\n",
    "print(arr1)\n",
    "rotate(arr2,2)\n",
    "print(arr2)\n",
    "rotate(arr3,3)\n",
    "print(arr3)\n",
    "# Time Complexity O(n^2)\n",
    "\n",
    "        "
   ]
  },
  {
   "cell_type": "code",
   "execution_count": null,
   "id": "1bfd994f-8536-4a85-acd0-89d62b9db822",
   "metadata": {},
   "outputs": [],
   "source": [
    "#Reverse entire element\n",
    "#Reverse first k-elements\n",
    "#Reverse last n-k elements\n"
   ]
  },
  {
   "cell_type": "code",
   "execution_count": 12,
   "id": "ed36aa72-388d-44da-9da5-5e19c3bc9f0f",
   "metadata": {},
   "outputs": [
    {
     "name": "stdout",
     "output_type": "stream",
     "text": [
      "[4, 5, 1, 2, 3]\n"
     ]
    }
   ],
   "source": [
    "def rotate_k_times(arr,k):\n",
    "    k=k%len(arr)\n",
    "    #Reverse the entire array\n",
    "    Reverse_rec(arr,0,len(arr)-1)\n",
    "    \n",
    "    #Reverse the first k elements\n",
    "    Reverse_rec(arr,0,k-1)\n",
    "    \n",
    "    #Reverse the last n-k elements\n",
    "    Reverse_rec(arr,k,len(arr)-1)\n",
    "    \n",
    "arr=[1,2,3,4,5]\n",
    "rotate_k_times(arr,2)\n",
    "print(arr)\n",
    "    \n",
    "    \n",
    "    "
   ]
  },
  {
   "cell_type": "code",
   "execution_count": null,
   "id": "fb08ad52-e14e-4c1c-9bf3-418ea984c128",
   "metadata": {},
   "outputs": [],
   "source": [
    "# Now time Complexity will be O(n)."
   ]
  },
  {
   "cell_type": "code",
   "execution_count": null,
   "id": "20a36d2a-8ef6-48fb-9799-e4697b34af1c",
   "metadata": {},
   "outputs": [],
   "source": [
    "Revrse first k-elements.\n",
    "Reverse the remaining elements.\n",
    "Reverse the entire array."
   ]
  },
  {
   "cell_type": "code",
   "execution_count": 13,
   "id": "06b2b211-c1bc-4a3e-8396-73f589725bf9",
   "metadata": {},
   "outputs": [
    {
     "name": "stdout",
     "output_type": "stream",
     "text": [
      "[4, 5, 1, 2, 3]\n",
      "[4, 5, 1, 2, 3]\n"
     ]
    }
   ],
   "source": [
    "def rotate_arr(arr,k):\n",
    "    n=len(arr)\n",
    "    j=1\n",
    "    if(k==0):\n",
    "        print(arr)\n",
    "        return\n",
    "    else:\n",
    "        prev=arr[0]\n",
    "        curr=arr[0]\n",
    "        arr[0]=arr[n-1]\n",
    "        while j<n:\n",
    "            curr=arr[j]\n",
    "            arr[j]=prev\n",
    "            prev=curr\n",
    "            j+=1\n",
    "    rotate_arr(arr,k-1)\n",
    "\n",
    "arr = [1,2,3,4,5]\n",
    "\n",
    "rotate_arr(arr,2)\n",
    "\n",
    "print(arr)"
   ]
  },
  {
   "cell_type": "code",
   "execution_count": null,
   "id": "fe79da21-4d19-4010-885d-ac3d7dd4eaca",
   "metadata": {},
   "outputs": [],
   "source": [
    "Astraction:- The customer experience "
   ]
  },
  {
   "cell_type": "code",
   "execution_count": null,
   "id": "b54ae368-8b7a-4bdc-a824-11585f7547b6",
   "metadata": {},
   "outputs": [],
   "source": [
    "Python is not fully Oops but JAVA is  fully Object oRIENTED Programming Skils. "
   ]
  },
  {
   "cell_type": "code",
   "execution_count": 14,
   "id": "9e3575a0-f2fd-4aac-b9f5-d16d52da60f6",
   "metadata": {},
   "outputs": [],
   "source": [
    "from abc import ABC, abstractmethod\n",
    "\n",
    "class PWSkills(ABC):\n",
    "    @abstractmethod\n",
    "    def data_base(self):\n",
    "        \"\"\"Abstract method for handling database operations.\"\"\"\n",
    "        pass\n",
    "\n",
    "    @abstractmethod\n",
    "    def user_emailid(self, email_id):\n",
    "        \"\"\"\n",
    "        Abstract method for retrieving user email ID.\n",
    "\n",
    "        Args:\n",
    "            email_id (str): The user's email ID.\n",
    "\n",
    "        Returns:\n",
    "            str: User's email ID.\n",
    "        \"\"\"\n",
    "        pass\n",
    "\n",
    "    @abstractmethod\n",
    "    def check_enrollment(self, user_id, class_id):\n",
    "        \"\"\"\n",
    "        Abstract method for checking user enrollment in a specific class.\n",
    "\n",
    "        Args:\n",
    "            user_id (int): User's unique identifier.\n",
    "            class_id (int): ID of the class to check enrollment for.\n",
    "\n",
    "        Returns:\n",
    "            bool: True if enrolled, False otherwise.\n",
    "        \"\"\"\n",
    "        pass\n",
    "\n",
    "    @abstractmethod\n",
    "    def check_lab_uses(self, user_id):\n",
    "        \"\"\"\n",
    "        Abstract method for verifying lab usage by a user.\n",
    "\n",
    "        Args:\n",
    "            user_id (int): User's unique identifier.\n",
    "\n",
    "        Returns:\n",
    "            bool: True if lab used, False otherwise.\n",
    "        \"\"\"\n",
    "        pass\n",
    "\n",
    "    @abstractmethod\n",
    "    def check_internship(self, user_id):\n",
    "        \"\"\"\n",
    "        Abstract method for validating user's internship status.\n",
    "\n",
    "        Args:\n",
    "            user_id (int): User's unique identifier.\n",
    "\n",
    "        Returns:\n",
    "            bool: True if the user is an intern, False otherwise.\n",
    "        \"\"\"\n",
    "        pass\n",
    "\n",
    "\n",
    "\n",
    "\n",
    "\n",
    "\n",
    "\n",
    "\n",
    "\n",
    "\n",
    "\n",
    "\n"
   ]
  },
  {
   "cell_type": "code",
   "execution_count": null,
   "id": "2128b315-fa6f-41e7-9f53-48ca1fdd1e18",
   "metadata": {},
   "outputs": [],
   "source": []
  }
 ],
 "metadata": {
  "kernelspec": {
   "display_name": "Python 3 (ipykernel)",
   "language": "python",
   "name": "python3"
  },
  "language_info": {
   "codemirror_mode": {
    "name": "ipython",
    "version": 3
   },
   "file_extension": ".py",
   "mimetype": "text/x-python",
   "name": "python",
   "nbconvert_exporter": "python",
   "pygments_lexer": "ipython3",
   "version": "3.10.8"
  }
 },
 "nbformat": 4,
 "nbformat_minor": 5
}
