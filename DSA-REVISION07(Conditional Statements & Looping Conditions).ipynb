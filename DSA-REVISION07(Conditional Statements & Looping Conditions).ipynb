{
 "cells": [
  {
   "cell_type": "code",
   "execution_count": null,
   "id": "4a36a2f2-4eb5-4306-99e2-2d792a4db7e6",
   "metadata": {},
   "outputs": [],
   "source": [
    "if\n",
    "if else\n",
    "if  elif else\n"
   ]
  },
  {
   "cell_type": "code",
   "execution_count": 3,
   "id": "8d2d8801-2ba8-4def-a23d-afde8c34aaa6",
   "metadata": {},
   "outputs": [],
   "source": [
    "a = 100"
   ]
  },
  {
   "cell_type": "code",
   "execution_count": 4,
   "id": "9d676845-305e-450e-b71e-47eadc276541",
   "metadata": {},
   "outputs": [
    {
     "data": {
      "text/plain": [
       "100"
      ]
     },
     "execution_count": 4,
     "metadata": {},
     "output_type": "execute_result"
    }
   ],
   "source": [
    "a"
   ]
  },
  {
   "cell_type": "code",
   "execution_count": 6,
   "id": "54b45899-2869-4b51-92b1-4fb9c08ead01",
   "metadata": {},
   "outputs": [
    {
     "name": "stdout",
     "output_type": "stream",
     "text": [
      "The number is greater than 10.\n"
     ]
    }
   ],
   "source": [
    "if a>10:\n",
    "    print(\"The number is greater than 10.\")"
   ]
  },
  {
   "cell_type": "code",
   "execution_count": 7,
   "id": "5db6e7c6-19c0-486b-aa8f-934ab21ff307",
   "metadata": {},
   "outputs": [
    {
     "data": {
      "text/plain": [
       "True"
      ]
     },
     "execution_count": 7,
     "metadata": {},
     "output_type": "execute_result"
    }
   ],
   "source": [
    "a>10"
   ]
  },
  {
   "cell_type": "code",
   "execution_count": 10,
   "id": "83894333-2f26-4c24-8887-913e94962a0b",
   "metadata": {},
   "outputs": [
    {
     "name": "stdout",
     "output_type": "stream",
     "text": [
      "Yes\n"
     ]
    }
   ],
   "source": [
    "if a>10:\n",
    "    print(\"Yes\")"
   ]
  },
  {
   "cell_type": "code",
   "execution_count": 12,
   "id": "14b462cd-3b85-4757-a8e9-623f72240aef",
   "metadata": {},
   "outputs": [
    {
     "name": "stdout",
     "output_type": "stream",
     "text": [
      "Smaller\n"
     ]
    }
   ],
   "source": [
    "a = 4\n",
    "if a>10:\n",
    "    print(\"greater\")\n",
    "else :\n",
    "    print(\"Smaller\")"
   ]
  },
  {
   "cell_type": "code",
   "execution_count": 13,
   "id": "0291e262-9b0e-4368-a9e5-199ed5ff2fdb",
   "metadata": {},
   "outputs": [],
   "source": [
    "if a>10:\n",
    "    print(\"It will enter inside this block.\")"
   ]
  },
  {
   "cell_type": "code",
   "execution_count": 17,
   "id": "c9cdc2ef-57c8-4ded-aad2-0ca4f4f657f9",
   "metadata": {},
   "outputs": [
    {
     "name": "stdout",
     "output_type": "stream",
     "text": [
      "Go for hiking.\n"
     ]
    }
   ],
   "source": [
    "weather = \"Spring\"\n",
    "if weather == \"Sunny\":\n",
    "    print(\"Go to play cricket.\")\n",
    "elif weather == \"Rainy\":\n",
    "    print(\"Go to play football.\")\n",
    "elif weather == \"Spring\":\n",
    "    print(\"Go for hiking.\")    \n",
    "else :\n",
    "    print(\"Go to sleep.\")"
   ]
  },
  {
   "cell_type": "code",
   "execution_count": 18,
   "id": "be7f2bc1-084d-41d5-95d4-b58a2e0cde3c",
   "metadata": {},
   "outputs": [
    {
     "name": "stdout",
     "output_type": "stream",
     "text": [
      "Go for hiking.\n"
     ]
    }
   ],
   "source": [
    "weather = \"Spring\"\n",
    "if weather == \"Sunny\":\n",
    "    print(\"Go to play cricket.\")\n",
    "elif weather == \"Rainy\":\n",
    "    print(\"Go to play football.\")\n",
    "elif weather == \"Spring\":\n",
    "    print(\"Go for hiking.\")"
   ]
  },
  {
   "cell_type": "code",
   "execution_count": 19,
   "id": "84c35f78-e71c-4197-9092-bdea5d76950f",
   "metadata": {},
   "outputs": [],
   "source": [
    "weather = \"Spring\"\n",
    "if weather == \"Sunny\":\n",
    "    print(\"Go to play cricket.\")\n",
    "elif weather == \"Rainy\":\n",
    "    print(\"Go to play football.\")"
   ]
  },
  {
   "cell_type": "code",
   "execution_count": 20,
   "id": "5e975a47-6c1e-4e69-be59-6032ab6453fa",
   "metadata": {},
   "outputs": [
    {
     "name": "stdin",
     "output_type": "stream",
     "text": [
      "Enter a number. 4\n"
     ]
    }
   ],
   "source": [
    "a =input(\"Enter a number.\")"
   ]
  },
  {
   "cell_type": "code",
   "execution_count": 21,
   "id": "05258949-b5dd-4513-a21a-ccbebc166ada",
   "metadata": {},
   "outputs": [
    {
     "data": {
      "text/plain": [
       "str"
      ]
     },
     "execution_count": 21,
     "metadata": {},
     "output_type": "execute_result"
    }
   ],
   "source": [
    "type(a)"
   ]
  },
  {
   "cell_type": "code",
   "execution_count": 24,
   "id": "2b37545e-22cf-4dd7-a53c-e8b5f5d7eac8",
   "metadata": {},
   "outputs": [
    {
     "name": "stdin",
     "output_type": "stream",
     "text": [
      "Enter a number. 89\n"
     ]
    },
    {
     "name": "stdout",
     "output_type": "stream",
     "text": [
      "Number is less than 100.\n"
     ]
    }
   ],
   "source": [
    "a=eval(input(\"Enter a number.\"))\n",
    "if a>100:\n",
    "    print(\"a>100\")\n",
    "elif a==100:\n",
    "    print(\"The number is equals to 100.\")\n",
    "else:\n",
    "    print(\"Number is less than 100.\")"
   ]
  },
  {
   "cell_type": "code",
   "execution_count": 31,
   "id": "640cb038-c30e-436e-aafe-400674f9cfec",
   "metadata": {},
   "outputs": [
    {
     "name": "stdout",
     "output_type": "stream",
     "text": [
      "The grade is A\n"
     ]
    }
   ],
   "source": [
    "score=85\n",
    "sports=\"True\"\n",
    "if score>=90:\n",
    "    print(\"The grade is A+\")\n",
    "elif score>=80 and score<=90:\n",
    "    if sports:\n",
    "        print(\"The grade is A\")\n",
    "    else:\n",
    "        print(\"The grade is B\")\n",
    "elif score>=50:\n",
    "    print(\"The grade is C\") \n",
    "elif score>=33:\n",
    "    print(\"The grade is D\")    \n",
    "else:\n",
    "    print(\"You are fail.\")\n",
    "    "
   ]
  },
  {
   "cell_type": "code",
   "execution_count": 51,
   "id": "9527b2f4-1492-47c1-b693-1eb210a8f042",
   "metadata": {},
   "outputs": [
    {
     "name": "stdout",
     "output_type": "stream",
     "text": [
      "Night\n"
     ]
    }
   ],
   "source": [
    "t=0\n",
    "if t<0:\n",
    "    print(\"Invalid time.\")\n",
    "elif(t>=0 & t<=5):\n",
    "    print(\"Night\")\n",
    "elif(t>=6 & t<=11):\n",
    "    print(\"Morning\")\n",
    "elif(t>=12 & t<=18):\n",
    "    print(\"Evening\")\n",
    "else:\n",
    "    print(\"Eve to night\")"
   ]
  },
  {
   "cell_type": "code",
   "execution_count": 25,
   "id": "27b23170-efbd-4c01-9969-23228a8a6aec",
   "metadata": {},
   "outputs": [
    {
     "data": {
      "text/plain": [
       "int"
      ]
     },
     "execution_count": 25,
     "metadata": {},
     "output_type": "execute_result"
    }
   ],
   "source": [
    "type(a)"
   ]
  },
  {
   "cell_type": "code",
   "execution_count": null,
   "id": "050025c8-c8dc-4bac-b19e-46f707523f8e",
   "metadata": {},
   "outputs": [],
   "source": [
    "Find the largest number of given 3 numbers?"
   ]
  },
  {
   "cell_type": "code",
   "execution_count": null,
   "id": "9f5de4de-54cb-49d5-a614-18f5bc7d00ad",
   "metadata": {},
   "outputs": [],
   "source": [
    "Easy answer"
   ]
  },
  {
   "cell_type": "code",
   "execution_count": 52,
   "id": "f03db095-6023-44bd-aaca-2e5a2e3babc7",
   "metadata": {},
   "outputs": [],
   "source": [
    "## nested if-else condition"
   ]
  },
  {
   "cell_type": "code",
   "execution_count": null,
   "id": "5782a1a9-e8ce-4ac9-8966-2034b08561b6",
   "metadata": {},
   "outputs": [],
   "source": [
    "Syntax of nested if else"
   ]
  },
  {
   "cell_type": "code",
   "execution_count": 58,
   "id": "845fade0-8532-4c44-ada1-2332e1f07b6c",
   "metadata": {},
   "outputs": [
    {
     "name": "stdout",
     "output_type": "stream",
     "text": [
      "The first if condition is satisfied.\n",
      "First if is true and 2nd if is true.>>It means number is 10\n"
     ]
    }
   ],
   "source": [
    "num=10\n",
    "\n",
    "if (num>=10):\n",
    "    print(\"The first if condition is satisfied.\")\n",
    "    if num ==10:\n",
    "        print(\"First if is true and 2nd if is true.>>It means number is 10\")\n",
    "    else :\n",
    "        print(\"Number is greater than 10.\")\n",
    "else:\n",
    "    print(\"The number is less than 10.\")\n",
    "    "
   ]
  },
  {
   "cell_type": "code",
   "execution_count": null,
   "id": "1fa25fe4-6510-4dc1-9d06-c79d964d0958",
   "metadata": {},
   "outputs": [],
   "source": []
  }
 ],
 "metadata": {
  "kernelspec": {
   "display_name": "Python 3 (ipykernel)",
   "language": "python",
   "name": "python3"
  },
  "language_info": {
   "codemirror_mode": {
    "name": "ipython",
    "version": 3
   },
   "file_extension": ".py",
   "mimetype": "text/x-python",
   "name": "python",
   "nbconvert_exporter": "python",
   "pygments_lexer": "ipython3",
   "version": "3.10.8"
  }
 },
 "nbformat": 4,
 "nbformat_minor": 5
}
