{
 "cells": [
  {
   "cell_type": "code",
   "execution_count": 1,
   "id": "bebc739d-64d7-4312-a600-0c698f6e2175",
   "metadata": {},
   "outputs": [],
   "source": [
    "# Data Structure :- Why are we studying?\n",
    "# What is data structure?"
   ]
  },
  {
   "cell_type": "code",
   "execution_count": null,
   "id": "d7472065-a50b-443b-b164-49a5381ca602",
   "metadata": {},
   "outputs": [],
   "source": [
    "Data Struccture :- A way to storing or organizing a data.We store data in thememory of the system."
   ]
  },
  {
   "cell_type": "code",
   "execution_count": null,
   "id": "9f6420e5-f382-486c-81d0-6f8f3694d10a",
   "metadata": {},
   "outputs": [],
   "source": [
    "Different types of basic data structure:-\n",
    "  (i)-List\n",
    " (ii)-Sets\n",
    "(iii)-Tuple\n",
    " (iv)-Dictionary"
   ]
  },
  {
   "cell_type": "code",
   "execution_count": 2,
   "id": "e449c8fa-d5d7-4478-8389-8f0599086267",
   "metadata": {},
   "outputs": [],
   "source": [
    "l1=[]"
   ]
  },
  {
   "cell_type": "code",
   "execution_count": 3,
   "id": "881df054-f82b-464e-9b2a-ccb65fee7489",
   "metadata": {},
   "outputs": [
    {
     "data": {
      "text/plain": [
       "list"
      ]
     },
     "execution_count": 3,
     "metadata": {},
     "output_type": "execute_result"
    }
   ],
   "source": [
    "type(l1)"
   ]
  },
  {
   "cell_type": "code",
   "execution_count": null,
   "id": "5abbf92c-3f97-4c31-96e8-885ddfa1a197",
   "metadata": {},
   "outputs": [],
   "source": [
    "List is used because it can store hetrogenious data."
   ]
  },
  {
   "cell_type": "code",
   "execution_count": 9,
   "id": "8706cb03-3c84-488e-9c02-3a385ac2553c",
   "metadata": {},
   "outputs": [],
   "source": [
    "l1=[1,2,3]\n",
    "l2=['ram','shyam',1]"
   ]
  },
  {
   "cell_type": "code",
   "execution_count": 10,
   "id": "6db8ac0f-4dfe-4e46-a5b9-68c9f2032324",
   "metadata": {},
   "outputs": [
    {
     "data": {
      "text/plain": [
       "['ram', 'shyam', 1]"
      ]
     },
     "execution_count": 10,
     "metadata": {},
     "output_type": "execute_result"
    }
   ],
   "source": [
    "l2"
   ]
  },
  {
   "cell_type": "code",
   "execution_count": null,
   "id": "52d0c520-f2ab-42fe-a76f-b64fda86129f",
   "metadata": {},
   "outputs": [],
   "source": [
    "List are polymorphic(many forms) in nature."
   ]
  },
  {
   "cell_type": "code",
   "execution_count": 11,
   "id": "c560048c-fbf9-4f38-ab67-1abecd24b967",
   "metadata": {},
   "outputs": [
    {
     "data": {
      "text/plain": [
       "['ram', 'shyam', 1]"
      ]
     },
     "execution_count": 11,
     "metadata": {},
     "output_type": "execute_result"
    }
   ],
   "source": [
    "l2"
   ]
  },
  {
   "cell_type": "code",
   "execution_count": 13,
   "id": "56c7003c-d5ed-4652-bd65-80ed706d785a",
   "metadata": {},
   "outputs": [],
   "source": [
    "l2.append('atul')"
   ]
  },
  {
   "cell_type": "code",
   "execution_count": 14,
   "id": "47aa67b2-4a8d-49ee-bd91-876ac14bd7b1",
   "metadata": {},
   "outputs": [
    {
     "data": {
      "text/plain": [
       "['ram', 'shyam', 1, 'atul']"
      ]
     },
     "execution_count": 14,
     "metadata": {},
     "output_type": "execute_result"
    }
   ],
   "source": [
    "l2"
   ]
  },
  {
   "cell_type": "code",
   "execution_count": null,
   "id": "143fd805-c0ee-47c2-b2ea-b025565c4f98",
   "metadata": {},
   "outputs": [],
   "source": [
    "Index is contiguous in nature in string."
   ]
  },
  {
   "cell_type": "code",
   "execution_count": 15,
   "id": "fa933b64-e7df-4a67-9a01-5881b9a8682d",
   "metadata": {},
   "outputs": [
    {
     "data": {
      "text/plain": [
       "'ram'"
      ]
     },
     "execution_count": 15,
     "metadata": {},
     "output_type": "execute_result"
    }
   ],
   "source": [
    "l2[0]"
   ]
  },
  {
   "cell_type": "code",
   "execution_count": 23,
   "id": "bc3bd461-9e25-41b9-91b0-c2ea095e24d5",
   "metadata": {},
   "outputs": [
    {
     "data": {
      "text/plain": [
       "'shyam'"
      ]
     },
     "execution_count": 23,
     "metadata": {},
     "output_type": "execute_result"
    }
   ],
   "source": [
    "l2[1]"
   ]
  },
  {
   "cell_type": "code",
   "execution_count": 31,
   "id": "fa2817b7-c3ba-4b26-9151-82024962f027",
   "metadata": {},
   "outputs": [
    {
     "data": {
      "text/plain": [
       "['atul', 'kumar']"
      ]
     },
     "execution_count": 31,
     "metadata": {},
     "output_type": "execute_result"
    }
   ],
   "source": [
    "l2.pop()"
   ]
  },
  {
   "cell_type": "code",
   "execution_count": 25,
   "id": "7c6257bb-d5f9-4390-925d-c4729da4df2f",
   "metadata": {},
   "outputs": [
    {
     "data": {
      "text/plain": [
       "['ram',\n",
       " 'shyam',\n",
       " 1,\n",
       " 'atul',\n",
       " '[\"atul\",\"kumar\"]',\n",
       " ['atul', 'kumar'],\n",
       " ['atul', 'kumar']]"
      ]
     },
     "execution_count": 25,
     "metadata": {},
     "output_type": "execute_result"
    }
   ],
   "source": [
    "l2"
   ]
  },
  {
   "cell_type": "code",
   "execution_count": 29,
   "id": "2f6dc580-528a-44ed-a296-dba7863c663f",
   "metadata": {},
   "outputs": [
    {
     "data": {
      "text/plain": [
       "'['"
      ]
     },
     "execution_count": 29,
     "metadata": {},
     "output_type": "execute_result"
    }
   ],
   "source": [
    "l2[4][0]"
   ]
  },
  {
   "cell_type": "code",
   "execution_count": 32,
   "id": "6e7239a2-c037-4ced-86e6-5ae57b2d495c",
   "metadata": {},
   "outputs": [
    {
     "data": {
      "text/plain": [
       "[1, 2, 3]"
      ]
     },
     "execution_count": 32,
     "metadata": {},
     "output_type": "execute_result"
    }
   ],
   "source": [
    "l1[0:3]"
   ]
  },
  {
   "cell_type": "code",
   "execution_count": 42,
   "id": "1aad6050-6d94-474a-8379-d4f2f87811fa",
   "metadata": {},
   "outputs": [],
   "source": [
    "l2= [\"alam\",\"alok\"]"
   ]
  },
  {
   "cell_type": "code",
   "execution_count": 43,
   "id": "ca3d6ebd-509b-434f-a941-074cd3387152",
   "metadata": {},
   "outputs": [
    {
     "data": {
      "text/plain": [
       "['alam', 'alok', 'alam', 'alok']"
      ]
     },
     "execution_count": 43,
     "metadata": {},
     "output_type": "execute_result"
    }
   ],
   "source": [
    "l2*2"
   ]
  },
  {
   "cell_type": "code",
   "execution_count": 53,
   "id": "f01b5497-a00d-4802-b69b-4b1ef031b1b2",
   "metadata": {},
   "outputs": [
    {
     "data": {
      "text/plain": [
       "[1, 2, 3, 'Animesh', 'alok']"
      ]
     },
     "execution_count": 53,
     "metadata": {},
     "output_type": "execute_result"
    }
   ],
   "source": [
    "l1+l2"
   ]
  },
  {
   "cell_type": "code",
   "execution_count": 35,
   "id": "ae8593e4-80e6-433a-90bd-a15b74fa1674",
   "metadata": {},
   "outputs": [],
   "source": [
    "# How this can be asked in interview ?"
   ]
  },
  {
   "cell_type": "code",
   "execution_count": 36,
   "id": "bdd64d71-521a-47e4-9f4f-e6a40c3e0daa",
   "metadata": {},
   "outputs": [],
   "source": [
    "l2=\"Asmita\""
   ]
  },
  {
   "cell_type": "code",
   "execution_count": 38,
   "id": "c6f77de3-8c70-4865-b742-73e02c8416c5",
   "metadata": {},
   "outputs": [
    {
     "data": {
      "text/plain": [
       "[1, 2, 3, 'A', 's', 'm', 'i', 't', 'a']"
      ]
     },
     "execution_count": 38,
     "metadata": {},
     "output_type": "execute_result"
    }
   ],
   "source": [
    "l1+list(l2)"
   ]
  },
  {
   "cell_type": "code",
   "execution_count": 39,
   "id": "560049e0-0956-406b-8aeb-c93972a5ce44",
   "metadata": {},
   "outputs": [],
   "source": [
    "# How to deal with it ?"
   ]
  },
  {
   "cell_type": "code",
   "execution_count": 44,
   "id": "4e521a93-b0d5-41e4-b78a-088e4c48f4ca",
   "metadata": {},
   "outputs": [
    {
     "data": {
      "text/plain": [
       "['alam', 'alok', 'alam', 'alok']"
      ]
     },
     "execution_count": 44,
     "metadata": {},
     "output_type": "execute_result"
    }
   ],
   "source": [
    "l2*2"
   ]
  },
  {
   "cell_type": "code",
   "execution_count": 45,
   "id": "6571b9dc-42e8-4c9c-ac89-756a59a8034b",
   "metadata": {},
   "outputs": [
    {
     "ename": "SyntaxError",
     "evalue": "cannot assign to literal here. Maybe you meant '==' instead of '='? (2426212529.py, line 1)",
     "output_type": "error",
     "traceback": [
      "\u001b[0;36m  Cell \u001b[0;32mIn[45], line 1\u001b[0;36m\u001b[0m\n\u001b[0;31m    l2[\"Alam\" = \"Animesh\"]\u001b[0m\n\u001b[0m       ^\u001b[0m\n\u001b[0;31mSyntaxError\u001b[0m\u001b[0;31m:\u001b[0m cannot assign to literal here. Maybe you meant '==' instead of '='?\n"
     ]
    }
   ],
   "source": [
    "l2[\"Alam\" = \"Animesh\"]"
   ]
  },
  {
   "cell_type": "code",
   "execution_count": 47,
   "id": "ddd3a437-4a5e-43eb-b816-ecc318b60909",
   "metadata": {},
   "outputs": [],
   "source": [
    "l2[0]= \"Animesh\""
   ]
  },
  {
   "cell_type": "code",
   "execution_count": 48,
   "id": "9211ec56-9b17-44d0-96fe-343a2b55552c",
   "metadata": {},
   "outputs": [
    {
     "data": {
      "text/plain": [
       "['Animesh', 'alok']"
      ]
     },
     "execution_count": 48,
     "metadata": {},
     "output_type": "execute_result"
    }
   ],
   "source": [
    "l2"
   ]
  },
  {
   "cell_type": "code",
   "execution_count": 58,
   "id": "a14988bc-549f-4953-bbf4-5d00e032f0fa",
   "metadata": {},
   "outputs": [
    {
     "data": {
      "text/plain": [
       "[1, 2, ['Ram', 'Mohan'], 'Ram', 'Mohan']"
      ]
     },
     "execution_count": 58,
     "metadata": {},
     "output_type": "execute_result"
    }
   ],
   "source": [
    "l1 + [\"Ram\", \"Mohan\"]"
   ]
  },
  {
   "cell_type": "code",
   "execution_count": 61,
   "id": "27a42978-a0f7-44a6-a072-e04029cf3c3e",
   "metadata": {},
   "outputs": [],
   "source": [
    "l3=l1 +l2"
   ]
  },
  {
   "cell_type": "code",
   "execution_count": 63,
   "id": "9b4e047d-26da-4c83-a1ec-4d74f2e0665e",
   "metadata": {},
   "outputs": [
    {
     "data": {
      "text/plain": [
       "[1, 2, ['Ram', 'Mohan'], 'Animesh', 'alok']"
      ]
     },
     "execution_count": 63,
     "metadata": {},
     "output_type": "execute_result"
    }
   ],
   "source": [
    "l3"
   ]
  },
  {
   "cell_type": "code",
   "execution_count": null,
   "id": "06e15add-5456-4ed3-8aa3-84c521da4168",
   "metadata": {},
   "outputs": [],
   "source": [
    "Tuple:- It is also used to store hetrogenious data.Tuples are immutable while list is mutable."
   ]
  },
  {
   "cell_type": "code",
   "execution_count": 64,
   "id": "39328612-3927-4d25-912e-5c5fe7865241",
   "metadata": {},
   "outputs": [],
   "source": [
    "t =(1,2,3,\"Ram\",True)"
   ]
  },
  {
   "cell_type": "code",
   "execution_count": 65,
   "id": "b5131c35-9b29-4b7f-8db5-9561f8d00db5",
   "metadata": {},
   "outputs": [
    {
     "data": {
      "text/plain": [
       "(1, 2, 3, 'Ram', True)"
      ]
     },
     "execution_count": 65,
     "metadata": {},
     "output_type": "execute_result"
    }
   ],
   "source": [
    "t"
   ]
  },
  {
   "cell_type": "code",
   "execution_count": 66,
   "id": "057391c3-c2ce-474a-9982-a03284c3478a",
   "metadata": {},
   "outputs": [
    {
     "data": {
      "text/plain": [
       "tuple"
      ]
     },
     "execution_count": 66,
     "metadata": {},
     "output_type": "execute_result"
    }
   ],
   "source": [
    "type(t)"
   ]
  },
  {
   "cell_type": "code",
   "execution_count": 67,
   "id": "06f60e32-7135-43f8-87af-6f2d4bc24723",
   "metadata": {},
   "outputs": [
    {
     "data": {
      "text/plain": [
       "2"
      ]
     },
     "execution_count": 67,
     "metadata": {},
     "output_type": "execute_result"
    }
   ],
   "source": [
    "t[1]"
   ]
  },
  {
   "cell_type": "code",
   "execution_count": 69,
   "id": "4c3d7f7c-a1d2-4141-a87c-bf295045aac4",
   "metadata": {},
   "outputs": [
    {
     "ename": "TypeError",
     "evalue": "'tuple' object does not support item assignment",
     "output_type": "error",
     "traceback": [
      "\u001b[0;31m---------------------------------------------------------------------------\u001b[0m",
      "\u001b[0;31mTypeError\u001b[0m                                 Traceback (most recent call last)",
      "Cell \u001b[0;32mIn[69], line 1\u001b[0m\n\u001b[0;32m----> 1\u001b[0m \u001b[43mt\u001b[49m\u001b[43m[\u001b[49m\u001b[38;5;241;43m5\u001b[39;49m\u001b[43m]\u001b[49m \u001b[38;5;241m=\u001b[39m\u001b[38;5;241m100\u001b[39m\n",
      "\u001b[0;31mTypeError\u001b[0m: 'tuple' object does not support item assignment"
     ]
    }
   ],
   "source": [
    "t[5] = 100"
   ]
  },
  {
   "cell_type": "code",
   "execution_count": 70,
   "id": "335a88c2-4fd2-445b-b7c4-03b07148d968",
   "metadata": {},
   "outputs": [
    {
     "ename": "IndexError",
     "evalue": "tuple index out of range",
     "output_type": "error",
     "traceback": [
      "\u001b[0;31m---------------------------------------------------------------------------\u001b[0m",
      "\u001b[0;31mIndexError\u001b[0m                                Traceback (most recent call last)",
      "Cell \u001b[0;32mIn[70], line 1\u001b[0m\n\u001b[0;32m----> 1\u001b[0m \u001b[43mt\u001b[49m\u001b[43m[\u001b[49m\u001b[38;5;241;43m5\u001b[39;49m\u001b[43m]\u001b[49m\n",
      "\u001b[0;31mIndexError\u001b[0m: tuple index out of range"
     ]
    }
   ],
   "source": [
    "t[5]"
   ]
  },
  {
   "cell_type": "code",
   "execution_count": null,
   "id": "215f9582-d64e-4abb-9339-e554fc8cc6bd",
   "metadata": {},
   "outputs": [],
   "source": [
    "Tuples are used to store static data.The data which is not supposed to be change."
   ]
  },
  {
   "cell_type": "code",
   "execution_count": null,
   "id": "bb43d098-0525-4d72-8d40-6bf5d30cdf9d",
   "metadata": {},
   "outputs": [],
   "source": [
    "## To store static data\n",
    "## Employee no.\n",
    "# emp_id ,aadhar_no ,driving licence , pan no"
   ]
  },
  {
   "cell_type": "code",
   "execution_count": 71,
   "id": "9f131ed0-a3f9-491c-b4c6-709230d4f82a",
   "metadata": {},
   "outputs": [
    {
     "data": {
      "text/plain": [
       "(1, 2, 3, 'Ram', True)"
      ]
     },
     "execution_count": 71,
     "metadata": {},
     "output_type": "execute_result"
    }
   ],
   "source": [
    "# Emp id = \n",
    "t"
   ]
  },
  {
   "cell_type": "code",
   "execution_count": 72,
   "id": "d38ab827-6fb6-4eff-aadf-1d62164a18c1",
   "metadata": {},
   "outputs": [
    {
     "data": {
      "text/plain": [
       "[1, 2, 3, 'Ram', True]"
      ]
     },
     "execution_count": 72,
     "metadata": {},
     "output_type": "execute_result"
    }
   ],
   "source": [
    "list(t)"
   ]
  },
  {
   "cell_type": "code",
   "execution_count": 73,
   "id": "f182e192-acb5-4e66-8933-f396d5c1f003",
   "metadata": {},
   "outputs": [
    {
     "data": {
      "text/plain": [
       "True"
      ]
     },
     "execution_count": 73,
     "metadata": {},
     "output_type": "execute_result"
    }
   ],
   "source": [
    "t[4]"
   ]
  },
  {
   "cell_type": "code",
   "execution_count": 74,
   "id": "59c72ddb-0f12-4b48-9d55-b93c26dab530",
   "metadata": {},
   "outputs": [
    {
     "data": {
      "text/plain": [
       "5"
      ]
     },
     "execution_count": 74,
     "metadata": {},
     "output_type": "execute_result"
    }
   ],
   "source": [
    "len(t)"
   ]
  },
  {
   "cell_type": "code",
   "execution_count": 75,
   "id": "98ac1c19-39f5-490b-b7d1-831a0fc79a3c",
   "metadata": {},
   "outputs": [
    {
     "data": {
      "text/plain": [
       "5"
      ]
     },
     "execution_count": 75,
     "metadata": {},
     "output_type": "execute_result"
    }
   ],
   "source": [
    "len(list(t))"
   ]
  },
  {
   "cell_type": "code",
   "execution_count": 76,
   "id": "6acb5c0e-d1f0-47fc-9497-38287672a3b8",
   "metadata": {},
   "outputs": [],
   "source": [
    "t1 =(1,2,3)"
   ]
  },
  {
   "cell_type": "code",
   "execution_count": 77,
   "id": "dec68d18-f663-458c-b6a9-c711cf09693c",
   "metadata": {},
   "outputs": [
    {
     "data": {
      "text/plain": [
       "(1, 2, 3, 'Ram', True, 1, 2, 3)"
      ]
     },
     "execution_count": 77,
     "metadata": {},
     "output_type": "execute_result"
    }
   ],
   "source": [
    "t+t1"
   ]
  },
  {
   "cell_type": "code",
   "execution_count": 78,
   "id": "733da4b2-4e1b-4475-b59a-148b94bed42e",
   "metadata": {},
   "outputs": [],
   "source": [
    "# Dictionary "
   ]
  },
  {
   "cell_type": "code",
   "execution_count": null,
   "id": "92dfd0ba-87e6-4aa4-86dd-508374c2e401",
   "metadata": {},
   "outputs": [],
   "source": [
    "Dictionary :-"
   ]
  },
  {
   "cell_type": "code",
   "execution_count": 79,
   "id": "59d4c8bd-16c1-47b3-b5bb-7dedfebeba81",
   "metadata": {},
   "outputs": [
    {
     "data": {
      "text/plain": [
       "dict"
      ]
     },
     "execution_count": 79,
     "metadata": {},
     "output_type": "execute_result"
    }
   ],
   "source": [
    "d= {}\n",
    "type(d)"
   ]
  },
  {
   "cell_type": "code",
   "execution_count": null,
   "id": "4c4d22c9-926c-4f8e-b336-c9f9a5c43726",
   "metadata": {},
   "outputs": [],
   "source": [
    "# Which are the molecules sold in which countries\n",
    "## {\"USA\": {\"PCM\",\"Neproxin\"}}"
   ]
  },
  {
   "cell_type": "code",
   "execution_count": 88,
   "id": "6b377d99-3411-45dc-a864-e6cb6ee5bd2e",
   "metadata": {},
   "outputs": [],
   "source": [
    "d={\"Student\" : \"Prince\" ,\"Subject\":\"Stats\"}"
   ]
  },
  {
   "cell_type": "code",
   "execution_count": 89,
   "id": "0d7da145-0c6b-4a3e-a708-9f99c94bdf21",
   "metadata": {},
   "outputs": [
    {
     "data": {
      "text/plain": [
       "{'Student': 'Prince', 'Subject': 'Stats'}"
      ]
     },
     "execution_count": 89,
     "metadata": {},
     "output_type": "execute_result"
    }
   ],
   "source": [
    "d"
   ]
  },
  {
   "cell_type": "code",
   "execution_count": 90,
   "id": "64a0cf94-af76-4857-975a-33e1fb4ea721",
   "metadata": {},
   "outputs": [],
   "source": [
    "d ={\"Student\" :\"Ayush\"}"
   ]
  },
  {
   "cell_type": "code",
   "execution_count": 91,
   "id": "fd6cd894-851d-43d5-b619-1c73f7ba6b96",
   "metadata": {},
   "outputs": [
    {
     "data": {
      "text/plain": [
       "{'Student': 'Ayush'}"
      ]
     },
     "execution_count": 91,
     "metadata": {},
     "output_type": "execute_result"
    }
   ],
   "source": [
    "d"
   ]
  },
  {
   "cell_type": "code",
   "execution_count": 92,
   "id": "d4dca739-943b-46f1-b821-347dde7662a6",
   "metadata": {},
   "outputs": [
    {
     "ename": "TypeError",
     "evalue": "unhashable type: 'list'",
     "output_type": "error",
     "traceback": [
      "\u001b[0;31m---------------------------------------------------------------------------\u001b[0m",
      "\u001b[0;31mTypeError\u001b[0m                                 Traceback (most recent call last)",
      "Cell \u001b[0;32mIn[92], line 1\u001b[0m\n\u001b[0;32m----> 1\u001b[0m d \u001b[38;5;241m=\u001b[39m {[\u001b[38;5;241m1\u001b[39m,\u001b[38;5;241m2\u001b[39m,\u001b[38;5;241m3\u001b[39m] :\u001b[38;5;124m\"\u001b[39m\u001b[38;5;124mAjay\u001b[39m\u001b[38;5;124m\"\u001b[39m}\n",
      "\u001b[0;31mTypeError\u001b[0m: unhashable type: 'list'"
     ]
    }
   ],
   "source": [
    "d = {[1,2,3] :\"Ajay\"}"
   ]
  },
  {
   "cell_type": "code",
   "execution_count": 94,
   "id": "1df52bfe-66b1-417f-842e-4e789fa81889",
   "metadata": {},
   "outputs": [
    {
     "ename": "TypeError",
     "evalue": "unhashable type: 'set'",
     "output_type": "error",
     "traceback": [
      "\u001b[0;31m---------------------------------------------------------------------------\u001b[0m",
      "\u001b[0;31mTypeError\u001b[0m                                 Traceback (most recent call last)",
      "Cell \u001b[0;32mIn[94], line 1\u001b[0m\n\u001b[0;32m----> 1\u001b[0m d \u001b[38;5;241m=\u001b[39m {{\u001b[38;5;241m1\u001b[39m,\u001b[38;5;241m2\u001b[39m,\u001b[38;5;241m3\u001b[39m} :\u001b[38;5;124m\"\u001b[39m\u001b[38;5;124mAjay\u001b[39m\u001b[38;5;124m\"\u001b[39m}\n",
      "\u001b[0;31mTypeError\u001b[0m: unhashable type: 'set'"
     ]
    }
   ],
   "source": [
    "d = {{1,2,3} :\"Ajay\"}"
   ]
  },
  {
   "cell_type": "code",
   "execution_count": 95,
   "id": "e645c8cf-4536-4ab9-8987-20b9303d17df",
   "metadata": {},
   "outputs": [],
   "source": [
    "d = {(1,2,3):\"Ajay\"}"
   ]
  },
  {
   "cell_type": "code",
   "execution_count": 96,
   "id": "da0eb97a-a91b-427b-be90-e27e834d1c2f",
   "metadata": {},
   "outputs": [
    {
     "data": {
      "text/plain": [
       "{(1, 2, 3): 'Ajay'}"
      ]
     },
     "execution_count": 96,
     "metadata": {},
     "output_type": "execute_result"
    }
   ],
   "source": [
    "d"
   ]
  },
  {
   "cell_type": "code",
   "execution_count": 97,
   "id": "1598ee74-5f88-42d9-a257-aff1093b0fb6",
   "metadata": {},
   "outputs": [],
   "source": [
    "d= {\"String\": 123}"
   ]
  },
  {
   "cell_type": "code",
   "execution_count": 98,
   "id": "8065df2a-c42f-479d-bbeb-319b3b666658",
   "metadata": {},
   "outputs": [
    {
     "data": {
      "text/plain": [
       "{'String': 123}"
      ]
     },
     "execution_count": 98,
     "metadata": {},
     "output_type": "execute_result"
    }
   ],
   "source": [
    "d"
   ]
  },
  {
   "cell_type": "code",
   "execution_count": 99,
   "id": "08119302-1370-4f7a-a3c2-2ee6962737df",
   "metadata": {},
   "outputs": [],
   "source": [
    "d ={\"String\":[1,2,3]}"
   ]
  },
  {
   "cell_type": "code",
   "execution_count": 100,
   "id": "53d1b893-4d4d-4b54-9033-f5678ba5220f",
   "metadata": {},
   "outputs": [
    {
     "data": {
      "text/plain": [
       "{'String': [1, 2, 3]}"
      ]
     },
     "execution_count": 100,
     "metadata": {},
     "output_type": "execute_result"
    }
   ],
   "source": [
    "d"
   ]
  },
  {
   "cell_type": "code",
   "execution_count": null,
   "id": "a46af18a-669b-4f2b-b8a0-da0d08b79503",
   "metadata": {},
   "outputs": [],
   "source": [
    "Value can be anything."
   ]
  },
  {
   "cell_type": "code",
   "execution_count": 101,
   "id": "8a6f9cca-0786-44e3-a019-95dd0501fb5a",
   "metadata": {},
   "outputs": [
    {
     "data": {
      "text/plain": [
       "[1, 2, 3]"
      ]
     },
     "execution_count": 101,
     "metadata": {},
     "output_type": "execute_result"
    }
   ],
   "source": [
    "d['String']"
   ]
  },
  {
   "cell_type": "code",
   "execution_count": 102,
   "id": "f53346f9-5070-47d3-ad4f-0d5959a2bfdb",
   "metadata": {},
   "outputs": [
    {
     "data": {
      "text/plain": [
       "[1, 2, 3]"
      ]
     },
     "execution_count": 102,
     "metadata": {},
     "output_type": "execute_result"
    }
   ],
   "source": [
    "d.get(\"String\")"
   ]
  },
  {
   "cell_type": "code",
   "execution_count": 105,
   "id": "4d6ac406-3ba9-4531-b808-c82637d0aa92",
   "metadata": {},
   "outputs": [],
   "source": [
    "d['String']=[4,5,6]"
   ]
  },
  {
   "cell_type": "code",
   "execution_count": 106,
   "id": "37a6586c-7a4f-43dc-982e-2e208ca6fc29",
   "metadata": {},
   "outputs": [
    {
     "data": {
      "text/plain": [
       "{'String': [4, 5, 6]}"
      ]
     },
     "execution_count": 106,
     "metadata": {},
     "output_type": "execute_result"
    }
   ],
   "source": [
    "d"
   ]
  },
  {
   "cell_type": "code",
   "execution_count": 107,
   "id": "3e36173c-5e01-403e-a8a2-d79582ea73c1",
   "metadata": {},
   "outputs": [],
   "source": [
    "# Set"
   ]
  },
  {
   "cell_type": "code",
   "execution_count": null,
   "id": "552ef8e4-0ef9-48eb-ac5f-d3626b85e012",
   "metadata": {},
   "outputs": [],
   "source": [
    "Set:- A collection of unique objects "
   ]
  },
  {
   "cell_type": "code",
   "execution_count": null,
   "id": "9f6f505c-cbc9-4b40-bcfb-6ee97076259b",
   "metadata": {},
   "outputs": [],
   "source": [
    "# Emp id \n",
    "1>> Chicken\n",
    "2\n",
    "3\n",
    "4\n",
    "5\n",
    "1>> Pav bhaji"
   ]
  },
  {
   "cell_type": "code",
   "execution_count": 108,
   "id": "c8876e84-8b60-416a-b4ba-16d45cd3cefc",
   "metadata": {},
   "outputs": [],
   "source": [
    "t=(1,2,3,1)"
   ]
  },
  {
   "cell_type": "code",
   "execution_count": 109,
   "id": "a7bd3913-9efb-4ca9-8b7a-dbf13ec5afd7",
   "metadata": {},
   "outputs": [
    {
     "data": {
      "text/plain": [
       "(1, 2, 3, 1)"
      ]
     },
     "execution_count": 109,
     "metadata": {},
     "output_type": "execute_result"
    }
   ],
   "source": [
    "t"
   ]
  },
  {
   "cell_type": "code",
   "execution_count": 110,
   "id": "199fb19f-58d5-4c65-b22e-2ced92c0c709",
   "metadata": {},
   "outputs": [],
   "source": [
    "s ={}"
   ]
  },
  {
   "cell_type": "code",
   "execution_count": 111,
   "id": "5a8698b4-7a46-43f7-98cf-56b04f897323",
   "metadata": {},
   "outputs": [
    {
     "data": {
      "text/plain": [
       "dict"
      ]
     },
     "execution_count": 111,
     "metadata": {},
     "output_type": "execute_result"
    }
   ],
   "source": [
    "type(s)"
   ]
  },
  {
   "cell_type": "code",
   "execution_count": 112,
   "id": "fecd792c-fd22-4741-84db-37466cc3f03a",
   "metadata": {},
   "outputs": [],
   "source": [
    "s={\"Ajay\",\"Vijay\",\"Sanjay\",\"Ajay\"}"
   ]
  },
  {
   "cell_type": "code",
   "execution_count": 113,
   "id": "e62cdac8-d45f-41fb-8d76-2a99a7113373",
   "metadata": {},
   "outputs": [
    {
     "data": {
      "text/plain": [
       "{'Ajay', 'Sanjay', 'Vijay'}"
      ]
     },
     "execution_count": 113,
     "metadata": {},
     "output_type": "execute_result"
    }
   ],
   "source": [
    "s"
   ]
  },
  {
   "cell_type": "code",
   "execution_count": 114,
   "id": "95177e62-9f25-4cf7-a2a6-100ef9d32759",
   "metadata": {},
   "outputs": [],
   "source": [
    "s={\"Ajay\",\"Vijay\",\"Sanjay\",\"ajay\"}"
   ]
  },
  {
   "cell_type": "code",
   "execution_count": 115,
   "id": "0a7108ac-0dad-443d-8271-31af6b3445fb",
   "metadata": {},
   "outputs": [
    {
     "data": {
      "text/plain": [
       "{'Ajay', 'Sanjay', 'Vijay', 'ajay'}"
      ]
     },
     "execution_count": 115,
     "metadata": {},
     "output_type": "execute_result"
    }
   ],
   "source": [
    "s"
   ]
  },
  {
   "cell_type": "code",
   "execution_count": 118,
   "id": "fb93bafc-7741-4a04-8f42-52fa6a2af40e",
   "metadata": {},
   "outputs": [],
   "source": [
    "s={1,2,3,4,5,6,1,1 ,\"Sanjay\"}"
   ]
  },
  {
   "cell_type": "code",
   "execution_count": 119,
   "id": "f5700a18-948e-46ca-bd09-8bd67d542900",
   "metadata": {},
   "outputs": [
    {
     "data": {
      "text/plain": [
       "{1, 2, 3, 4, 5, 6, 'Sanjay'}"
      ]
     },
     "execution_count": 119,
     "metadata": {},
     "output_type": "execute_result"
    }
   ],
   "source": [
    "s"
   ]
  },
  {
   "cell_type": "code",
   "execution_count": null,
   "id": "9a5fb6cc-6c66-4ecc-8a13-b3b1f5db2895",
   "metadata": {},
   "outputs": [],
   "source": [
    "Can you access the element of set ?"
   ]
  },
  {
   "cell_type": "code",
   "execution_count": 120,
   "id": "21b1b782-72a3-4cb7-9da1-46a109c6b434",
   "metadata": {},
   "outputs": [
    {
     "ename": "TypeError",
     "evalue": "'set' object is not subscriptable",
     "output_type": "error",
     "traceback": [
      "\u001b[0;31m---------------------------------------------------------------------------\u001b[0m",
      "\u001b[0;31mTypeError\u001b[0m                                 Traceback (most recent call last)",
      "Cell \u001b[0;32mIn[120], line 1\u001b[0m\n\u001b[0;32m----> 1\u001b[0m \u001b[43ms\u001b[49m\u001b[43m[\u001b[49m\u001b[38;5;241;43m1\u001b[39;49m\u001b[43m]\u001b[49m\n",
      "\u001b[0;31mTypeError\u001b[0m: 'set' object is not subscriptable"
     ]
    }
   ],
   "source": [
    "s[1]"
   ]
  },
  {
   "cell_type": "code",
   "execution_count": 121,
   "id": "6be3588d-f0c1-4b62-b796-cf984eb21bdc",
   "metadata": {},
   "outputs": [],
   "source": [
    "# It doesnot follow indexing."
   ]
  },
  {
   "cell_type": "code",
   "execution_count": 122,
   "id": "d3446d54-1dbc-4b15-8cf0-01108ab4c71f",
   "metadata": {},
   "outputs": [
    {
     "data": {
      "text/plain": [
       "[1, 2, 3, 4, 5, 6, 'Sanjay']"
      ]
     },
     "execution_count": 122,
     "metadata": {},
     "output_type": "execute_result"
    }
   ],
   "source": [
    "list(s)"
   ]
  },
  {
   "cell_type": "code",
   "execution_count": 123,
   "id": "307dcaac-3e12-4e62-b940-1299228839e5",
   "metadata": {},
   "outputs": [
    {
     "data": {
      "text/plain": [
       "[1, 2, ['Ram', 'Mohan']]"
      ]
     },
     "execution_count": 123,
     "metadata": {},
     "output_type": "execute_result"
    }
   ],
   "source": [
    "l1"
   ]
  },
  {
   "cell_type": "code",
   "execution_count": 124,
   "id": "c9ba3254-3d2d-43c4-be16-7078f5b69108",
   "metadata": {},
   "outputs": [
    {
     "ename": "TypeError",
     "evalue": "unhashable type: 'list'",
     "output_type": "error",
     "traceback": [
      "\u001b[0;31m---------------------------------------------------------------------------\u001b[0m",
      "\u001b[0;31mTypeError\u001b[0m                                 Traceback (most recent call last)",
      "Cell \u001b[0;32mIn[124], line 1\u001b[0m\n\u001b[0;32m----> 1\u001b[0m \u001b[38;5;28;43mset\u001b[39;49m\u001b[43m(\u001b[49m\u001b[43ml1\u001b[49m\u001b[43m)\u001b[49m\n",
      "\u001b[0;31mTypeError\u001b[0m: unhashable type: 'list'"
     ]
    }
   ],
   "source": [
    "set(l1)"
   ]
  },
  {
   "cell_type": "code",
   "execution_count": 125,
   "id": "f534dfd8-55f0-4967-bced-f5aacca771c5",
   "metadata": {},
   "outputs": [],
   "source": [
    "#String\n",
    "\n",
    "s1 =\"pwskills\"\n"
   ]
  },
  {
   "cell_type": "code",
   "execution_count": 126,
   "id": "520fa451-16e2-495b-b6ad-2a8b174e6259",
   "metadata": {},
   "outputs": [
    {
     "data": {
      "text/plain": [
       "'Pwskills'"
      ]
     },
     "execution_count": 126,
     "metadata": {},
     "output_type": "execute_result"
    }
   ],
   "source": [
    "s1.title()"
   ]
  },
  {
   "cell_type": "code",
   "execution_count": 127,
   "id": "c8187658-971e-48f3-aa27-fad8a635bd5d",
   "metadata": {},
   "outputs": [
    {
     "data": {
      "text/plain": [
       "2"
      ]
     },
     "execution_count": 127,
     "metadata": {},
     "output_type": "execute_result"
    }
   ],
   "source": [
    "s1.count('l')"
   ]
  },
  {
   "cell_type": "code",
   "execution_count": 128,
   "id": "167858ee-b74d-4b37-bc2a-70a15a42daac",
   "metadata": {},
   "outputs": [
    {
     "data": {
      "text/plain": [
       "2"
      ]
     },
     "execution_count": 128,
     "metadata": {},
     "output_type": "execute_result"
    }
   ],
   "source": [
    "s1.find(\"s\")"
   ]
  },
  {
   "cell_type": "code",
   "execution_count": 129,
   "id": "19a45dd7-7801-45ee-a5b9-d3ee43d6b589",
   "metadata": {},
   "outputs": [
    {
     "data": {
      "text/plain": [
       "0"
      ]
     },
     "execution_count": 129,
     "metadata": {},
     "output_type": "execute_result"
    }
   ],
   "source": [
    "s1.index('p')"
   ]
  },
  {
   "cell_type": "code",
   "execution_count": 130,
   "id": "761d6503-15cb-4320-b698-5074deaffe2a",
   "metadata": {},
   "outputs": [
    {
     "ename": "ValueError",
     "evalue": "substring not found",
     "output_type": "error",
     "traceback": [
      "\u001b[0;31m---------------------------------------------------------------------------\u001b[0m",
      "\u001b[0;31mValueError\u001b[0m                                Traceback (most recent call last)",
      "Cell \u001b[0;32mIn[130], line 1\u001b[0m\n\u001b[0;32m----> 1\u001b[0m \u001b[43ms1\u001b[49m\u001b[38;5;241;43m.\u001b[39;49m\u001b[43mindex\u001b[49m\u001b[43m(\u001b[49m\u001b[38;5;124;43m'\u001b[39;49m\u001b[38;5;124;43my\u001b[39;49m\u001b[38;5;124;43m'\u001b[39;49m\u001b[43m)\u001b[49m\n",
      "\u001b[0;31mValueError\u001b[0m: substring not found"
     ]
    }
   ],
   "source": [
    "s1.index('y')"
   ]
  },
  {
   "cell_type": "code",
   "execution_count": 131,
   "id": "af539420-416a-4568-b8f4-f84c1419f5f8",
   "metadata": {},
   "outputs": [
    {
     "data": {
      "text/plain": [
       "-1"
      ]
     },
     "execution_count": 131,
     "metadata": {},
     "output_type": "execute_result"
    }
   ],
   "source": [
    "s1.find('y')"
   ]
  },
  {
   "cell_type": "code",
   "execution_count": 132,
   "id": "a8d1a0eb-d4ad-4479-9e05-8d30500f57ee",
   "metadata": {},
   "outputs": [
    {
     "data": {
      "text/plain": [
       "'PWSKILLS'"
      ]
     },
     "execution_count": 132,
     "metadata": {},
     "output_type": "execute_result"
    }
   ],
   "source": [
    "s1.upper()"
   ]
  },
  {
   "cell_type": "code",
   "execution_count": 133,
   "id": "379ce452-8dfe-4891-9641-f2f14b59f83b",
   "metadata": {},
   "outputs": [
    {
     "data": {
      "text/plain": [
       "'Pwskills'"
      ]
     },
     "execution_count": 133,
     "metadata": {},
     "output_type": "execute_result"
    }
   ],
   "source": [
    "s1.title()"
   ]
  },
  {
   "cell_type": "code",
   "execution_count": 134,
   "id": "bb2888bc-4c9f-49a9-bcc3-d2e8610e5706",
   "metadata": {},
   "outputs": [],
   "source": [
    "s=\"My name is ajay\""
   ]
  },
  {
   "cell_type": "code",
   "execution_count": 136,
   "id": "a828c727-4aa9-42f6-98f6-5ee8214268ca",
   "metadata": {},
   "outputs": [
    {
     "data": {
      "text/plain": [
       "'My Name Is Ajay'"
      ]
     },
     "execution_count": 136,
     "metadata": {},
     "output_type": "execute_result"
    }
   ],
   "source": [
    "s.title()"
   ]
  },
  {
   "cell_type": "code",
   "execution_count": 137,
   "id": "e5f3697a-7c85-48c2-8ce4-e24d745a97f5",
   "metadata": {},
   "outputs": [
    {
     "data": {
      "text/plain": [
       "'My name is ajay'"
      ]
     },
     "execution_count": 137,
     "metadata": {},
     "output_type": "execute_result"
    }
   ],
   "source": [
    "s.capitalize()"
   ]
  },
  {
   "cell_type": "code",
   "execution_count": 138,
   "id": "0971d0df-1c4a-4777-9bfc-a88c3b5d431a",
   "metadata": {},
   "outputs": [
    {
     "data": {
      "text/plain": [
       "'My name is ajay'"
      ]
     },
     "execution_count": 138,
     "metadata": {},
     "output_type": "execute_result"
    }
   ],
   "source": [
    "s"
   ]
  },
  {
   "cell_type": "code",
   "execution_count": 140,
   "id": "61ba41b6-3efc-4aca-aa56-bcdf0e5ec6e1",
   "metadata": {},
   "outputs": [
    {
     "data": {
      "text/plain": [
       "['My', 'name', 'is', 'ajay']"
      ]
     },
     "execution_count": 140,
     "metadata": {},
     "output_type": "execute_result"
    }
   ],
   "source": [
    "s.split(' ')"
   ]
  },
  {
   "cell_type": "code",
   "execution_count": 141,
   "id": "e21b23ad-93c4-43d7-83da-265ed375c8de",
   "metadata": {},
   "outputs": [
    {
     "data": {
      "text/plain": [
       "'My name is ajay'"
      ]
     },
     "execution_count": 141,
     "metadata": {},
     "output_type": "execute_result"
    }
   ],
   "source": [
    "s"
   ]
  },
  {
   "cell_type": "code",
   "execution_count": 142,
   "id": "59d867d7-8fcd-45da-928a-0f8172979892",
   "metadata": {},
   "outputs": [
    {
     "data": {
      "text/plain": [
       "'My name is bijay'"
      ]
     },
     "execution_count": 142,
     "metadata": {},
     "output_type": "execute_result"
    }
   ],
   "source": [
    "s.replace('ajay','bijay')"
   ]
  },
  {
   "cell_type": "code",
   "execution_count": 143,
   "id": "365fbcb6-6a7f-446a-8ed6-a3963dc291f0",
   "metadata": {},
   "outputs": [],
   "source": [
    "# Article Calcutta >> Kolkata"
   ]
  },
  {
   "cell_type": "code",
   "execution_count": 144,
   "id": "b4e9fbf8-9204-44a2-83fd-7b9aa2b7d879",
   "metadata": {},
   "outputs": [],
   "source": [
    "s=\"      ram\""
   ]
  },
  {
   "cell_type": "code",
   "execution_count": 145,
   "id": "ef97215f-5bc8-44cd-b47b-278836d99f7b",
   "metadata": {},
   "outputs": [
    {
     "data": {
      "text/plain": [
       "'      ram'"
      ]
     },
     "execution_count": 145,
     "metadata": {},
     "output_type": "execute_result"
    }
   ],
   "source": [
    "s.rstrip()"
   ]
  },
  {
   "cell_type": "code",
   "execution_count": 146,
   "id": "cca27deb-dbc5-4d9d-a187-94353e42bf38",
   "metadata": {},
   "outputs": [
    {
     "data": {
      "text/plain": [
       "'ram'"
      ]
     },
     "execution_count": 146,
     "metadata": {},
     "output_type": "execute_result"
    }
   ],
   "source": [
    "s.lstrip()"
   ]
  },
  {
   "cell_type": "code",
   "execution_count": 148,
   "id": "cd68480c-6ed6-4023-81d6-dcdc4196377f",
   "metadata": {},
   "outputs": [
    {
     "data": {
      "text/plain": [
       "'ffffffffff      ramfffffffffff'"
      ]
     },
     "execution_count": 148,
     "metadata": {},
     "output_type": "execute_result"
    }
   ],
   "source": [
    "s.center(30 ,'f')"
   ]
  },
  {
   "cell_type": "code",
   "execution_count": 149,
   "id": "722fae19-ed65-4f9c-89c0-0c0b535452ad",
   "metadata": {},
   "outputs": [
    {
     "data": {
      "text/plain": [
       "True"
      ]
     },
     "execution_count": 149,
     "metadata": {},
     "output_type": "execute_result"
    }
   ],
   "source": [
    "s1.isalpha()"
   ]
  },
  {
   "cell_type": "code",
   "execution_count": 150,
   "id": "075e9e6c-4b2e-4318-8c98-92ce66236317",
   "metadata": {},
   "outputs": [
    {
     "data": {
      "text/plain": [
       "False"
      ]
     },
     "execution_count": 150,
     "metadata": {},
     "output_type": "execute_result"
    }
   ],
   "source": [
    "s1.isupper()"
   ]
  },
  {
   "cell_type": "code",
   "execution_count": 151,
   "id": "42b3ba70-c467-4e5b-9565-a897beb77b94",
   "metadata": {},
   "outputs": [
    {
     "data": {
      "text/plain": [
       "False"
      ]
     },
     "execution_count": 151,
     "metadata": {},
     "output_type": "execute_result"
    }
   ],
   "source": [
    "s1.isnumeric()"
   ]
  },
  {
   "cell_type": "code",
   "execution_count": 160,
   "id": "43794bc3-e878-4c9c-8a57-8b9767cbed57",
   "metadata": {},
   "outputs": [],
   "source": [
    "l1= [\"Ram\", \"Mohan\",1,2,3]"
   ]
  },
  {
   "cell_type": "code",
   "execution_count": 153,
   "id": "eb2799c5-069d-4f11-8119-0fd9df98400c",
   "metadata": {},
   "outputs": [],
   "source": [
    "l2=[3,4]"
   ]
  },
  {
   "cell_type": "code",
   "execution_count": 155,
   "id": "d89b24b1-c869-487d-a496-4236cfb0d1e3",
   "metadata": {},
   "outputs": [],
   "source": [
    "l1.append(l2)"
   ]
  },
  {
   "cell_type": "code",
   "execution_count": 161,
   "id": "98b4a757-9634-48f4-ad83-2c04618c3b4a",
   "metadata": {},
   "outputs": [
    {
     "data": {
      "text/plain": [
       "['Ram', 'Mohan', 1, 2, 3]"
      ]
     },
     "execution_count": 161,
     "metadata": {},
     "output_type": "execute_result"
    }
   ],
   "source": [
    "l1"
   ]
  },
  {
   "cell_type": "code",
   "execution_count": 162,
   "id": "51590bef-2496-41dd-bd85-6b8b4192e22b",
   "metadata": {},
   "outputs": [
    {
     "data": {
      "text/plain": [
       "['Ram', 'Mohan', 1, 2, 3, 3, 4]"
      ]
     },
     "execution_count": 162,
     "metadata": {},
     "output_type": "execute_result"
    }
   ],
   "source": [
    "l1+l2"
   ]
  },
  {
   "cell_type": "code",
   "execution_count": 163,
   "id": "e26a4f16-b060-43a1-9797-98ec6ba3f418",
   "metadata": {},
   "outputs": [],
   "source": [
    "l1.extend(l2)"
   ]
  },
  {
   "cell_type": "code",
   "execution_count": 164,
   "id": "0bc015b0-40ac-4d29-b4cb-f6ab52b97d1a",
   "metadata": {},
   "outputs": [
    {
     "data": {
      "text/plain": [
       "['Ram', 'Mohan', 1, 2, 3, 3, 4]"
      ]
     },
     "execution_count": 164,
     "metadata": {},
     "output_type": "execute_result"
    }
   ],
   "source": [
    "l1"
   ]
  },
  {
   "cell_type": "code",
   "execution_count": 165,
   "id": "94d937c3-fd12-45fb-a82c-c9a0b138c06c",
   "metadata": {},
   "outputs": [
    {
     "data": {
      "text/plain": [
       "[3, 4]"
      ]
     },
     "execution_count": 165,
     "metadata": {},
     "output_type": "execute_result"
    }
   ],
   "source": [
    "l2"
   ]
  },
  {
   "cell_type": "code",
   "execution_count": 166,
   "id": "3a67d274-4ed3-472a-91c8-dafe41547251",
   "metadata": {},
   "outputs": [],
   "source": [
    "l2.insert(0,\"pwskills\")"
   ]
  },
  {
   "cell_type": "code",
   "execution_count": 167,
   "id": "a39df851-261f-4c5f-b4bf-40773144209b",
   "metadata": {},
   "outputs": [],
   "source": [
    "l2[0]=\"ajay\""
   ]
  },
  {
   "cell_type": "code",
   "execution_count": 168,
   "id": "d4043e0d-487a-4ae1-b54e-d0126d8af621",
   "metadata": {},
   "outputs": [
    {
     "data": {
      "text/plain": [
       "['ajay', 3, 4]"
      ]
     },
     "execution_count": 168,
     "metadata": {},
     "output_type": "execute_result"
    }
   ],
   "source": [
    "l2"
   ]
  },
  {
   "cell_type": "code",
   "execution_count": 169,
   "id": "8b581ce8-27b8-49fc-b243-9b7fd7c33f3d",
   "metadata": {},
   "outputs": [
    {
     "data": {
      "text/plain": [
       "4"
      ]
     },
     "execution_count": 169,
     "metadata": {},
     "output_type": "execute_result"
    }
   ],
   "source": [
    "l2.pop()"
   ]
  },
  {
   "cell_type": "code",
   "execution_count": 170,
   "id": "ce7c558d-4b68-43b2-acad-6d54968702c7",
   "metadata": {},
   "outputs": [
    {
     "data": {
      "text/plain": [
       "['ajay', 3]"
      ]
     },
     "execution_count": 170,
     "metadata": {},
     "output_type": "execute_result"
    }
   ],
   "source": [
    "l2"
   ]
  },
  {
   "cell_type": "code",
   "execution_count": 171,
   "id": "e76fb6e5-5932-445d-9fcf-8931cdffabdb",
   "metadata": {},
   "outputs": [],
   "source": [
    "del l2"
   ]
  },
  {
   "cell_type": "code",
   "execution_count": 172,
   "id": "226d4bbe-d4d0-444b-accb-6e0f35467790",
   "metadata": {},
   "outputs": [
    {
     "ename": "NameError",
     "evalue": "name 'l2' is not defined",
     "output_type": "error",
     "traceback": [
      "\u001b[0;31m---------------------------------------------------------------------------\u001b[0m",
      "\u001b[0;31mNameError\u001b[0m                                 Traceback (most recent call last)",
      "Cell \u001b[0;32mIn[172], line 1\u001b[0m\n\u001b[0;32m----> 1\u001b[0m \u001b[43ml2\u001b[49m\n",
      "\u001b[0;31mNameError\u001b[0m: name 'l2' is not defined"
     ]
    }
   ],
   "source": [
    "l2"
   ]
  },
  {
   "cell_type": "code",
   "execution_count": 174,
   "id": "72ce6881-98ae-49d4-ae97-286cc4c180c1",
   "metadata": {},
   "outputs": [],
   "source": [
    "l1.remove(2)"
   ]
  },
  {
   "cell_type": "code",
   "execution_count": 175,
   "id": "d08b71c1-801b-4b92-93dd-4b3d183491f1",
   "metadata": {},
   "outputs": [
    {
     "data": {
      "text/plain": [
       "['Ram', 'Mohan', 1, 3, 3, 4]"
      ]
     },
     "execution_count": 175,
     "metadata": {},
     "output_type": "execute_result"
    }
   ],
   "source": [
    "l1"
   ]
  },
  {
   "cell_type": "code",
   "execution_count": 176,
   "id": "2610df39-2e00-408e-976b-874ef738ed5e",
   "metadata": {},
   "outputs": [],
   "source": [
    "l1.clear()"
   ]
  },
  {
   "cell_type": "code",
   "execution_count": 177,
   "id": "253e138a-e221-4c59-a237-e2b7bb5a6631",
   "metadata": {},
   "outputs": [
    {
     "data": {
      "text/plain": [
       "[]"
      ]
     },
     "execution_count": 177,
     "metadata": {},
     "output_type": "execute_result"
    }
   ],
   "source": [
    "l1"
   ]
  },
  {
   "cell_type": "code",
   "execution_count": 178,
   "id": "078f4186-a1d0-4828-8262-b6583d8f4eb1",
   "metadata": {},
   "outputs": [],
   "source": [
    "l1=[2,3,4]\n",
    "l2=[5,6]\n",
    "l1.extend(l2)"
   ]
  },
  {
   "cell_type": "code",
   "execution_count": 179,
   "id": "0044f64e-bc2a-4cec-b63a-ccd8083994ac",
   "metadata": {},
   "outputs": [
    {
     "data": {
      "text/plain": [
       "[2, 3, 4, 5, 6]"
      ]
     },
     "execution_count": 179,
     "metadata": {},
     "output_type": "execute_result"
    }
   ],
   "source": [
    "l1"
   ]
  }
 ],
 "metadata": {
  "kernelspec": {
   "display_name": "Python 3 (ipykernel)",
   "language": "python",
   "name": "python3"
  },
  "language_info": {
   "codemirror_mode": {
    "name": "ipython",
    "version": 3
   },
   "file_extension": ".py",
   "mimetype": "text/x-python",
   "name": "python",
   "nbconvert_exporter": "python",
   "pygments_lexer": "ipython3",
   "version": "3.10.8"
  }
 },
 "nbformat": 4,
 "nbformat_minor": 5
}
